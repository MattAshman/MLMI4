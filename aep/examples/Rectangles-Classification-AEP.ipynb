{
 "cells": [
  {
   "cell_type": "code",
   "execution_count": 1,
   "metadata": {},
   "outputs": [],
   "source": [
    "import numpy as np\n",
    "import pdb\n",
    "# import matplotlib\n",
    "# matplotlib.use('Agg')\n",
    "import matplotlib.pylab as plt\n",
    "from scipy import special\n",
    "\n",
    "from context import aep\n",
    "from datautils import step, spiral\n",
    "from context import config"
   ]
  },
  {
   "cell_type": "code",
   "execution_count": 2,
   "metadata": {
    "scrolled": false
   },
   "outputs": [],
   "source": [
    "import os\n",
    "data_path = '/tmp'\n",
    "train_file, test_file = [os.path.join(data_path,\n",
    "                                      'rectangles_im_' + ds + '.amat') \n",
    "                         for ds in ['train','test']]"
   ]
  },
  {
   "cell_type": "code",
   "execution_count": 9,
   "metadata": {},
   "outputs": [
    {
     "name": "stdout",
     "output_type": "stream",
     "text": [
      "((12000, 784), (50000, 784))\n",
      "((12000, 1), (50000, 1))\n"
     ]
    }
   ],
   "source": [
    "def load_data(filename):\n",
    "    file = open(filename,'rt')\n",
    "    x = np.array([line.split()[:-1] for line in file.readlines()], np.float64)\n",
    "    file = open(filename,'rt')\n",
    "    y = np.array([0 if line.split()[-1]=='0.0000000e+00' else 1 for line in file.readlines()], np.int32)\n",
    "    return x,y\n",
    "\n",
    "x_train, y_train = load_data(train_file)\n",
    "x_test, y_test = load_data(test_file)\n",
    "y_train = np.reshape(y_train,(-1,1))\n",
    "y_test = np.reshape(y_test,(-1,1))\n",
    "print(x_train.shape, x_test.shape)\n",
    "print(y_train.shape, y_test.shape)"
   ]
  },
  {
   "cell_type": "code",
   "execution_count": 4,
   "metadata": {},
   "outputs": [],
   "source": [
    "y_train[np.where(y_train == 0)[0]] = -1"
   ]
  },
  {
   "cell_type": "code",
   "execution_count": null,
   "metadata": {},
   "outputs": [],
   "source": [
    "M = 100 #number of inducing points\n",
    "hidden_size = [30,30] #dimensions of hidden layers\n",
    "model = aep.SDGPR(x_train, y_train, M, hidden_size, lik='Probit')\n",
    "mb_size = 1000 #mini-batch size\n",
    "model.optimise(method='adam', alpha=1.0, maxiter=1000,\n",
    "                mb_size=mb_size, adam_lr=0.001)"
   ]
  },
  {
   "cell_type": "code",
   "execution_count": 6,
   "metadata": {},
   "outputs": [],
   "source": [
    "from scipy import special\n",
    "def inv_probit(x):\n",
    "    jitter = 1e-3  # ensures output is strictly between 0 and 1\n",
    "    return 0.5 * (1.0 + special.erf(x / np.sqrt(2.0))) \\\n",
    "        * (1 - 2 * jitter) + jitter\n",
    "def assess_model_dgp(model, X_batch, Y_batch):\n",
    "    mf, vf = model.predict_f_mm_linearMean(X_batch)\n",
    "    p = inv_probit(mf / np.sqrt(1 + vf))\n",
    "    a = ((p>0.5).astype(int) == Y_batch.astype(int))\n",
    "    l = np.log(np.where(np.equal(Y_batch, 1), p, 1 - p))\n",
    "    return l,a"
   ]
  },
  {
   "cell_type": "code",
   "execution_count": 7,
   "metadata": {},
   "outputs": [],
   "source": [
    "def batch_assess(model, assess_model, X, Y):\n",
    "    n_batches = max(int(len(X)/1000), 1)\n",
    "    lik, acc = [], []\n",
    "    for X_batch, Y_batch in zip(np.split(X, n_batches), np.split(Y, n_batches)):\n",
    "        l, a = assess_model(model, X_batch, Y_batch)\n",
    "        lik.append(l)\n",
    "        acc.append(a)\n",
    "    lik = np.concatenate(lik, 0)\n",
    "    acc = np.array(np.concatenate(acc, 0), dtype=float)\n",
    "    return np.average(lik), np.average(acc)"
   ]
  },
  {
   "cell_type": "code",
   "execution_count": 48,
   "metadata": {},
   "outputs": [
    {
     "name": "stdout",
     "output_type": "stream",
     "text": [
      "aep test lik: -0.4803, test acc 0.7546\n"
     ]
    }
   ],
   "source": [
    "l,a = batch_assess(model, assess_model_dgp, x_test, y_test)\n",
    "print('aep test lik: {:.4f}, test acc {:.4f}'.format(l, a))"
   ]
  },
  {
   "cell_type": "code",
   "execution_count": null,
   "metadata": {},
   "outputs": [],
   "source": []
  }
 ],
 "metadata": {
  "kernelspec": {
   "display_name": "Python 2",
   "language": "python",
   "name": "python2"
  },
  "language_info": {
   "codemirror_mode": {
    "name": "ipython",
    "version": 2
   },
   "file_extension": ".py",
   "mimetype": "text/x-python",
   "name": "python",
   "nbconvert_exporter": "python",
   "pygments_lexer": "ipython2",
   "version": "2.7.12"
  }
 },
 "nbformat": 4,
 "nbformat_minor": 2
}
