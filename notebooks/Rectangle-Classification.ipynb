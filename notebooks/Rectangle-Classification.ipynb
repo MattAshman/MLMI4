{
 "cells": [
  {
   "cell_type": "code",
   "execution_count": 1,
   "metadata": {},
   "outputs": [],
   "source": [
    "%matplotlib inline\n",
    "import itertools\n",
    "import numpy as np\n",
    "import numpy.random as rnd\n",
    "import time\n",
    "import gpflow\n",
    "import tensorflow as tf\n",
    "import matplotlib\n",
    "import matplotlib.pyplot as plt\n",
    "from gpflow.ci_utils import ci_niter\n",
    "plt.style.use('ggplot')\n",
    "import os\n",
    "\n",
    "import sys\n",
    "sys.path.append('../code')\n",
    "from dgp import DGP\n",
    "\n",
    "gpflow.config.set_default_summary_fmt('notebook')\n",
    "np.random.seed(0)\n",
    "tf.random.set_seed(0)"
   ]
  },
  {
   "cell_type": "markdown",
   "metadata": {},
   "source": [
    "## Load Data"
   ]
  },
  {
   "cell_type": "code",
   "execution_count": 2,
   "metadata": {},
   "outputs": [
    {
     "name": "stdout",
     "output_type": "stream",
     "text": [
      "--2020-02-12 20:23:41--  http://www.iro.umontreal.ca/~lisa/icml2007data/rectangles_images.zip\n",
      "Resolving www.iro.umontreal.ca (www.iro.umontreal.ca)... 132.204.26.36\n",
      "Connecting to www.iro.umontreal.ca (www.iro.umontreal.ca)|132.204.26.36|:80... connected.\n",
      "HTTP request sent, awaiting response... 200 OK\n",
      "Length: 85344876 (81M) [application/zip]\n",
      "Saving to: ‘/tmp/rectangles_images.zip’\n",
      "\n",
      "/tmp/rectangles_ima 100%[===================>]  81.39M  10.6MB/s    in 13s     \n",
      "\n",
      "2020-02-12 20:23:54 (6.32 MB/s) - ‘/tmp/rectangles_images.zip’ saved [85344876/85344876]\n",
      "\n"
     ]
    }
   ],
   "source": [
    "!wget --no-check-certificate \\\n",
    "    http://www.iro.umontreal.ca/~lisa/icml2007data/rectangles_images.zip \\\n",
    "    -O /tmp/rectangles_images.zip\n",
    "import zipfile\n",
    "local_zip = '/tmp/rectangles_images.zip' # local path of downloaded .zip file\n",
    "zip_ref = zipfile.ZipFile(local_zip, 'r')\n",
    "zip_ref.extractall('/tmp') # contents are extracted to '/tmp' folder\n",
    "zip_ref.close()"
   ]
  },
  {
   "cell_type": "code",
   "execution_count": 2,
   "metadata": {},
   "outputs": [],
   "source": [
    "data_path = '/tmp'\n",
    "train_file, test_file = [os.path.join(data_path,\n",
    "                                      'rectangles_im_' + ds + '.amat') \n",
    "                         for ds in ['train','test']]"
   ]
  },
  {
   "cell_type": "code",
   "execution_count": 3,
   "metadata": {},
   "outputs": [],
   "source": [
    "def load_data(filename):\n",
    "    file = open(filename,'rt')\n",
    "    x = np.array([line.split()[:-1] for line in file.readlines()], np.float64)\n",
    "    file = open(filename,'rt')\n",
    "    y = np.array([0 if line.split()[-1]=='0.0000000e+00' else 1 for line in file.readlines()], np.int32)\n",
    "    return x,y\n",
    "\n",
    "x_train, y_train = load_data(train_file)\n",
    "x_test, y_test = load_data(test_file)"
   ]
  },
  {
   "cell_type": "code",
   "execution_count": 4,
   "metadata": {},
   "outputs": [],
   "source": [
    "y_train = np.reshape(y_train,(-1,1))\n",
    "y_test = np.reshape(y_test,(-1,1))"
   ]
  },
  {
   "cell_type": "code",
   "execution_count": 5,
   "metadata": {},
   "outputs": [
    {
     "name": "stdout",
     "output_type": "stream",
     "text": [
      "(12000, 784) (50000, 784)\n",
      "(12000, 1) (50000, 1)\n"
     ]
    }
   ],
   "source": [
    "print(x_train.shape, x_test.shape)\n",
    "print(y_train.shape, y_test.shape)"
   ]
  },
  {
   "cell_type": "code",
   "execution_count": 6,
   "metadata": {},
   "outputs": [],
   "source": [
    "minibatch_size = 1000\n",
    "train_ds = tf.data.Dataset.from_tensor_slices((x_train, y_train)).repeat().shuffle(10000)"
   ]
  },
  {
   "cell_type": "code",
   "execution_count": 7,
   "metadata": {},
   "outputs": [],
   "source": [
    "N = x_train.shape[0]\n",
    "D = x_train.shape[1]"
   ]
  },
  {
   "cell_type": "markdown",
   "metadata": {},
   "source": [
    "## Define SVGP and DGP model"
   ]
  },
  {
   "cell_type": "code",
   "execution_count": 8,
   "metadata": {},
   "outputs": [],
   "source": [
    "from scipy.stats import mode\n",
    "from scipy.cluster.vq import kmeans2\n",
    "\n",
    "# number of inducing points\n",
    "M = 100\n",
    "Z = kmeans2(x_train,M,minit='points')[0]"
   ]
  },
  {
   "cell_type": "code",
   "execution_count": 9,
   "metadata": {},
   "outputs": [],
   "source": [
    "likelihood = gpflow.likelihoods.Bernoulli()\n",
    "kernel = gpflow.kernels.SquaredExponential(variance=2., lengthscale=5.)"
   ]
  },
  {
   "cell_type": "code",
   "execution_count": 10,
   "metadata": {},
   "outputs": [],
   "source": [
    "m = gpflow.models.SVGP(kernel=kernel, likelihood=likelihood,\n",
    "    inducing_variable=Z, num_latent=1, whiten=True, q_diag=True)"
   ]
  },
  {
   "cell_type": "code",
   "execution_count": 11,
   "metadata": {},
   "outputs": [],
   "source": [
    "Z_500 = kmeans2(x_train,500,minit='points')[0]\n",
    "m_500 = gpflow.models.SVGP(kernel=kernel, likelihood=likelihood,\n",
    "    inducing_variable=Z_500, num_latent=1, whiten=True, q_diag=True)"
   ]
  },
  {
   "cell_type": "code",
   "execution_count": 110,
   "metadata": {},
   "outputs": [],
   "source": [
    "def make_DGP(L):\n",
    "    kernels = []\n",
    "    for l in range(L):\n",
    "        k = gpflow.kernels.SquaredExponential(variance=2., lengthscale=5.)\n",
    "        kernels.append(k)\n",
    "    dims = [784,]\n",
    "    for l in range(L-1):\n",
    "        dims.append(30)\n",
    "    dims.append(1)\n",
    "        \n",
    "    m_dgp = DGP(x_train, y_train, Z, dims, kernels, likelihood,\n",
    "                white=True, num_samples=1, num_data=N, minibatch_size=minibatch_size)\n",
    "    \n",
    "#     Initialise the layers to near deterministic\n",
    "    for layer in m_dgp.layers[:-1]:\n",
    "        layer.q_sqrt = gpflow.base.Parameter(layer.q_sqrt.value() * 1e-5, \n",
    "                                 transform=gpflow.utilities.triangular())\n",
    "    print(dims)\n",
    "    return m_dgp"
   ]
  },
  {
   "cell_type": "code",
   "execution_count": 13,
   "metadata": {},
   "outputs": [],
   "source": [
    "def make_DGP_ARD(L):\n",
    "    dims = [784,]\n",
    "    for l in range(L-1):\n",
    "        dims.append(30)\n",
    "    dims.append(1)\n",
    "    \n",
    "    kernels = []\n",
    "    for dim in dims[:-1]:\n",
    "        k = gpflow.kernels.SquaredExponential(variance=2., lengthscale=[2.]*dim)\n",
    "        kernels.append(k)\n",
    "    \n",
    "        \n",
    "    m_dgp = DGP(x_train, y_train, Z, dims, kernels, likelihood,\n",
    "                white=True, num_samples=1, num_data=N, minibatch_size=minibatch_size)\n",
    "    \n",
    "#     Initialise the layers to near deterministic\n",
    "    for layer in m_dgp.layers[:-1]:\n",
    "        layer.q_sqrt = gpflow.base.Parameter(layer.q_sqrt.value() * 1e-5, \n",
    "                                 transform=gpflow.utilities.triangular())\n",
    "    print(dims)\n",
    "    return m_dgp"
   ]
  },
  {
   "cell_type": "code",
   "execution_count": 111,
   "metadata": {},
   "outputs": [
    {
     "name": "stdout",
     "output_type": "stream",
     "text": [
      "[784, 30, 1]\n"
     ]
    }
   ],
   "source": [
    "dgp2 = make_DGP(2)"
   ]
  },
  {
   "cell_type": "code",
   "execution_count": 40,
   "metadata": {},
   "outputs": [
    {
     "name": "stdout",
     "output_type": "stream",
     "text": [
      "[784, 30, 1]\n",
      "[784, 30, 30, 1]\n"
     ]
    }
   ],
   "source": [
    "dgp2_ard = make_DGP_ARD(2)\n",
    "dgp3_ard = make_DGP_ARD(3)"
   ]
  },
  {
   "cell_type": "code",
   "execution_count": 96,
   "metadata": {
    "scrolled": false
   },
   "outputs": [
    {
     "name": "stdout",
     "output_type": "stream",
     "text": [
      "[784, 30, 30, 1]\n"
     ]
    }
   ],
   "source": [
    "dgp3 = make_DGP(3)"
   ]
  },
  {
   "cell_type": "code",
   "execution_count": 103,
   "metadata": {},
   "outputs": [
    {
     "name": "stdout",
     "output_type": "stream",
     "text": [
      "[784, 30, 30, 1]\n"
     ]
    }
   ],
   "source": [
    "dgp3_50 = make_DGP(3)"
   ]
  },
  {
   "cell_type": "code",
   "execution_count": 143,
   "metadata": {},
   "outputs": [
    {
     "name": "stdout",
     "output_type": "stream",
     "text": [
      "[784, 30, 30, 1]\n"
     ]
    }
   ],
   "source": [
    "dgp3_adam = make_DGP(3)"
   ]
  },
  {
   "cell_type": "code",
   "execution_count": 90,
   "metadata": {},
   "outputs": [
    {
     "name": "stdout",
     "output_type": "stream",
     "text": [
      "[784, 30, 30, 30, 1]\n"
     ]
    }
   ],
   "source": [
    "dgp4 = make_DGP(4)"
   ]
  },
  {
   "cell_type": "code",
   "execution_count": 147,
   "metadata": {},
   "outputs": [
    {
     "name": "stdout",
     "output_type": "stream",
     "text": [
      "[784, 30, 30, 30, 1]\n"
     ]
    }
   ],
   "source": [
    "dgp4_adam = make_DGP(4)"
   ]
  },
  {
   "cell_type": "code",
   "execution_count": 175,
   "metadata": {},
   "outputs": [
    {
     "data": {
      "text/html": [
       "<table>\n",
       "<thead>\n",
       "<tr><th>name                    </th><th>class    </th><th>transform  </th><th>trainable  </th><th>shape     </th><th>dtype  </th><th>value                                  </th></tr>\n",
       "</thead>\n",
       "<tbody>\n",
       "<tr><td>SVGP.kernel.variance    </td><td>Parameter</td><td>Softplus   </td><td>True       </td><td>()        </td><td>float64</td><td>2.0                                    </td></tr>\n",
       "<tr><td>SVGP.kernel.lengthscale </td><td>Parameter</td><td>Softplus   </td><td>True       </td><td>()        </td><td>float64</td><td>5.0                                    </td></tr>\n",
       "<tr><td>SVGP.inducing_variable.Z</td><td>Parameter</td><td>           </td><td>True       </td><td>(100, 784)</td><td>float64</td><td>[[0.33137255, 0.32838875, 0.33034953...</td></tr>\n",
       "<tr><td>SVGP.q_mu               </td><td>Parameter</td><td>           </td><td>True       </td><td>(100, 1)  </td><td>float64</td><td>[[0....                                </td></tr>\n",
       "<tr><td>SVGP.q_sqrt             </td><td>Parameter</td><td>Softplus   </td><td>True       </td><td>(100, 1)  </td><td>float64</td><td>[[1....                                </td></tr>\n",
       "</tbody>\n",
       "</table>"
      ],
      "text/plain": [
       "<IPython.core.display.HTML object>"
      ]
     },
     "metadata": {},
     "output_type": "display_data"
    }
   ],
   "source": [
    "gpflow.utilities.print_summary(m, fmt='notebook')"
   ]
  },
  {
   "cell_type": "code",
   "execution_count": 156,
   "metadata": {},
   "outputs": [
    {
     "data": {
      "text/html": [
       "<table>\n",
       "<thead>\n",
       "<tr><th>name                    </th><th>class    </th><th>transform  </th><th>trainable  </th><th>shape     </th><th>dtype  </th><th>value                                  </th></tr>\n",
       "</thead>\n",
       "<tbody>\n",
       "<tr><td>SVGP.kernel.variance    </td><td>Parameter</td><td>Softplus   </td><td>True       </td><td>()        </td><td>float64</td><td>0.11993149237214155                    </td></tr>\n",
       "<tr><td>SVGP.kernel.lengthscale </td><td>Parameter</td><td>Softplus   </td><td>True       </td><td>()        </td><td>float64</td><td>5.915717792008286                      </td></tr>\n",
       "<tr><td>SVGP.inducing_variable.Z</td><td>Parameter</td><td>           </td><td>True       </td><td>(500, 784)</td><td>float64</td><td>[[0.46576191, 0.48899682, 0.49835335...</td></tr>\n",
       "<tr><td>SVGP.q_mu               </td><td>Parameter</td><td>           </td><td>True       </td><td>(500, 1)  </td><td>float64</td><td>[[-5.22500141e-02...                   </td></tr>\n",
       "<tr><td>SVGP.q_sqrt             </td><td>Parameter</td><td>Softplus   </td><td>True       </td><td>(500, 1)  </td><td>float64</td><td>[[0.1960269...                         </td></tr>\n",
       "</tbody>\n",
       "</table>"
      ],
      "text/plain": [
       "<IPython.core.display.HTML object>"
      ]
     },
     "metadata": {},
     "output_type": "display_data"
    }
   ],
   "source": [
    "gpflow.utilities.print_summary(m_500, fmt='notebook')"
   ]
  },
  {
   "cell_type": "code",
   "execution_count": 112,
   "metadata": {},
   "outputs": [
    {
     "data": {
      "text/html": [
       "<table>\n",
       "<thead>\n",
       "<tr><th>name                            </th><th>class    </th><th>transform     </th><th>trainable  </th><th>shape         </th><th>dtype  </th><th>value                                                 </th></tr>\n",
       "</thead>\n",
       "<tbody>\n",
       "<tr><td>DGP.layers[0].q_mu              </td><td>Parameter</td><td>              </td><td>True       </td><td>(100, 30)     </td><td>float64</td><td>[[0., 0., 0....                                       </td></tr>\n",
       "<tr><td>DGP.layers[0].q_sqrt            </td><td>Parameter</td><td>FillTriangular</td><td>True       </td><td>(30, 100, 100)</td><td>float64</td><td>[[[1.e-05, 0.e+00, 0.e+00...                          </td></tr>\n",
       "<tr><td>DGP.layers[0].inducing_points.Z </td><td>Parameter</td><td>              </td><td>True       </td><td>(100, 784)    </td><td>float64</td><td>[[0.34771242, 0.3382076, 0.33477346...                </td></tr>\n",
       "<tr><td>DGP.layers[0].kernel.variance   </td><td>Parameter</td><td>Softplus      </td><td>True       </td><td>()            </td><td>float64</td><td>2.0                                                   </td></tr>\n",
       "<tr><td>DGP.layers[0].kernel.lengthscale</td><td>Parameter</td><td>Softplus      </td><td>True       </td><td>()            </td><td>float64</td><td>5.0                                                   </td></tr>\n",
       "<tr><td>DGP.layers[0].mean_function.A   </td><td>Parameter</td><td>              </td><td>False      </td><td>(784, 30)     </td><td>float64</td><td>[[-0.03626653, -0.03429942, 0.0483595...              </td></tr>\n",
       "<tr><td>DGP.layers[0].mean_function.b   </td><td>Parameter</td><td>              </td><td>False      </td><td>(1,)          </td><td>float64</td><td>[0.]                                                  </td></tr>\n",
       "<tr><td>DGP.layers[1].q_mu              </td><td>Parameter</td><td>              </td><td>True       </td><td>(100, 1)      </td><td>float64</td><td>[[0....                                               </td></tr>\n",
       "<tr><td>DGP.layers[1].q_sqrt            </td><td>Parameter</td><td>FillTriangular</td><td>True       </td><td>(1, 100, 100) </td><td>float64</td><td>[[[1., 0., 0....                                      </td></tr>\n",
       "<tr><td>DGP.layers[1].inducing_points.Z </td><td>Parameter</td><td>              </td><td>True       </td><td>(100, 30)     </td><td>float64</td><td>[[-9.75489606e+00, -1.73553149e+00, -1.52179250e+00...</td></tr>\n",
       "<tr><td>DGP.layers[1].kernel.variance   </td><td>Parameter</td><td>Softplus      </td><td>True       </td><td>()            </td><td>float64</td><td>2.0                                                   </td></tr>\n",
       "<tr><td>DGP.layers[1].kernel.lengthscale</td><td>Parameter</td><td>Softplus      </td><td>True       </td><td>()            </td><td>float64</td><td>5.0                                                   </td></tr>\n",
       "</tbody>\n",
       "</table>"
      ],
      "text/plain": [
       "<IPython.core.display.HTML object>"
      ]
     },
     "metadata": {},
     "output_type": "display_data"
    }
   ],
   "source": [
    "gpflow.utilities.print_summary(dgp2, fmt='notebook')"
   ]
  },
  {
   "cell_type": "code",
   "execution_count": 33,
   "metadata": {
    "scrolled": true
   },
   "outputs": [
    {
     "data": {
      "text/html": [
       "<table>\n",
       "<thead>\n",
       "<tr><th>name                            </th><th>class    </th><th>transform     </th><th>trainable  </th><th>shape       </th><th>dtype  </th><th>value                                    </th></tr>\n",
       "</thead>\n",
       "<tbody>\n",
       "<tr><td>DGP.layers[0].q_mu              </td><td>Parameter</td><td>              </td><td>True       </td><td>(50, 30)    </td><td>float64</td><td>[[2.27143786, 0.09974037, -0.40408215... </td></tr>\n",
       "<tr><td>DGP.layers[0].q_sqrt            </td><td>Parameter</td><td>FillTriangular</td><td>True       </td><td>(30, 50, 50)</td><td>float64</td><td>[[[0.32811004, 0., 0....                 </td></tr>\n",
       "<tr><td>DGP.layers[0].inducing_points.Z </td><td>Parameter</td><td>              </td><td>True       </td><td>(50, 784)   </td><td>float64</td><td>[[1.12692882, 0.95909286, 1.22838387...  </td></tr>\n",
       "<tr><td>DGP.layers[0].kernel.variance   </td><td>Parameter</td><td>Softplus      </td><td>True       </td><td>()          </td><td>float64</td><td>2.331352728663176                        </td></tr>\n",
       "<tr><td>DGP.layers[0].kernel.lengthscale</td><td>Parameter</td><td>Softplus      </td><td>True       </td><td>()          </td><td>float64</td><td>16.149704381994326                       </td></tr>\n",
       "<tr><td>DGP.layers[0].mean_function.A   </td><td>Parameter</td><td>              </td><td>False      </td><td>(784, 30)   </td><td>float64</td><td>[[-0.03626653, -0.03429942, 0.0483595... </td></tr>\n",
       "<tr><td>DGP.layers[0].mean_function.b   </td><td>Parameter</td><td>              </td><td>False      </td><td>(1,)        </td><td>float64</td><td>[0.]                                     </td></tr>\n",
       "<tr><td>DGP.layers[1].q_mu              </td><td>Parameter</td><td>              </td><td>True       </td><td>(50, 1)     </td><td>float64</td><td>[[0.20433731...                          </td></tr>\n",
       "<tr><td>DGP.layers[1].q_sqrt            </td><td>Parameter</td><td>FillTriangular</td><td>True       </td><td>(1, 50, 50) </td><td>float64</td><td>[[[0.14096995, 0., 0....                 </td></tr>\n",
       "<tr><td>DGP.layers[1].inducing_points.Z </td><td>Parameter</td><td>              </td><td>True       </td><td>(50, 30)    </td><td>float64</td><td>[[-15.4105648, 1.26860044, -0.10526466...</td></tr>\n",
       "<tr><td>DGP.layers[1].kernel.variance   </td><td>Parameter</td><td>Softplus      </td><td>True       </td><td>()          </td><td>float64</td><td>0.4592060023510206                       </td></tr>\n",
       "<tr><td>DGP.layers[1].kernel.lengthscale</td><td>Parameter</td><td>Softplus      </td><td>True       </td><td>()          </td><td>float64</td><td>5.671804753218356                        </td></tr>\n",
       "</tbody>\n",
       "</table>"
      ],
      "text/plain": [
       "<IPython.core.display.HTML object>"
      ]
     },
     "metadata": {},
     "output_type": "display_data"
    }
   ],
   "source": [
    "gpflow.utilities.print_summary(dgp2, fmt='notebook')"
   ]
  },
  {
   "cell_type": "code",
   "execution_count": 185,
   "metadata": {
    "scrolled": true
   },
   "outputs": [
    {
     "data": {
      "text/html": [
       "<table>\n",
       "<thead>\n",
       "<tr><th>name                            </th><th>class    </th><th>transform     </th><th>trainable  </th><th>shape         </th><th>dtype  </th><th>value                                               </th></tr>\n",
       "</thead>\n",
       "<tbody>\n",
       "<tr><td>DGP.layers[0].q_mu              </td><td>Parameter</td><td>              </td><td>True       </td><td>(100, 30)     </td><td>float64</td><td>[[0.58523674, 0.34974512, -0.04716433...            </td></tr>\n",
       "<tr><td>DGP.layers[0].q_sqrt            </td><td>Parameter</td><td>FillTriangular</td><td>True       </td><td>(30, 100, 100)</td><td>float64</td><td>[[[2.02569840e-01, 0.00000000e+00, 0.00000000e+00...</td></tr>\n",
       "<tr><td>DGP.layers[0].inducing_points.Z </td><td>Parameter</td><td>              </td><td>True       </td><td>(100, 784)    </td><td>float64</td><td>[[0.42256769, 0.43536203, 0.47497946...             </td></tr>\n",
       "<tr><td>DGP.layers[0].kernel.variance   </td><td>Parameter</td><td>Softplus      </td><td>True       </td><td>()            </td><td>float64</td><td>0.17692920954976846                                 </td></tr>\n",
       "<tr><td>DGP.layers[0].kernel.lengthscale</td><td>Parameter</td><td>Softplus      </td><td>True       </td><td>(784,)        </td><td>float64</td><td>[10.47164264, 10.94599033, 10.76220985...           </td></tr>\n",
       "<tr><td>DGP.layers[0].mean_function.A   </td><td>Parameter</td><td>              </td><td>False      </td><td>(784, 30)     </td><td>float64</td><td>[[-0.03626653, -0.03429942, 0.0483595...            </td></tr>\n",
       "<tr><td>DGP.layers[0].mean_function.b   </td><td>Parameter</td><td>              </td><td>False      </td><td>(1,)          </td><td>float64</td><td>[0.]                                                </td></tr>\n",
       "<tr><td>DGP.layers[1].q_mu              </td><td>Parameter</td><td>              </td><td>True       </td><td>(100, 1)      </td><td>float64</td><td>[[2.38412736...                                     </td></tr>\n",
       "<tr><td>DGP.layers[1].q_sqrt            </td><td>Parameter</td><td>FillTriangular</td><td>True       </td><td>(1, 100, 100) </td><td>float64</td><td>[[[0.58817656, 0., 0....                            </td></tr>\n",
       "<tr><td>DGP.layers[1].inducing_points.Z </td><td>Parameter</td><td>              </td><td>True       </td><td>(100, 30)     </td><td>float64</td><td>[[-15.37682052, -2.18436687, -5.25553959...         </td></tr>\n",
       "<tr><td>DGP.layers[1].kernel.variance   </td><td>Parameter</td><td>Softplus      </td><td>True       </td><td>()            </td><td>float64</td><td>0.5210130776045063                                  </td></tr>\n",
       "<tr><td>DGP.layers[1].kernel.lengthscale</td><td>Parameter</td><td>Softplus      </td><td>True       </td><td>(30,)         </td><td>float64</td><td>[14.24932018, 6.71125877, 5.21015448...             </td></tr>\n",
       "</tbody>\n",
       "</table>"
      ],
      "text/plain": [
       "<IPython.core.display.HTML object>"
      ]
     },
     "metadata": {},
     "output_type": "display_data"
    }
   ],
   "source": [
    "gpflow.utilities.print_summary(dgp2_ard, fmt='notebook')"
   ]
  },
  {
   "cell_type": "code",
   "execution_count": 186,
   "metadata": {
    "scrolled": true
   },
   "outputs": [
    {
     "data": {
      "text/plain": [
       "<tf.Tensor: id=197425413, shape=(784,), dtype=float64, numpy=\n",
       "array([10.47164264, 10.94599033, 10.76220985, 10.93497579, 11.23854883,\n",
       "       10.89745549, 10.25039896, 10.66902026, 10.5386202 , 10.09551118,\n",
       "       10.08440274,  9.11412653,  8.61568744,  8.99907451,  4.86947802,\n",
       "        4.64821102,  7.38468017,  7.52157106,  7.43003448,  8.37274605,\n",
       "        9.36442098, 10.38022668, 10.20515945,  9.82188471, 11.01563425,\n",
       "       11.21198407, 10.92692732, 10.56797782, 11.16722231, 10.94935882,\n",
       "       11.01194579, 10.53266584, 10.82259212, 10.32216926, 10.48291343,\n",
       "       10.89525139, 10.68852551,  9.88483813, 10.70975785, 10.58312378,\n",
       "       10.31164752, 10.04712524, 10.58472597, 10.87713824, 10.97734496,\n",
       "       10.81360436, 10.95655566, 10.67622088, 10.77791754, 10.89429728,\n",
       "       10.02577365, 10.01535046, 10.01421891, 10.65664966, 11.03848659,\n",
       "       10.78946777, 11.25053591, 10.83460329, 10.60910992, 10.77993157,\n",
       "       10.63947169,  9.51266169,  9.57449187, 10.6740585 ,  9.90663058,\n",
       "        9.52464156,  9.87210786, 10.2948257 , 10.75098218,  9.75007875,\n",
       "       10.58258462, 10.57940166,  9.69187557, 10.30031954, 10.58708093,\n",
       "       10.35813607, 10.48395327, 10.66101972,  9.89012715,  8.61906831,\n",
       "        9.60966292, 10.90203178, 10.78310652, 10.63629304, 10.93206405,\n",
       "       10.66114989, 11.02679479, 10.45869942, 10.61265416,  9.71684945,\n",
       "        9.71341006, 10.22651747, 10.55891229,  8.90204354,  8.88052379,\n",
       "       10.59199122, 10.98381478,  9.90633622, 10.43063113, 10.2658346 ,\n",
       "        9.98191566,  9.17065673,  8.95341407,  9.29367357,  9.31674514,\n",
       "        9.59468006,  9.89550224,  9.75367104, 10.31572974, 10.74748806,\n",
       "       10.61373086, 10.42511999, 10.82550598, 10.00901582, 10.01258848,\n",
       "       10.21204784,  9.83315725,  9.98884136,  8.25529587,  7.40290487,\n",
       "        9.42413266,  9.45900302, 10.32368914, 10.53134681, 10.31049194,\n",
       "        9.27345049,  9.52048324, 10.16190787,  8.86633242,  9.60967085,\n",
       "       10.02872363,  9.45450372, 10.13101669,  9.56346128,  7.31305134,\n",
       "       10.1203463 , 10.34919599, 10.4149042 , 10.65084265, 10.2999221 ,\n",
       "       10.88152649, 10.67521562, 10.3825011 , 10.74500141, 10.15325505,\n",
       "       10.91629266,  9.92958173,  6.17574488,  6.42447609,  3.91608959,\n",
       "        7.79600971,  8.87327482,  9.31668902,  5.66982356,  9.61974937,\n",
       "       10.07217242,  8.99955355,  9.51544073,  9.67414714,  8.51313365,\n",
       "        8.03678039,  8.25273607,  7.7912207 ,  8.76901474,  9.22232051,\n",
       "       10.14970799, 10.16742397, 10.25332025,  9.8219417 , 10.68247228,\n",
       "       10.16570669, 10.30524486,  9.73692289,  9.9116365 ,  9.56642578,\n",
       "        8.94133037,  8.31009315,  5.64520128,  6.02994709,  9.4806191 ,\n",
       "        8.31901684,  4.54422831,  7.14304734,  7.40994298,  5.53237109,\n",
       "        9.25627008,  9.45473142, 10.10196363,  7.34194516,  8.84610585,\n",
       "        6.59652991,  6.98006153,  6.53466766,  9.08524257, 10.60074992,\n",
       "       10.42375275,  9.60931269, 10.08453347,  8.60679881,  8.43177018,\n",
       "        9.76132841,  7.21803726,  9.16573463,  8.5927359 ,  8.92259191,\n",
       "        1.19966007,  6.86931912,  8.78888403,  0.8253069 ,  7.80268151,\n",
       "        9.40917505,  8.22176865,  1.93779282,  5.76044197,  8.07219788,\n",
       "        9.40029701,  9.41369467,  9.43450637,  7.79011813,  6.74220483,\n",
       "        9.50938713, 10.67752227, 10.49012345,  9.86768558,  8.07133586,\n",
       "       10.02067285,  9.48442881,  7.67523991,  8.49645169,  3.31829094,\n",
       "        6.86686794,  8.29990217,  9.50837799,  7.17545829,  7.65985406,\n",
       "        9.05959812,  9.44915182, 10.46217744, 10.90171173, 10.80943055,\n",
       "        7.03429093,  8.67656559,  8.7095812 ,  9.44189705,  9.19141817,\n",
       "       10.11350236,  9.90978674, 10.11285543, 10.36286671, 10.26885058,\n",
       "        9.78970004, 10.11623949,  5.7691453 ,  9.65410226, 10.4752125 ,\n",
       "        9.93355545, 10.17033036,  8.02871177,  9.73580318,  9.70748958,\n",
       "        9.93961123,  8.95289213,  9.73611736, 10.42045838, 10.60462441,\n",
       "       10.58852353, 10.79986219, 10.15715195,  7.46974824,  5.41771018,\n",
       "        8.39320882,  9.3539001 ,  9.08814278,  9.44898683,  8.45546908,\n",
       "        9.89272819, 10.17961143, 10.65568731, 10.50952923, 10.58993293,\n",
       "        7.30365421,  9.8314767 , 10.04822864,  9.92897679, 10.37021245,\n",
       "        9.63239251,  9.50147813,  9.53008401, 10.68428816, 10.5112414 ,\n",
       "       10.78624048, 10.32789711, 10.56571883, 10.66394919, 10.85617872,\n",
       "        9.69149613,  9.75050908,  8.433497  ,  8.58946832, 10.41444279,\n",
       "        9.30909689,  7.90556489,  8.22647427,  6.70633913, 10.73586315,\n",
       "       10.86642674, 10.61165483, 10.53814685,  7.25948775,  9.23130868,\n",
       "       10.62991562,  9.88688278, 10.0380953 ,  9.21019077,  9.00007579,\n",
       "        8.27387592,  8.59687923, 10.40628367, 10.45907346,  9.09387026,\n",
       "        9.07881561, 10.38477322, 10.70876413, 10.79756987,  9.50789448,\n",
       "        9.09760943,  8.92142791,  8.86263391,  9.99112735,  9.05306265,\n",
       "        7.66518276,  8.34795679, 10.46225443, 10.36250451, 10.31677701,\n",
       "        9.96905727,  8.19320456, 10.13288767, 10.32863304,  8.2809315 ,\n",
       "        9.41204025,  9.3609826 ,  7.96821059,  9.05497184,  9.34617035,\n",
       "       10.60891141, 10.19822447,  9.65528094,  9.21157638,  9.95486083,\n",
       "       10.21458123, 10.47426575,  9.14906512,  9.36809374, 10.03361262,\n",
       "        8.74199596,  8.71420364,  9.53754169,  9.10995161,  9.52936681,\n",
       "       10.78864085,  9.95168704, 10.59433312, 10.77430803,  8.2621491 ,\n",
       "       10.10077086,  9.74948219,  9.64629147, 10.03045959,  9.87663541,\n",
       "        8.30469687,  9.23965938,  7.63397571,  9.36238846,  9.89861915,\n",
       "        9.79247102,  9.04268651,  6.99068299,  8.26550157,  8.82035521,\n",
       "        8.9315206 , 10.15078414,  9.54659848,  9.46793642,  8.6711774 ,\n",
       "        9.26476118,  9.1433604 , 10.23645124, 10.34873187, 10.28694715,\n",
       "       11.00022675, 10.3149229 ,  6.32962857, 10.2860174 , 10.46171013,\n",
       "        8.53419354,  8.23718394,  6.80863529,  6.12144898,  5.27212391,\n",
       "        4.16647285,  7.61007391, 10.09424084, 10.16452974,  1.07887111,\n",
       "        7.91756747,  7.84633499,  9.47536663,  1.18488898,  7.76146634,\n",
       "        5.88011978,  9.159414  ,  9.12582363,  8.2226923 ,  9.40947245,\n",
       "       10.54796192, 10.3872473 ,  9.94996373, 10.76453581, 10.00033938,\n",
       "        5.07308125, 10.7395947 , 10.38515523,  8.37685409,  8.13929386,\n",
       "        7.50927732,  7.31941453,  1.70210332,  4.04572385,  8.78896721,\n",
       "        9.19824746,  9.72981823,  1.96927634,  4.45666944,  6.96472747,\n",
       "        8.5415422 ,  8.73252238,  8.03925509,  0.72041817,  9.21137349,\n",
       "       10.09800279,  6.79003004,  9.4832719 , 10.49527014, 10.50825309,\n",
       "       10.2857798 , 10.69809487, 10.23492029,  8.93136413, 10.04425974,\n",
       "        9.59017166, 10.10577081, 10.07849764,  8.85028179,  7.2167892 ,\n",
       "        5.41856301,  3.9959298 ,  9.35776071,  9.20399318,  6.01513822,\n",
       "        5.52930879,  5.59971326,  6.60271377,  5.96646749,  2.35293419,\n",
       "        7.79122072,  2.66839679,  6.26588462,  3.55817691,  3.93001983,\n",
       "        9.35264619, 10.23038943, 10.44803871, 10.52341306, 10.83358148,\n",
       "        8.95570754,  9.59651984, 10.4787075 ,  8.48057559,  9.31868493,\n",
       "       10.00798855, 10.03490896,  8.37031518,  8.10591316,  8.28645405,\n",
       "       10.05384385,  9.09608702,  2.6894908 ,  7.62997982,  3.39231671,\n",
       "        8.09773627,  2.16300869,  2.02309157,  9.47458547,  9.54839677,\n",
       "        8.23732012,  8.55051096,  7.18566358, 10.09103804, 10.8310129 ,\n",
       "       10.66666209, 10.52268291, 10.88537759, 10.04626438,  8.87565584,\n",
       "        9.98805615, 10.80641888, 10.04526458, 10.89260462, 10.64658509,\n",
       "        8.1703936 ,  7.40767635,  9.59972932, 10.34545344,  9.77908343,\n",
       "        9.09601012,  9.5798956 ,  8.82035442,  8.67123742,  1.3010971 ,\n",
       "        6.21594697,  9.55167183,  9.15291895,  9.02915655,  9.17297325,\n",
       "        8.62512243, 10.78580633, 10.71486873, 10.31195919, 10.52135722,\n",
       "       10.88228005,  9.97494803,  9.66104953, 10.89552474, 10.33072507,\n",
       "       10.16404001, 10.47738728, 10.73805136, 10.34029644,  8.71731512,\n",
       "        9.62390607,  9.38671534,  8.37225081,  9.16784257,  9.06613052,\n",
       "        8.99106098,  8.08154626,  6.51935773,  8.34532001, 10.06530884,\n",
       "        9.21470517, 10.07530893, 10.23704752, 10.18757161, 10.2751611 ,\n",
       "       10.6825709 , 10.34461353, 10.59187826, 10.45395423,  9.88886656,\n",
       "       10.2693515 , 11.03094199,  9.20862417,  9.24715741, 10.02295351,\n",
       "        9.91568727,  9.68241858,  6.95473739,  9.58778102,  7.32294595,\n",
       "        5.26833397,  3.95995641,  9.24856547,  8.97206866,  9.56798681,\n",
       "        7.89665722,  7.89943252,  9.41989735,  7.87645046,  9.73671761,\n",
       "       10.5361877 , 10.24789569, 10.5246098 ,  9.54604234, 10.27841956,\n",
       "        9.78381352,  8.99322908,  9.18405396, 10.76905053, 11.1580726 ,\n",
       "        9.70874037,  9.87998454, 10.09683344,  9.7648625 ,  8.566659  ,\n",
       "        5.32341375,  7.64069167,  6.88556539,  6.63640698,  7.71586119,\n",
       "       10.4793604 , 10.14315242,  9.53302415,  9.65298503,  9.17797244,\n",
       "        9.83704856,  7.2743708 , 10.10424593, 10.38267313, 10.74857328,\n",
       "       10.97211177,  9.3446905 ,  9.89658552, 10.44712426, 10.80386094,\n",
       "        9.97860133, 10.97430336, 10.59478631,  6.47533937,  9.30637127,\n",
       "        8.22214558,  9.17377836,  7.31764515,  5.96793019,  8.55060865,\n",
       "        9.14095802,  8.37783965,  9.62882882, 10.2955035 , 10.61968937,\n",
       "        9.87452487, 10.14163962,  9.89474695,  9.60011937,  8.90219405,\n",
       "       10.05223922, 10.97253021, 11.0509191 , 10.77269912,  9.93369858,\n",
       "       10.88719786, 10.37088988, 11.11090424, 10.81659801, 10.87859287,\n",
       "        9.96200293,  5.8525    ,  6.66312263,  7.2825282 ,  8.46523308,\n",
       "        7.89885695,  7.90968674,  5.95242819,  5.59799799,  9.12259431,\n",
       "        9.58586594, 10.60986854, 10.68041385, 10.94697466, 10.35179247,\n",
       "       10.40771381, 10.15300447,  8.76978873,  9.93607317, 10.47740687,\n",
       "        9.48400264,  9.35527547,  8.70561909, 10.33979716, 10.74960669,\n",
       "       11.29340404, 11.22700584, 10.96643107, 10.62276997,  7.54217247,\n",
       "        8.70478387,  6.4645937 ,  7.74393259,  8.38420184,  8.63911379,\n",
       "        8.41414131,  9.71524184,  9.33025175,  9.80573726,  9.86820631,\n",
       "       10.93610321, 10.88041475, 10.93772175, 10.71935016, 10.14927556,\n",
       "       10.44434479, 10.75057668, 10.46495435, 10.29539284,  9.41347383,\n",
       "       10.27190483, 10.94469996, 10.60152113, 11.33801694, 11.23263961,\n",
       "       11.08629126, 10.57885184,  9.81587388, 10.05805612,  9.29048216,\n",
       "       10.14627675,  9.98190179,  9.58744905,  9.45310614, 10.18052947,\n",
       "       10.71113546,  9.90691495, 10.44379126, 10.2548723 , 10.6892826 ,\n",
       "       10.21129248, 10.33006456,  9.90365789,  9.66874115, 10.399021  ,\n",
       "       10.21063623,  9.66898309,  8.32147149,  7.444792  ,  9.89321737,\n",
       "       10.23389845, 11.14803662, 11.36950965, 10.77142667, 11.11843118,\n",
       "       10.64390054,  9.60037   ,  9.57104752, 10.60304036, 10.7591341 ,\n",
       "       10.49522705, 10.51350254, 10.2480805 ,  9.04486419,  9.02272593,\n",
       "       10.41832081, 10.48626627,  9.88186056,  9.97643611,  9.65826547,\n",
       "        9.02995156,  9.4291776 , 10.61715655, 10.27746986, 10.39703604,\n",
       "       10.48849968,  9.21639997, 10.68854168, 10.83330217, 10.5620227 ,\n",
       "       11.07759022, 10.47549474, 10.66108698, 11.06842397, 10.7026519 ,\n",
       "       10.97828469, 10.43167995, 10.79966399, 10.2502262 , 10.40045401,\n",
       "        9.49258792,  8.58303642,  9.5897662 ,  9.76086737,  6.70089072,\n",
       "        5.40713233,  8.53182638,  7.05267163,  7.97450411,  9.57103403,\n",
       "        9.89246005,  9.21635737, 10.30151616, 10.75481729, 10.51455066,\n",
       "       10.43241927, 10.35436177, 10.46875455,  9.95610178])>"
      ]
     },
     "execution_count": 186,
     "metadata": {},
     "output_type": "execute_result"
    }
   ],
   "source": [
    "dgp2_ard.layers[0].kernel.lengthscale"
   ]
  },
  {
   "cell_type": "code",
   "execution_count": 97,
   "metadata": {},
   "outputs": [
    {
     "data": {
      "text/html": [
       "<table>\n",
       "<thead>\n",
       "<tr><th>name                            </th><th>class    </th><th>transform     </th><th>trainable  </th><th>shape         </th><th>dtype  </th><th>value                                               </th></tr>\n",
       "</thead>\n",
       "<tbody>\n",
       "<tr><td>DGP.layers[0].q_mu              </td><td>Parameter</td><td>              </td><td>True       </td><td>(100, 30)     </td><td>float64</td><td>[[0., 0., 0....                                     </td></tr>\n",
       "<tr><td>DGP.layers[0].q_sqrt            </td><td>Parameter</td><td>FillTriangular</td><td>True       </td><td>(30, 100, 100)</td><td>float64</td><td>[[[1.e-05, 0.e+00, 0.e+00...                        </td></tr>\n",
       "<tr><td>DGP.layers[0].inducing_points.Z </td><td>Parameter</td><td>              </td><td>True       </td><td>(100, 784)    </td><td>float64</td><td>[[0.49729225, 0.46535948, 0.43744164...             </td></tr>\n",
       "<tr><td>DGP.layers[0].kernel.variance   </td><td>Parameter</td><td>Softplus      </td><td>True       </td><td>()            </td><td>float64</td><td>2.0                                                 </td></tr>\n",
       "<tr><td>DGP.layers[0].kernel.lengthscale</td><td>Parameter</td><td>Softplus      </td><td>True       </td><td>()            </td><td>float64</td><td>5.0                                                 </td></tr>\n",
       "<tr><td>DGP.layers[0].mean_function.A   </td><td>Parameter</td><td>              </td><td>False      </td><td>(784, 30)     </td><td>float64</td><td>[[-0.03626653, -0.03429942, 0.0483595...            </td></tr>\n",
       "<tr><td>DGP.layers[0].mean_function.b   </td><td>Parameter</td><td>              </td><td>False      </td><td>(1,)          </td><td>float64</td><td>[0.]                                                </td></tr>\n",
       "<tr><td>DGP.layers[1].q_mu              </td><td>Parameter</td><td>              </td><td>True       </td><td>(100, 30)     </td><td>float64</td><td>[[0., 0., 0....                                     </td></tr>\n",
       "<tr><td>DGP.layers[1].q_sqrt            </td><td>Parameter</td><td>FillTriangular</td><td>True       </td><td>(30, 100, 100)</td><td>float64</td><td>[[[1.e-05, 0.e+00, 0.e+00...                        </td></tr>\n",
       "<tr><td>DGP.layers[1].inducing_points.Z </td><td>Parameter</td><td>              </td><td>True       </td><td>(100, 30)     </td><td>float64</td><td>[[-1.78564470e+01, 4.73352204e+00, 1.37455340e+00...</td></tr>\n",
       "<tr><td>DGP.layers[1].kernel.variance   </td><td>Parameter</td><td>Softplus      </td><td>True       </td><td>()            </td><td>float64</td><td>2.0                                                 </td></tr>\n",
       "<tr><td>DGP.layers[1].kernel.lengthscale</td><td>Parameter</td><td>Softplus      </td><td>True       </td><td>()            </td><td>float64</td><td>5.0                                                 </td></tr>\n",
       "<tr><td>DGP.layers[2].q_mu              </td><td>Parameter</td><td>              </td><td>True       </td><td>(100, 1)      </td><td>float64</td><td>[[0....                                             </td></tr>\n",
       "<tr><td>DGP.layers[2].q_sqrt            </td><td>Parameter</td><td>FillTriangular</td><td>True       </td><td>(1, 100, 100) </td><td>float64</td><td>[[[1., 0., 0....                                    </td></tr>\n",
       "<tr><td>DGP.layers[2].inducing_points.Z </td><td>Parameter</td><td>              </td><td>True       </td><td>(100, 30)     </td><td>float64</td><td>[[-1.78564470e+01, 4.73352204e+00, 1.37455340e+00...</td></tr>\n",
       "<tr><td>DGP.layers[2].kernel.variance   </td><td>Parameter</td><td>Softplus      </td><td>True       </td><td>()            </td><td>float64</td><td>2.0                                                 </td></tr>\n",
       "<tr><td>DGP.layers[2].kernel.lengthscale</td><td>Parameter</td><td>Softplus      </td><td>True       </td><td>()            </td><td>float64</td><td>5.0                                                 </td></tr>\n",
       "</tbody>\n",
       "</table>"
      ],
      "text/plain": [
       "<IPython.core.display.HTML object>"
      ]
     },
     "metadata": {},
     "output_type": "display_data"
    }
   ],
   "source": [
    "gpflow.utilities.print_summary(dgp3, fmt='notebook')"
   ]
  },
  {
   "cell_type": "code",
   "execution_count": 74,
   "metadata": {
    "scrolled": false
   },
   "outputs": [
    {
     "data": {
      "text/html": [
       "<table>\n",
       "<thead>\n",
       "<tr><th>name                            </th><th>class    </th><th>transform     </th><th>trainable  </th><th>shape       </th><th>dtype  </th><th>value                                                </th></tr>\n",
       "</thead>\n",
       "<tbody>\n",
       "<tr><td>DGP.layers[0].q_mu              </td><td>Parameter</td><td>              </td><td>True       </td><td>(50, 30)    </td><td>float64</td><td>[[0.08388305, -0.00455128, 0.02131329...             </td></tr>\n",
       "<tr><td>DGP.layers[0].q_sqrt            </td><td>Parameter</td><td>FillTriangular</td><td>True       </td><td>(30, 50, 50)</td><td>float64</td><td>[[[3.59987088e-01, 0.00000000e+00, 0.00000000e+00... </td></tr>\n",
       "<tr><td>DGP.layers[0].inducing_points.Z </td><td>Parameter</td><td>              </td><td>True       </td><td>(50, 784)   </td><td>float64</td><td>[[0.69367212, 0.7587387, 0.796397...                 </td></tr>\n",
       "<tr><td>DGP.layers[0].kernel.variance   </td><td>Parameter</td><td>Softplus      </td><td>True       </td><td>()          </td><td>float64</td><td>0.001972531944807256                                 </td></tr>\n",
       "<tr><td>DGP.layers[0].kernel.lengthscale</td><td>Parameter</td><td>Softplus      </td><td>True       </td><td>()          </td><td>float64</td><td>9.006789179712198                                    </td></tr>\n",
       "<tr><td>DGP.layers[0].mean_function.A   </td><td>Parameter</td><td>              </td><td>False      </td><td>(784, 30)   </td><td>float64</td><td>[[-0.03626653, -0.03429942, 0.0483595...             </td></tr>\n",
       "<tr><td>DGP.layers[0].mean_function.b   </td><td>Parameter</td><td>              </td><td>False      </td><td>(1,)        </td><td>float64</td><td>[0.]                                                 </td></tr>\n",
       "<tr><td>DGP.layers[1].q_mu              </td><td>Parameter</td><td>              </td><td>True       </td><td>(50, 30)    </td><td>float64</td><td>[[1.78033571, 0.04621568, 0.03030411...              </td></tr>\n",
       "<tr><td>DGP.layers[1].q_sqrt            </td><td>Parameter</td><td>FillTriangular</td><td>True       </td><td>(30, 50, 50)</td><td>float64</td><td>[[[2.99310604e-01, 0.00000000e+00, 0.00000000e+00... </td></tr>\n",
       "<tr><td>DGP.layers[1].inducing_points.Z </td><td>Parameter</td><td>              </td><td>True       </td><td>(50, 30)    </td><td>float64</td><td>[[-1.92905466e+01, 3.88564747e+00, -1.08932397e+00...</td></tr>\n",
       "<tr><td>DGP.layers[1].kernel.variance   </td><td>Parameter</td><td>Softplus      </td><td>True       </td><td>()          </td><td>float64</td><td>7.885193064729112                                    </td></tr>\n",
       "<tr><td>DGP.layers[1].kernel.lengthscale</td><td>Parameter</td><td>Softplus      </td><td>True       </td><td>()          </td><td>float64</td><td>16.016750658358635                                   </td></tr>\n",
       "<tr><td>DGP.layers[2].q_mu              </td><td>Parameter</td><td>              </td><td>True       </td><td>(50, 1)     </td><td>float64</td><td>[[4.10683780e-01...                                  </td></tr>\n",
       "<tr><td>DGP.layers[2].q_sqrt            </td><td>Parameter</td><td>FillTriangular</td><td>True       </td><td>(1, 50, 50) </td><td>float64</td><td>[[[0.28703415, 0., 0....                             </td></tr>\n",
       "<tr><td>DGP.layers[2].inducing_points.Z </td><td>Parameter</td><td>              </td><td>True       </td><td>(50, 30)    </td><td>float64</td><td>[[-16.19102351, 2.18750799, 0.12703875...            </td></tr>\n",
       "<tr><td>DGP.layers[2].kernel.variance   </td><td>Parameter</td><td>Softplus      </td><td>True       </td><td>()          </td><td>float64</td><td>0.41140612391954534                                  </td></tr>\n",
       "<tr><td>DGP.layers[2].kernel.lengthscale</td><td>Parameter</td><td>Softplus      </td><td>True       </td><td>()          </td><td>float64</td><td>5.950505942398334                                    </td></tr>\n",
       "</tbody>\n",
       "</table>"
      ],
      "text/plain": [
       "<IPython.core.display.HTML object>"
      ]
     },
     "metadata": {},
     "output_type": "display_data"
    }
   ],
   "source": [
    "gpflow.utilities.print_summary(dgp3, fmt='notebook')"
   ]
  },
  {
   "cell_type": "code",
   "execution_count": 128,
   "metadata": {},
   "outputs": [
    {
     "data": {
      "text/html": [
       "<table>\n",
       "<thead>\n",
       "<tr><th>name                            </th><th>class    </th><th>transform     </th><th>trainable  </th><th>shape         </th><th>dtype  </th><th>value                                                 </th></tr>\n",
       "</thead>\n",
       "<tbody>\n",
       "<tr><td>DGP.layers[0].q_mu              </td><td>Parameter</td><td>              </td><td>True       </td><td>(100, 30)     </td><td>float64</td><td>[[-0.43768023, 0.3939282, 0.05272466...               </td></tr>\n",
       "<tr><td>DGP.layers[0].q_sqrt            </td><td>Parameter</td><td>FillTriangular</td><td>True       </td><td>(30, 100, 100)</td><td>float64</td><td>[[[0.0925971, 0., 0....                               </td></tr>\n",
       "<tr><td>DGP.layers[0].inducing_points.Z </td><td>Parameter</td><td>              </td><td>True       </td><td>(100, 784)    </td><td>float64</td><td>[[-0.13300032, -0.00986615, 0.13691307...             </td></tr>\n",
       "<tr><td>DGP.layers[0].kernel.variance   </td><td>Parameter</td><td>Softplus      </td><td>True       </td><td>()            </td><td>float64</td><td>0.20308227958262645                                   </td></tr>\n",
       "<tr><td>DGP.layers[0].kernel.lengthscale</td><td>Parameter</td><td>Softplus      </td><td>True       </td><td>()            </td><td>float64</td><td>8.16196577288821                                      </td></tr>\n",
       "<tr><td>DGP.layers[0].mean_function.A   </td><td>Parameter</td><td>              </td><td>False      </td><td>(784, 30)     </td><td>float64</td><td>[[-0.03626653, -0.03429942, 0.0483595...              </td></tr>\n",
       "<tr><td>DGP.layers[0].mean_function.b   </td><td>Parameter</td><td>              </td><td>False      </td><td>(1,)          </td><td>float64</td><td>[0.]                                                  </td></tr>\n",
       "<tr><td>DGP.layers[1].q_mu              </td><td>Parameter</td><td>              </td><td>True       </td><td>(100, 30)     </td><td>float64</td><td>[[-1.47837131, 0.29501984, -0.15983554...             </td></tr>\n",
       "<tr><td>DGP.layers[1].q_sqrt            </td><td>Parameter</td><td>FillTriangular</td><td>True       </td><td>(30, 100, 100)</td><td>float64</td><td>[[[9.19100708e-02, 0.00000000e+00, 0.00000000e+00...  </td></tr>\n",
       "<tr><td>DGP.layers[1].inducing_points.Z </td><td>Parameter</td><td>              </td><td>True       </td><td>(100, 30)     </td><td>float64</td><td>[[-1.07044912e+01, -2.37167283e+00, -2.06282138e+00...</td></tr>\n",
       "<tr><td>DGP.layers[1].kernel.variance   </td><td>Parameter</td><td>Softplus      </td><td>True       </td><td>()            </td><td>float64</td><td>1.7714789351079387                                    </td></tr>\n",
       "<tr><td>DGP.layers[1].kernel.lengthscale</td><td>Parameter</td><td>Softplus      </td><td>True       </td><td>()            </td><td>float64</td><td>7.825111404678047                                     </td></tr>\n",
       "<tr><td>DGP.layers[2].q_mu              </td><td>Parameter</td><td>              </td><td>True       </td><td>(100, 1)      </td><td>float64</td><td>[[0.1564527...                                        </td></tr>\n",
       "<tr><td>DGP.layers[2].q_sqrt            </td><td>Parameter</td><td>FillTriangular</td><td>True       </td><td>(1, 100, 100) </td><td>float64</td><td>[[[0.34493078, 0., 0....                              </td></tr>\n",
       "<tr><td>DGP.layers[2].inducing_points.Z </td><td>Parameter</td><td>              </td><td>True       </td><td>(100, 30)     </td><td>float64</td><td>[[-9.19997709, -1.55385422, -1.56172242...            </td></tr>\n",
       "<tr><td>DGP.layers[2].kernel.variance   </td><td>Parameter</td><td>Softplus      </td><td>True       </td><td>()            </td><td>float64</td><td>0.8890716870831762                                    </td></tr>\n",
       "<tr><td>DGP.layers[2].kernel.lengthscale</td><td>Parameter</td><td>Softplus      </td><td>True       </td><td>()            </td><td>float64</td><td>7.440231171724015                                     </td></tr>\n",
       "</tbody>\n",
       "</table>"
      ],
      "text/plain": [
       "<IPython.core.display.HTML object>"
      ]
     },
     "metadata": {},
     "output_type": "display_data"
    }
   ],
   "source": [
    "gpflow.utilities.print_summary(dgp3_adam, fmt='notebook')"
   ]
  },
  {
   "cell_type": "code",
   "execution_count": 91,
   "metadata": {},
   "outputs": [
    {
     "data": {
      "text/html": [
       "<table>\n",
       "<thead>\n",
       "<tr><th>name                            </th><th>class    </th><th>transform     </th><th>trainable  </th><th>shape         </th><th>dtype  </th><th>value                                               </th></tr>\n",
       "</thead>\n",
       "<tbody>\n",
       "<tr><td>DGP.layers[0].q_mu              </td><td>Parameter</td><td>              </td><td>True       </td><td>(100, 30)     </td><td>float64</td><td>[[0., 0., 0....                                     </td></tr>\n",
       "<tr><td>DGP.layers[0].q_sqrt            </td><td>Parameter</td><td>FillTriangular</td><td>True       </td><td>(30, 100, 100)</td><td>float64</td><td>[[[1.e-05, 0.e+00, 0.e+00...                        </td></tr>\n",
       "<tr><td>DGP.layers[0].inducing_points.Z </td><td>Parameter</td><td>              </td><td>True       </td><td>(100, 784)    </td><td>float64</td><td>[[0.49729225, 0.46535948, 0.43744164...             </td></tr>\n",
       "<tr><td>DGP.layers[0].kernel.variance   </td><td>Parameter</td><td>Softplus      </td><td>True       </td><td>()            </td><td>float64</td><td>2.0                                                 </td></tr>\n",
       "<tr><td>DGP.layers[0].kernel.lengthscale</td><td>Parameter</td><td>Softplus      </td><td>True       </td><td>()            </td><td>float64</td><td>5.0                                                 </td></tr>\n",
       "<tr><td>DGP.layers[0].mean_function.A   </td><td>Parameter</td><td>              </td><td>False      </td><td>(784, 30)     </td><td>float64</td><td>[[-0.03626653, -0.03429942, 0.0483595...            </td></tr>\n",
       "<tr><td>DGP.layers[0].mean_function.b   </td><td>Parameter</td><td>              </td><td>False      </td><td>(1,)          </td><td>float64</td><td>[0.]                                                </td></tr>\n",
       "<tr><td>DGP.layers[1].q_mu              </td><td>Parameter</td><td>              </td><td>True       </td><td>(100, 30)     </td><td>float64</td><td>[[0., 0., 0....                                     </td></tr>\n",
       "<tr><td>DGP.layers[1].q_sqrt            </td><td>Parameter</td><td>FillTriangular</td><td>True       </td><td>(30, 100, 100)</td><td>float64</td><td>[[[1.e-05, 0.e+00, 0.e+00...                        </td></tr>\n",
       "<tr><td>DGP.layers[1].inducing_points.Z </td><td>Parameter</td><td>              </td><td>True       </td><td>(100, 30)     </td><td>float64</td><td>[[-1.78564470e+01, 4.73352204e+00, 1.37455340e+00...</td></tr>\n",
       "<tr><td>DGP.layers[1].kernel.variance   </td><td>Parameter</td><td>Softplus      </td><td>True       </td><td>()            </td><td>float64</td><td>2.0                                                 </td></tr>\n",
       "<tr><td>DGP.layers[1].kernel.lengthscale</td><td>Parameter</td><td>Softplus      </td><td>True       </td><td>()            </td><td>float64</td><td>5.0                                                 </td></tr>\n",
       "<tr><td>DGP.layers[2].q_mu              </td><td>Parameter</td><td>              </td><td>True       </td><td>(100, 30)     </td><td>float64</td><td>[[0., 0., 0....                                     </td></tr>\n",
       "<tr><td>DGP.layers[2].q_sqrt            </td><td>Parameter</td><td>FillTriangular</td><td>True       </td><td>(30, 100, 100)</td><td>float64</td><td>[[[1.e-05, 0.e+00, 0.e+00...                        </td></tr>\n",
       "<tr><td>DGP.layers[2].inducing_points.Z </td><td>Parameter</td><td>              </td><td>True       </td><td>(100, 30)     </td><td>float64</td><td>[[-1.78564470e+01, 4.73352204e+00, 1.37455340e+00...</td></tr>\n",
       "<tr><td>DGP.layers[2].kernel.variance   </td><td>Parameter</td><td>Softplus      </td><td>True       </td><td>()            </td><td>float64</td><td>2.0                                                 </td></tr>\n",
       "<tr><td>DGP.layers[2].kernel.lengthscale</td><td>Parameter</td><td>Softplus      </td><td>True       </td><td>()            </td><td>float64</td><td>5.0                                                 </td></tr>\n",
       "<tr><td>DGP.layers[3].q_mu              </td><td>Parameter</td><td>              </td><td>True       </td><td>(100, 1)      </td><td>float64</td><td>[[0....                                             </td></tr>\n",
       "<tr><td>DGP.layers[3].q_sqrt            </td><td>Parameter</td><td>FillTriangular</td><td>True       </td><td>(1, 100, 100) </td><td>float64</td><td>[[[1., 0., 0....                                    </td></tr>\n",
       "<tr><td>DGP.layers[3].inducing_points.Z </td><td>Parameter</td><td>              </td><td>True       </td><td>(100, 30)     </td><td>float64</td><td>[[-1.78564470e+01, 4.73352204e+00, 1.37455340e+00...</td></tr>\n",
       "<tr><td>DGP.layers[3].kernel.variance   </td><td>Parameter</td><td>Softplus      </td><td>True       </td><td>()            </td><td>float64</td><td>2.0                                                 </td></tr>\n",
       "<tr><td>DGP.layers[3].kernel.lengthscale</td><td>Parameter</td><td>Softplus      </td><td>True       </td><td>()            </td><td>float64</td><td>5.0                                                 </td></tr>\n",
       "</tbody>\n",
       "</table>"
      ],
      "text/plain": [
       "<IPython.core.display.HTML object>"
      ]
     },
     "metadata": {},
     "output_type": "display_data"
    }
   ],
   "source": [
    "gpflow.utilities.print_summary(dgp4, fmt='notebook')"
   ]
  },
  {
   "cell_type": "code",
   "execution_count": 94,
   "metadata": {
    "scrolled": false
   },
   "outputs": [
    {
     "data": {
      "text/html": [
       "<table>\n",
       "<thead>\n",
       "<tr><th>name                            </th><th>class    </th><th>transform     </th><th>trainable  </th><th>shape         </th><th>dtype  </th><th>value                                               </th></tr>\n",
       "</thead>\n",
       "<tbody>\n",
       "<tr><td>DGP.layers[0].q_mu              </td><td>Parameter</td><td>              </td><td>False      </td><td>(100, 30)     </td><td>float64</td><td>[[0.40699359, 0.09026117, 0.002814...               </td></tr>\n",
       "<tr><td>DGP.layers[0].q_sqrt            </td><td>Parameter</td><td>FillTriangular</td><td>False      </td><td>(30, 100, 100)</td><td>float64</td><td>[[[1.00504523e+00, 0.00000000e+00, 0.00000000e+00...</td></tr>\n",
       "<tr><td>DGP.layers[0].inducing_points.Z </td><td>Parameter</td><td>              </td><td>True       </td><td>(100, 784)    </td><td>float64</td><td>[[0.54811228, 0.4831957, 0.56282482...              </td></tr>\n",
       "<tr><td>DGP.layers[0].kernel.variance   </td><td>Parameter</td><td>Softplus      </td><td>True       </td><td>()            </td><td>float64</td><td>0.0018569756858914325                               </td></tr>\n",
       "<tr><td>DGP.layers[0].kernel.lengthscale</td><td>Parameter</td><td>Softplus      </td><td>True       </td><td>()            </td><td>float64</td><td>8.384722554321163                                   </td></tr>\n",
       "<tr><td>DGP.layers[0].mean_function.A   </td><td>Parameter</td><td>              </td><td>False      </td><td>(784, 30)     </td><td>float64</td><td>[[-0.03626653, -0.03429942, 0.0483595...            </td></tr>\n",
       "<tr><td>DGP.layers[0].mean_function.b   </td><td>Parameter</td><td>              </td><td>False      </td><td>(1,)          </td><td>float64</td><td>[0.]                                                </td></tr>\n",
       "<tr><td>DGP.layers[1].q_mu              </td><td>Parameter</td><td>              </td><td>False      </td><td>(100, 30)     </td><td>float64</td><td>[[2.63092433e-01, 1.61875174e-02, 1.23835772e-01... </td></tr>\n",
       "<tr><td>DGP.layers[1].q_sqrt            </td><td>Parameter</td><td>FillTriangular</td><td>False      </td><td>(30, 100, 100)</td><td>float64</td><td>[[[9.88505126e-01, 0.00000000e+00, 0.00000000e+00...</td></tr>\n",
       "<tr><td>DGP.layers[1].inducing_points.Z </td><td>Parameter</td><td>              </td><td>True       </td><td>(100, 30)     </td><td>float64</td><td>[[-1.77822003e+01, 2.67197764e+00, 1.33578365e+00...</td></tr>\n",
       "<tr><td>DGP.layers[1].kernel.variance   </td><td>Parameter</td><td>Softplus      </td><td>True       </td><td>()            </td><td>float64</td><td>0.0012449234599285631                               </td></tr>\n",
       "<tr><td>DGP.layers[1].kernel.lengthscale</td><td>Parameter</td><td>Softplus      </td><td>True       </td><td>()            </td><td>float64</td><td>7.820533634420623                                   </td></tr>\n",
       "<tr><td>DGP.layers[2].q_mu              </td><td>Parameter</td><td>              </td><td>False      </td><td>(100, 30)     </td><td>float64</td><td>[[0.40402536, -0.00184611, -0.12853059...           </td></tr>\n",
       "<tr><td>DGP.layers[2].q_sqrt            </td><td>Parameter</td><td>FillTriangular</td><td>False      </td><td>(30, 100, 100)</td><td>float64</td><td>[[[9.99739393e-01, 0.00000000e+00, 0.00000000e+00...</td></tr>\n",
       "<tr><td>DGP.layers[2].inducing_points.Z </td><td>Parameter</td><td>              </td><td>True       </td><td>(100, 30)     </td><td>float64</td><td>[[-20.53927642, 1.96699699, -0.82982089...          </td></tr>\n",
       "<tr><td>DGP.layers[2].kernel.variance   </td><td>Parameter</td><td>Softplus      </td><td>True       </td><td>()            </td><td>float64</td><td>0.0010762938283643351                               </td></tr>\n",
       "<tr><td>DGP.layers[2].kernel.lengthscale</td><td>Parameter</td><td>Softplus      </td><td>True       </td><td>()            </td><td>float64</td><td>8.145416807759315                                   </td></tr>\n",
       "<tr><td>DGP.layers[3].q_mu              </td><td>Parameter</td><td>              </td><td>False      </td><td>(100, 1)      </td><td>float64</td><td>[[0.71809154...                                     </td></tr>\n",
       "<tr><td>DGP.layers[3].q_sqrt            </td><td>Parameter</td><td>FillTriangular</td><td>False      </td><td>(1, 100, 100) </td><td>float64</td><td>[[[0.12882389, 0., 0....                            </td></tr>\n",
       "<tr><td>DGP.layers[3].inducing_points.Z </td><td>Parameter</td><td>              </td><td>True       </td><td>(100, 30)     </td><td>float64</td><td>[[-1.76840434e+01, 4.76073673e+00, 1.07729862e+00...</td></tr>\n",
       "<tr><td>DGP.layers[3].kernel.variance   </td><td>Parameter</td><td>Softplus      </td><td>True       </td><td>()            </td><td>float64</td><td>2.276611670491518                                   </td></tr>\n",
       "<tr><td>DGP.layers[3].kernel.lengthscale</td><td>Parameter</td><td>Softplus      </td><td>True       </td><td>()            </td><td>float64</td><td>7.486094629510504                                   </td></tr>\n",
       "</tbody>\n",
       "</table>"
      ],
      "text/plain": [
       "<IPython.core.display.HTML object>"
      ]
     },
     "metadata": {},
     "output_type": "display_data"
    }
   ],
   "source": [
    "gpflow.utilities.print_summary(dgp4, fmt='notebook')"
   ]
  },
  {
   "cell_type": "code",
   "execution_count": 138,
   "metadata": {},
   "outputs": [
    {
     "data": {
      "text/html": [
       "<table>\n",
       "<thead>\n",
       "<tr><th>name                            </th><th>class    </th><th>transform     </th><th>trainable  </th><th>shape         </th><th>dtype  </th><th>value                                                 </th></tr>\n",
       "</thead>\n",
       "<tbody>\n",
       "<tr><td>DGP.layers[0].q_mu              </td><td>Parameter</td><td>              </td><td>True       </td><td>(100, 30)     </td><td>float64</td><td>[[-0.79560918, 0.47012052, 0.14297062...              </td></tr>\n",
       "<tr><td>DGP.layers[0].q_sqrt            </td><td>Parameter</td><td>FillTriangular</td><td>True       </td><td>(30, 100, 100)</td><td>float64</td><td>[[[9.24799560e-02, 0.00000000e+00, 0.00000000e+00...  </td></tr>\n",
       "<tr><td>DGP.layers[0].inducing_points.Z </td><td>Parameter</td><td>              </td><td>True       </td><td>(100, 784)    </td><td>float64</td><td>[[0.86400747, 0.83812158, 0.74399701...               </td></tr>\n",
       "<tr><td>DGP.layers[0].kernel.variance   </td><td>Parameter</td><td>Softplus      </td><td>True       </td><td>()            </td><td>float64</td><td>0.17570771321997172                                   </td></tr>\n",
       "<tr><td>DGP.layers[0].kernel.lengthscale</td><td>Parameter</td><td>Softplus      </td><td>True       </td><td>()            </td><td>float64</td><td>8.261689040074396                                     </td></tr>\n",
       "<tr><td>DGP.layers[0].mean_function.A   </td><td>Parameter</td><td>              </td><td>False      </td><td>(784, 30)     </td><td>float64</td><td>[[-0.03626653, -0.03429942, 0.0483595...              </td></tr>\n",
       "<tr><td>DGP.layers[0].mean_function.b   </td><td>Parameter</td><td>              </td><td>False      </td><td>(1,)          </td><td>float64</td><td>[0.]                                                  </td></tr>\n",
       "<tr><td>DGP.layers[1].q_mu              </td><td>Parameter</td><td>              </td><td>True       </td><td>(100, 30)     </td><td>float64</td><td>[[-1.28690832e+00, 3.51543209e-01, 7.13017620e-02...  </td></tr>\n",
       "<tr><td>DGP.layers[1].q_sqrt            </td><td>Parameter</td><td>FillTriangular</td><td>True       </td><td>(30, 100, 100)</td><td>float64</td><td>[[[0.09196284, 0., 0....                              </td></tr>\n",
       "<tr><td>DGP.layers[1].inducing_points.Z </td><td>Parameter</td><td>              </td><td>True       </td><td>(100, 30)     </td><td>float64</td><td>[[-1.05016628e+01, -1.98184688e+00, -2.10431471e+00...</td></tr>\n",
       "<tr><td>DGP.layers[1].kernel.variance   </td><td>Parameter</td><td>Softplus      </td><td>True       </td><td>()            </td><td>float64</td><td>1.7082508571991712                                    </td></tr>\n",
       "<tr><td>DGP.layers[1].kernel.lengthscale</td><td>Parameter</td><td>Softplus      </td><td>True       </td><td>()            </td><td>float64</td><td>7.892028780570382                                     </td></tr>\n",
       "<tr><td>DGP.layers[2].q_mu              </td><td>Parameter</td><td>              </td><td>True       </td><td>(100, 30)     </td><td>float64</td><td>[[-7.15652127e-01, 3.99469782e-01, 2.16395206e-02...  </td></tr>\n",
       "<tr><td>DGP.layers[2].q_sqrt            </td><td>Parameter</td><td>FillTriangular</td><td>True       </td><td>(30, 100, 100)</td><td>float64</td><td>[[[0.09226057, 0., 0....                              </td></tr>\n",
       "<tr><td>DGP.layers[2].inducing_points.Z </td><td>Parameter</td><td>              </td><td>True       </td><td>(100, 30)     </td><td>float64</td><td>[[-10.41482595, -1.64872987, -2.01783671...           </td></tr>\n",
       "<tr><td>DGP.layers[2].kernel.variance   </td><td>Parameter</td><td>Softplus      </td><td>True       </td><td>()            </td><td>float64</td><td>0.6225124923685138                                    </td></tr>\n",
       "<tr><td>DGP.layers[2].kernel.lengthscale</td><td>Parameter</td><td>Softplus      </td><td>True       </td><td>()            </td><td>float64</td><td>7.1760453081365485                                    </td></tr>\n",
       "<tr><td>DGP.layers[3].q_mu              </td><td>Parameter</td><td>              </td><td>True       </td><td>(100, 1)      </td><td>float64</td><td>[[1.48141380e-02...                                   </td></tr>\n",
       "<tr><td>DGP.layers[3].q_sqrt            </td><td>Parameter</td><td>FillTriangular</td><td>True       </td><td>(1, 100, 100) </td><td>float64</td><td>[[[0.26706984, 0., 0....                              </td></tr>\n",
       "<tr><td>DGP.layers[3].inducing_points.Z </td><td>Parameter</td><td>              </td><td>True       </td><td>(100, 30)     </td><td>float64</td><td>[[-9.29945325e+00, -1.80616997e+00, -1.74807565e+00...</td></tr>\n",
       "<tr><td>DGP.layers[3].kernel.variance   </td><td>Parameter</td><td>Softplus      </td><td>True       </td><td>()            </td><td>float64</td><td>0.8728356754945658                                    </td></tr>\n",
       "<tr><td>DGP.layers[3].kernel.lengthscale</td><td>Parameter</td><td>Softplus      </td><td>True       </td><td>()            </td><td>float64</td><td>7.9858409371026235                                    </td></tr>\n",
       "</tbody>\n",
       "</table>"
      ],
      "text/plain": [
       "<IPython.core.display.HTML object>"
      ]
     },
     "metadata": {},
     "output_type": "display_data"
    }
   ],
   "source": [
    "gpflow.utilities.print_summary(dgp4_adam, fmt='notebook')"
   ]
  },
  {
   "cell_type": "markdown",
   "metadata": {},
   "source": [
    "## Training : minimizing ELBO"
   ]
  },
  {
   "cell_type": "code",
   "execution_count": 15,
   "metadata": {},
   "outputs": [],
   "source": [
    "from tqdm import tqdm_notebook as tqdm"
   ]
  },
  {
   "cell_type": "code",
   "execution_count": 121,
   "metadata": {},
   "outputs": [
    {
     "data": {
      "text/plain": [
       "<tf.Tensor: id=196805382, shape=(), dtype=float64, numpy=0.0>"
      ]
     },
     "execution_count": 121,
     "metadata": {},
     "output_type": "execute_result"
    }
   ],
   "source": [
    "dgp3_adam.trainable_variables[3][0][0]"
   ]
  },
  {
   "cell_type": "code",
   "execution_count": 29,
   "metadata": {},
   "outputs": [],
   "source": [
    "from gpflow.optimizers import NaturalGradient\n",
    "\n",
    "def run_adam_dgp(model, iterations):\n",
    "    variational_params = []\n",
    "    for layer in model.layers:\n",
    "        variational_params.append((layer.q_mu, layer.q_sqrt))\n",
    "        layer.q_mu.trainable=False\n",
    "        layer.q_sqrt.trainable=False\n",
    "        \n",
    "    logf = []\n",
    "    \n",
    "    natgrad = NaturalGradient(gamma=0.01)\n",
    "    adam = tf.optimizers.Adam(0.01)\n",
    "    \n",
    "    train_it = iter(train_ds.batch(minibatch_size))\n",
    "    def dgp_stochastic_loss() -> tf.Tensor:\n",
    "        batch = next(train_it)\n",
    "        return -model.elbo(*batch, full_cov=False)\n",
    "    \n",
    "    for step in tqdm(range(iterations)):\n",
    "        \n",
    "        adam.minimize(\n",
    "            dgp_stochastic_loss, var_list=model.trainable_variables)\n",
    "        natgrad.minimize(\n",
    "            dgp_stochastic_loss, var_list=variational_params)\n",
    "        \n",
    "        elbo = -dgp_stochastic_loss()\n",
    "        if step % 10 == 0:\n",
    "            logf.append(elbo.numpy())\n",
    "        if step % 500 == 0:\n",
    "            print(elbo.numpy())\n",
    "            \n",
    "    return logf\n"
   ]
  },
  {
   "cell_type": "code",
   "execution_count": 41,
   "metadata": {},
   "outputs": [],
   "source": [
    "@tf.function(autograph=False)\n",
    "def optimization_step(optimizer, model:gpflow.models.SVGP, batch):\n",
    "    with tf.GradientTape(watch_accessed_variables=False) as tape:\n",
    "        tape.watch(model.trainable_variables)\n",
    "        objective = - model.elbo(*batch)\n",
    "        grads = tape.gradient(objective, model.trainable_variables)\n",
    "    first_layer_kernel_variance = grads[1]\n",
    "    optimizer.apply_gradients(zip(grads, model.trainable_variables))\n",
    "    return objective, first_layer_kernel_variance\n",
    "\n",
    "@tf.function(autograph=False)\n",
    "def optimization_step_dgp(optimizer, model:dgp3_ard, batch):\n",
    "    with tf.GradientTape(watch_accessed_variables=False) as tape:\n",
    "        tape.watch(model.trainable_variables)\n",
    "        objective = - model.elbo(*batch, full_cov=False)\n",
    "        grads = tape.gradient(objective, model.trainable_variables)\n",
    "    layer1_q_mu = grads[3][0][0]\n",
    "    optimizer.apply_gradients(zip(grads, model.trainable_variables))\n",
    "    return objective, layer1_q_mu\n",
    "\n",
    "def run_adam(model, iterations):\n",
    "    logf = []\n",
    "    gradients = []\n",
    "    adam = tf.optimizers.Adam(0.01)\n",
    "    train_it = iter(train_ds.batch(minibatch_size))\n",
    "    for step in range(iterations):\n",
    "        neg_elbo, gradient = optimization_step(adam, model, next(train_it))\n",
    "        elbo = - neg_elbo\n",
    "        if step % 10 == 0:\n",
    "            logf.append(elbo.numpy())\n",
    "            gradients.append(gradient)\n",
    "        if step % 1000 == 0:\n",
    "            print(elbo.numpy())\n",
    "    return logf, gradients\n",
    "\n",
    "def run_adam_dgp(model, iterations):\n",
    "    logf = []\n",
    "    gradients = []\n",
    "    adam = tf.optimizers.Adam(0.01)\n",
    "    train_it = iter(train_ds.batch(minibatch_size))\n",
    "    for step in tqdm(range(iterations)):\n",
    "        neg_elbo, gradient = optimization_step_dgp(adam, model, next(train_it))\n",
    "        elbo = - neg_elbo\n",
    "        if step % 10 == 0:\n",
    "            logf.append(elbo.numpy())\n",
    "            gradients.append(gradient.numpy())\n",
    "        if step % 1000 == 0:\n",
    "            print(elbo.numpy())\n",
    "    return logf, gradients"
   ]
  },
  {
   "cell_type": "code",
   "execution_count": 177,
   "metadata": {
    "scrolled": false
   },
   "outputs": [
    {
     "name": "stdout",
     "output_type": "stream",
     "text": [
      "-1247.2797857114192\n",
      "-696.7359966704769\n",
      "-693.7939723246984\n",
      "-696.8896418699436\n",
      "-693.8149297516937\n"
     ]
    },
    {
     "data": {
      "text/plain": [
       "Text(0.5, 1.0, 'ELBO of single layer SVGP')"
      ]
     },
     "execution_count": 177,
     "metadata": {},
     "output_type": "execute_result"
    },
    {
     "data": {
      "image/png": "[encoded data removed]",
      "text/plain": [
       "<Figure size 432x288 with 1 Axes>"
      ]
     },
     "metadata": {},
     "output_type": "display_data"
    }
   ],
   "source": [
    "maxiter = ci_niter(5000)\n",
    "logf, gradient = run_adam(m, maxiter)\n",
    "plt.plot(np.arange(maxiter)[::10], logf)\n",
    "plt.xlabel('iteration')\n",
    "plt.ylabel('ELBO');\n",
    "plt.title('ELBO of single layer SVGP')"
   ]
  },
  {
   "cell_type": "code",
   "execution_count": null,
   "metadata": {},
   "outputs": [],
   "source": [
    "maxiter = ci_niter(5000)\n",
    "logf, gradient = run_adam(m_500, maxiter)\n",
    "plt.plot(np.arange(maxiter)[::10], logf)\n",
    "plt.xlabel('iteration')\n",
    "plt.ylabel('ELBO');\n",
    "plt.title('ELBO of single layer SVGP with 500 inducing points')"
   ]
  },
  {
   "cell_type": "code",
   "execution_count": 114,
   "metadata": {},
   "outputs": [
    {
     "name": "stderr",
     "output_type": "stream",
     "text": [
      "/homes/rx220/env/lib/python3.7/site-packages/ipykernel_launcher.py:20: TqdmDeprecationWarning: This function will be removed in tqdm==5.0.0\n",
      "Please use `tqdm.notebook.tqdm` instead of `tqdm.tqdm_notebook`\n"
     ]
    },
    {
     "data": {
      "application/vnd.jupyter.widget-view+json": {
       "model_id": "77839f0ada5e4407bba83b95d3ad6969",
       "version_major": 2,
       "version_minor": 0
      },
      "text/plain": [
       "HBox(children=(FloatProgress(value=0.0, max=3000.0), HTML(value='')))"
      ]
     },
     "metadata": {},
     "output_type": "display_data"
    },
    {
     "name": "stdout",
     "output_type": "stream",
     "text": [
      "-45808.79622304398\n",
      "-31872.615028306922\n",
      "-24294.089987270476\n",
      "-16779.92869953575\n",
      "-9347.66535263134\n",
      "-6098.822234547962\n",
      "\n"
     ]
    },
    {
     "data": {
      "text/plain": [
       "Text(0.5, 1.0, 'ELBO of DGP')"
      ]
     },
     "execution_count": 114,
     "metadata": {},
     "output_type": "execute_result"
    },
    {
     "data": {
      "image/png": "[encoded data removed]",
      "text/plain": [
       "<Figure size 432x288 with 1 Axes>"
      ]
     },
     "metadata": {},
     "output_type": "display_data"
    }
   ],
   "source": [
    "maxiter = ci_niter(3000)\n",
    "logf_dgp2 = run_adam_dgp(dgp2, maxiter)\n",
    "plt.plot(np.arange(maxiter)[::10], logf_dgp2)\n",
    "plt.xlabel('iteration')\n",
    "plt.ylabel('ELBO')\n",
    "plt.title('ELBO of DGP')"
   ]
  },
  {
   "cell_type": "code",
   "execution_count": 184,
   "metadata": {},
   "outputs": [
    {
     "name": "stderr",
     "output_type": "stream",
     "text": [
      "/homes/rx220/env/lib/python3.7/site-packages/ipykernel_launcher.py:41: TqdmDeprecationWarning: This function will be removed in tqdm==5.0.0\n",
      "Please use `tqdm.notebook.tqdm` instead of `tqdm.tqdm_notebook`\n"
     ]
    },
    {
     "data": {
      "application/vnd.jupyter.widget-view+json": {
       "model_id": "31ebbf9a40cc4cd38d037bcdbbb2783d",
       "version_major": 2,
       "version_minor": 0
      },
      "text/plain": [
       "HBox(children=(FloatProgress(value=0.0, max=3000.0), HTML(value='')))"
      ]
     },
     "metadata": {},
     "output_type": "display_data"
    },
    {
     "name": "stdout",
     "output_type": "stream",
     "text": [
      "-48006.1338235975\n",
      "-11726.586830404794\n",
      "-10305.097137687793\n",
      "\n"
     ]
    },
    {
     "data": {
      "text/plain": [
       "Text(0.5, 1.0, 'ELBO of DGP2 ARD')"
      ]
     },
     "execution_count": 184,
     "metadata": {},
     "output_type": "execute_result"
    },
    {
     "data": {
      "image/png": "[encoded data removed]",
      "text/plain": [
       "<Figure size 432x288 with 1 Axes>"
      ]
     },
     "metadata": {},
     "output_type": "display_data"
    }
   ],
   "source": [
    "maxiter = ci_niter(3000)\n",
    "logf_dgp2_ard, gradients2 = run_adam_dgp(dgp2_ard, maxiter)\n",
    "plt.plot(np.arange(maxiter)[::10], logf_dgp2_ard)\n",
    "plt.xlabel('iteration')\n",
    "plt.ylabel('ELBO')\n",
    "plt.title('ELBO of DGP2 ARD')"
   ]
  },
  {
   "cell_type": "code",
   "execution_count": 99,
   "metadata": {
    "scrolled": false
   },
   "outputs": [
    {
     "name": "stderr",
     "output_type": "stream",
     "text": [
      "/homes/rx220/env/lib/python3.7/site-packages/ipykernel_launcher.py:20: TqdmDeprecationWarning: This function will be removed in tqdm==5.0.0\n",
      "Please use `tqdm.notebook.tqdm` instead of `tqdm.tqdm_notebook`\n"
     ]
    },
    {
     "data": {
      "application/vnd.jupyter.widget-view+json": {
       "model_id": "b24c9f67e0674e1ea5cfd3db108c7954",
       "version_major": 2,
       "version_minor": 0
      },
      "text/plain": [
       "HBox(children=(FloatProgress(value=0.0, max=5000.0), HTML(value='')))"
      ]
     },
     "metadata": {},
     "output_type": "display_data"
    },
    {
     "name": "stdout",
     "output_type": "stream",
     "text": [
      "-80261.8875748818\n",
      "-57391.407959215394\n",
      "-42587.777982295804\n",
      "-27692.273205846916\n",
      "-12414.530155983592\n",
      "-6197.882141755186\n",
      "-6332.92073588464\n",
      "-6045.067216948569\n",
      "-6355.129021993692\n",
      "-6464.592602999805\n",
      "\n"
     ]
    },
    {
     "data": {
      "text/plain": [
       "Text(0.5, 1.0, 'ELBO of DGP 3 layers')"
      ]
     },
     "execution_count": 99,
     "metadata": {},
     "output_type": "execute_result"
    },
    {
     "data": {
      "image/png": "[encoded data removed]",
      "text/plain": [
       "<Figure size 432x288 with 1 Axes>"
      ]
     },
     "metadata": {},
     "output_type": "display_data"
    }
   ],
   "source": [
    "maxiter = ci_niter(5000)\n",
    "logf_dgp3 = run_adam_dgp(dgp3, maxiter)\n",
    "plt.plot(np.arange(maxiter)[::10], logf_dgp3)\n",
    "plt.xlabel('iteration')\n",
    "plt.ylabel('ELBO')\n",
    "plt.title('ELBO of DGP 3 layers')"
   ]
  },
  {
   "cell_type": "code",
   "execution_count": 107,
   "metadata": {
    "scrolled": false
   },
   "outputs": [
    {
     "name": "stderr",
     "output_type": "stream",
     "text": [
      "/homes/rx220/env/lib/python3.7/site-packages/ipykernel_launcher.py:20: TqdmDeprecationWarning: This function will be removed in tqdm==5.0.0\n",
      "Please use `tqdm.notebook.tqdm` instead of `tqdm.tqdm_notebook`\n"
     ]
    },
    {
     "data": {
      "application/vnd.jupyter.widget-view+json": {
       "model_id": "ad4199de05b0439e8df829a8d5182046",
       "version_major": 2,
       "version_minor": 0
      },
      "text/plain": [
       "HBox(children=(FloatProgress(value=0.0, max=3000.0), HTML(value='')))"
      ]
     },
     "metadata": {},
     "output_type": "display_data"
    },
    {
     "name": "stdout",
     "output_type": "stream",
     "text": [
      "-44079.96284367353\n",
      "-31883.86540088297\n",
      "-24180.125182459928\n",
      "-16299.146947923728\n",
      "-9065.262193297656\n",
      "-6520.907566658823\n",
      "\n"
     ]
    },
    {
     "data": {
      "text/plain": [
       "Text(0.5, 1.0, 'ELBO of DGP 3 layers')"
      ]
     },
     "execution_count": 107,
     "metadata": {},
     "output_type": "execute_result"
    },
    {
     "data": {
      "image/png": "[encoded data removed]",
      "text/plain": [
       "<Figure size 432x288 with 1 Axes>"
      ]
     },
     "metadata": {},
     "output_type": "display_data"
    }
   ],
   "source": [
    "maxiter = ci_niter(3000)\n",
    "logf_dgp3_50 = run_adam_dgp(dgp3_50, maxiter)\n",
    "plt.plot(np.arange(maxiter)[::10], logf_dgp3_50)\n",
    "plt.xlabel('iteration')\n",
    "plt.ylabel('ELBO')\n",
    "plt.title('ELBO of DGP 3 layers')"
   ]
  },
  {
   "cell_type": "code",
   "execution_count": 145,
   "metadata": {},
   "outputs": [
    {
     "name": "stderr",
     "output_type": "stream",
     "text": [
      "/homes/rx220/env/lib/python3.7/site-packages/ipykernel_launcher.py:41: TqdmDeprecationWarning: This function will be removed in tqdm==5.0.0\n",
      "Please use `tqdm.notebook.tqdm` instead of `tqdm.tqdm_notebook`\n"
     ]
    },
    {
     "data": {
      "application/vnd.jupyter.widget-view+json": {
       "model_id": "9016b0e3d35a4b0cbfccdf6e03a72e42",
       "version_major": 2,
       "version_minor": 0
      },
      "text/plain": [
       "HBox(children=(FloatProgress(value=0.0, max=10000.0), HTML(value='')))"
      ]
     },
     "metadata": {},
     "output_type": "display_data"
    },
    {
     "name": "stdout",
     "output_type": "stream",
     "text": [
      "-81044.91021865797\n",
      "-17311.257979918868\n",
      "-14778.364172292188\n",
      "-12836.395461248314\n",
      "-10970.997462176681\n",
      "-9750.745201850154\n",
      "-8482.302488916426\n",
      "-7520.993700551355\n",
      "-6697.408271115319\n",
      "-6858.559059287978\n",
      "\n"
     ]
    },
    {
     "data": {
      "text/plain": [
       "Text(0.5, 1.0, 'ELBO of DGP with 3 layers using Adam')"
      ]
     },
     "execution_count": 145,
     "metadata": {},
     "output_type": "execute_result"
    },
    {
     "data": {
      "image/png": "[encoded data removed]",
      "text/plain": [
       "<Figure size 432x288 with 1 Axes>"
      ]
     },
     "metadata": {},
     "output_type": "display_data"
    }
   ],
   "source": [
    "maxiter = ci_niter(10000)\n",
    "logf_dgp3_adam, dgp3_gradients= run_adam_dgp(dgp3_adam, maxiter)\n",
    "plt.plot(np.arange(maxiter)[::10], logf_dgp3_adam)\n",
    "plt.xlabel('iteration')\n",
    "plt.ylabel('ELBO')\n",
    "plt.title('ELBO of DGP with 3 layers using Adam')"
   ]
  },
  {
   "cell_type": "code",
   "execution_count": 22,
   "metadata": {
    "scrolled": false
   },
   "outputs": [
    {
     "name": "stderr",
     "output_type": "stream",
     "text": [
      "/homes/rx220/env/lib/python3.7/site-packages/ipykernel_launcher.py:41: TqdmDeprecationWarning: This function will be removed in tqdm==5.0.0\n",
      "Please use `tqdm.notebook.tqdm` instead of `tqdm.tqdm_notebook`\n"
     ]
    },
    {
     "data": {
      "application/vnd.jupyter.widget-view+json": {
       "model_id": "66a312e1d6ae4cedb72de827736a4620",
       "version_major": 2,
       "version_minor": 0
      },
      "text/plain": [
       "HBox(children=(FloatProgress(value=0.0, max=5000.0), HTML(value='')))"
      ]
     },
     "metadata": {},
     "output_type": "display_data"
    },
    {
     "name": "stdout",
     "output_type": "stream",
     "text": [
      "WARNING:tensorflow:From /homes/rx220/env/lib/python3.7/site-packages/tensorflow_core/python/ops/math_grad.py:281: setdiff1d (from tensorflow.python.ops.array_ops) is deprecated and will be removed after 2018-11-30.\n",
      "Instructions for updating:\n",
      "This op will be removed after the deprecation date. Please switch to tf.sets.difference().\n",
      "-107530.08718131564\n",
      "-52754.44758766349\n",
      "-50194.66938083587\n",
      "-48146.709139756305\n",
      "-46433.8098474302\n",
      "\n"
     ]
    },
    {
     "data": {
      "text/plain": [
       "Text(0.5, 1.0, 'ELBO of DGP')"
      ]
     },
     "execution_count": 22,
     "metadata": {},
     "output_type": "execute_result"
    },
    {
     "data": {
      "image/png": "[encoded data removed]",
      "text/plain": [
       "<Figure size 432x288 with 1 Axes>"
      ]
     },
     "metadata": {},
     "output_type": "display_data"
    }
   ],
   "source": [
    "maxiter = ci_niter(5000)\n",
    "logf_dgp3, dgp3_gradients= run_adam_dgp(dgp3, maxiter)\n",
    "plt.plot(np.arange(maxiter)[::10], dgp3_gradients)\n",
    "plt.xlabel('iteration')\n",
    "plt.ylabel('ELBO')\n",
    "plt.title('ELBO of DGP')"
   ]
  },
  {
   "cell_type": "code",
   "execution_count": 42,
   "metadata": {},
   "outputs": [
    {
     "name": "stderr",
     "output_type": "stream",
     "text": [
      "/homes/rx220/env/lib/python3.7/site-packages/ipykernel_launcher.py:41: TqdmDeprecationWarning: This function will be removed in tqdm==5.0.0\n",
      "Please use `tqdm.notebook.tqdm` instead of `tqdm.tqdm_notebook`\n"
     ]
    },
    {
     "data": {
      "application/vnd.jupyter.widget-view+json": {
       "model_id": "fb182c0cf6074a28a9bafc0c291d71fa",
       "version_major": 2,
       "version_minor": 0
      },
      "text/plain": [
       "HBox(children=(FloatProgress(value=0.0, max=20000.0), HTML(value='')))"
      ]
     },
     "metadata": {},
     "output_type": "display_data"
    },
    {
     "name": "stdout",
     "output_type": "stream",
     "text": [
      "-81044.91021865797\n",
      "-17583.301182203206\n",
      "-14631.96647388022\n",
      "-12830.312884109542\n",
      "-10800.900099712939\n",
      "-9447.575895825808\n",
      "-8464.246640228288\n",
      "-7348.751724407532\n",
      "-6708.602510749383\n",
      "-5759.1380776932565\n",
      "-5741.682040540742\n",
      "-6221.637872317323\n",
      "-5642.566679395728\n",
      "-5673.872395317908\n",
      "-5726.9326441801095\n",
      "-5985.699196401129\n",
      "-6062.950603559928\n",
      "-6062.85114308014\n",
      "-5851.066467240658\n",
      "-6002.292947932987\n",
      "\n"
     ]
    },
    {
     "data": {
      "text/plain": [
       "Text(0.5, 1.0, 'ELBO of DGP3 ARD Adam')"
      ]
     },
     "execution_count": 42,
     "metadata": {},
     "output_type": "execute_result"
    },
    {
     "data": {
      "image/png": "[encoded data removed]",
      "text/plain": [
       "<Figure size 432x288 with 1 Axes>"
      ]
     },
     "metadata": {},
     "output_type": "display_data"
    }
   ],
   "source": [
    "maxiter = ci_niter(20000)\n",
    "logf3_adam, gradient = run_adam_dgp(dgp3_ard, maxiter)\n",
    "plt.plot(np.arange(maxiter)[::10], logf3_adam)\n",
    "plt.xlabel('iteration')\n",
    "plt.ylabel('ELBO');\n",
    "plt.title('ELBO of DGP3 ARD Adam')"
   ]
  },
  {
   "cell_type": "code",
   "execution_count": 30,
   "metadata": {
    "scrolled": false
   },
   "outputs": [
    {
     "name": "stderr",
     "output_type": "stream",
     "text": [
      "/homes/rx220/env/lib/python3.7/site-packages/ipykernel_launcher.py:20: TqdmDeprecationWarning: This function will be removed in tqdm==5.0.0\n",
      "Please use `tqdm.notebook.tqdm` instead of `tqdm.tqdm_notebook`\n"
     ]
    },
    {
     "data": {
      "application/vnd.jupyter.widget-view+json": {
       "model_id": "ef06a54287e0435aa93b2cff6de4774e",
       "version_major": 2,
       "version_minor": 0
      },
      "text/plain": [
       "HBox(children=(FloatProgress(value=0.0, max=5000.0), HTML(value='')))"
      ]
     },
     "metadata": {},
     "output_type": "display_data"
    },
    {
     "name": "stdout",
     "output_type": "stream",
     "text": [
      "-80991.43365125632\n",
      "-57277.374255184586\n",
      "-42069.56109302445\n",
      "-27046.493902399106\n",
      "-12090.214770462979\n",
      "-6088.1342676883905\n",
      "-5758.383480329671\n",
      "-5872.799108930774\n",
      "-6092.048727698301\n",
      "-6293.433887429142\n",
      "\n"
     ]
    },
    {
     "data": {
      "text/plain": [
       "Text(0.5, 1.0, 'ELBO of DGP3 ARD NatGrad')"
      ]
     },
     "execution_count": 30,
     "metadata": {},
     "output_type": "execute_result"
    },
    {
     "data": {
      "image/png": "[encoded data removed]",
      "text/plain": [
       "<Figure size 432x288 with 1 Axes>"
      ]
     },
     "metadata": {},
     "output_type": "display_data"
    }
   ],
   "source": [
    "maxiter = ci_niter(5000)\n",
    "logf3_natgrad = run_adam_dgp(dgp3_ard, maxiter)\n",
    "plt.plot(np.arange(maxiter)[::10], logf3_natgrad)\n",
    "plt.xlabel('iteration')\n",
    "plt.ylabel('ELBO');\n",
    "plt.title('ELBO of DGP3 ARD NatGrad')"
   ]
  },
  {
   "cell_type": "code",
   "execution_count": 33,
   "metadata": {},
   "outputs": [
    {
     "data": {
      "text/plain": [
       "Text(0, 0.5, 'ELBO')"
      ]
     },
     "execution_count": 33,
     "metadata": {},
     "output_type": "execute_result"
    },
    {
     "data": {
      "image/png": "[encoded data removed]",
      "text/plain": [
       "<Figure size 432x288 with 1 Axes>"
      ]
     },
     "metadata": {},
     "output_type": "display_data"
    }
   ],
   "source": [
    "plt.plot(np.arange(maxiter)[::10], logf3_natgrad, label='NatGrad')\n",
    "plt.plot(np.arange(maxiter)[::10], logf3_adam, label='Adam')\n",
    "plt.legend(loc='lower right')\n",
    "plt.xlabel('iteration')\n",
    "plt.ylabel('ELBO')"
   ]
  },
  {
   "cell_type": "code",
   "execution_count": 93,
   "metadata": {
    "scrolled": false
   },
   "outputs": [
    {
     "name": "stderr",
     "output_type": "stream",
     "text": [
      "/homes/rx220/env/lib/python3.7/site-packages/ipykernel_launcher.py:20: TqdmDeprecationWarning: This function will be removed in tqdm==5.0.0\n",
      "Please use `tqdm.notebook.tqdm` instead of `tqdm.tqdm_notebook`\n"
     ]
    },
    {
     "data": {
      "application/vnd.jupyter.widget-view+json": {
       "model_id": "dcd4d7af39e44aabb03e2f0d17df2e3f",
       "version_major": 2,
       "version_minor": 0
      },
      "text/plain": [
       "HBox(children=(FloatProgress(value=0.0, max=5000.0), HTML(value='')))"
      ]
     },
     "metadata": {},
     "output_type": "display_data"
    },
    {
     "name": "stdout",
     "output_type": "stream",
     "text": [
      "-113804.57085955827\n",
      "-83064.9507931269\n",
      "-60098.819892506115\n",
      "-37523.68349568642\n",
      "-15441.14843274347\n",
      "-6291.03468661289\n",
      "-6381.600711730108\n",
      "-6202.995064911882\n",
      "-6547.011337155086\n",
      "-6373.409283218059\n",
      "\n"
     ]
    },
    {
     "data": {
      "text/plain": [
       "Text(0.5, 1.0, 'ELBO of DGP 4 layers')"
      ]
     },
     "execution_count": 93,
     "metadata": {},
     "output_type": "execute_result"
    },
    {
     "data": {
      "image/png": "[encoded data removed]",
      "text/plain": [
       "<Figure size 432x288 with 1 Axes>"
      ]
     },
     "metadata": {},
     "output_type": "display_data"
    }
   ],
   "source": [
    "maxiter = ci_niter(5000)\n",
    "logf_dgp4 = run_adam_dgp(dgp4, maxiter)\n",
    "plt.plot(np.arange(maxiter)[::10], logf_dgp4)\n",
    "plt.xlabel('iteration')\n",
    "plt.ylabel('ELBO')\n",
    "plt.title('ELBO of DGP 4 layers')"
   ]
  },
  {
   "cell_type": "code",
   "execution_count": 149,
   "metadata": {},
   "outputs": [
    {
     "name": "stderr",
     "output_type": "stream",
     "text": [
      "/homes/rx220/env/lib/python3.7/site-packages/ipykernel_launcher.py:41: TqdmDeprecationWarning: This function will be removed in tqdm==5.0.0\n",
      "Please use `tqdm.notebook.tqdm` instead of `tqdm.tqdm_notebook`\n"
     ]
    },
    {
     "data": {
      "application/vnd.jupyter.widget-view+json": {
       "model_id": "eead77e1dfbf4895ad5fe02ee41217e1",
       "version_major": 2,
       "version_minor": 0
      },
      "text/plain": [
       "HBox(children=(FloatProgress(value=0.0, max=10000.0), HTML(value='')))"
      ]
     },
     "metadata": {},
     "output_type": "display_data"
    },
    {
     "name": "stdout",
     "output_type": "stream",
     "text": [
      "-114083.68661371844\n",
      "-23463.49674465834\n",
      "-18912.07838132814\n",
      "-15894.399978747913\n",
      "-13475.003021865574\n",
      "-11712.047855517143\n",
      "-9639.242546749701\n",
      "-7913.588958055517\n",
      "-7427.158420979889\n",
      "-6375.755392997444\n",
      "\n"
     ]
    },
    {
     "data": {
      "text/plain": [
       "Text(0.5, 1.0, 'ELBO of DGP with 4 layers using Adam')"
      ]
     },
     "execution_count": 149,
     "metadata": {},
     "output_type": "execute_result"
    },
    {
     "data": {
      "image/png": "[encoded data removed]",
      "text/plain": [
       "<Figure size 432x288 with 1 Axes>"
      ]
     },
     "metadata": {},
     "output_type": "display_data"
    }
   ],
   "source": [
    "maxiter = ci_niter(10000)\n",
    "logf_dgp4_adam, dgp4_gradients= run_adam_dgp(dgp4_adam, maxiter)\n",
    "plt.plot(np.arange(maxiter)[::10], logf_dgp4_adam)\n",
    "plt.xlabel('iteration')\n",
    "plt.ylabel('ELBO')\n",
    "plt.title('ELBO of DGP with 4 layers using Adam')"
   ]
  },
  {
   "cell_type": "code",
   "execution_count": 24,
   "metadata": {},
   "outputs": [],
   "source": [
    "def assess_model_sgp(model, X_batch, Y_batch):\n",
    "    m, v = model.predict_y(X_batch)\n",
    "    l = model.predict_log_density([X_batch, Y_batch])\n",
    "    a = ((m>0.5).numpy().astype(int) == Y_batch.astype(int))\n",
    "    return l, a\n",
    "\n",
    "S = 100\n",
    "def assess_model_dgp(model, X_batch, Y_batch):\n",
    "    m, v = model.predict_y(X_batch, S)\n",
    "    l = model.predict_density(X_batch, Y_batch, S)\n",
    "    m = np.average(m,axis=0)\n",
    "    a = ((m>0.5).astype(int) == Y_batch.astype(int))\n",
    "    return l, a"
   ]
  },
  {
   "cell_type": "code",
   "execution_count": 25,
   "metadata": {},
   "outputs": [],
   "source": [
    "def batch_assess(model, assess_model, X, Y):\n",
    "    n_batches = max(int(len(X)/1000), 1)\n",
    "    lik, acc = [], []\n",
    "    for X_batch, Y_batch in zip(np.split(X, n_batches), np.split(Y, n_batches)):\n",
    "        l, a = assess_model(model, X_batch, Y_batch)\n",
    "        lik.append(l)\n",
    "        acc.append(a)\n",
    "    lik = np.concatenate(lik, 0)\n",
    "    acc = np.array(np.concatenate(acc, 0), dtype=float)\n",
    "    return np.average(lik), np.average(acc)"
   ]
  },
  {
   "cell_type": "markdown",
   "metadata": {},
   "source": [
    "## SGP"
   ]
  },
  {
   "cell_type": "code",
   "execution_count": 178,
   "metadata": {},
   "outputs": [
    {
     "name": "stdout",
     "output_type": "stream",
     "text": [
      "sgp test lik: -0.6575, test acc 0.7212\n"
     ]
    }
   ],
   "source": [
    "l, a = batch_assess(m, assess_model_sgp, x_test, y_test)\n",
    "print('sgp test lik: {:.4f}, test acc {:.4f}'.format(l, a))"
   ]
  },
  {
   "cell_type": "code",
   "execution_count": 169,
   "metadata": {},
   "outputs": [
    {
     "name": "stdout",
     "output_type": "stream",
     "text": [
      "sgp test lik: -0.6541, test acc 0.7287\n"
     ]
    }
   ],
   "source": [
    "l, a = batch_assess(m_500, assess_model_sgp, x_test, y_test)\n",
    "print('sgp test lik: {:.4f}, test acc {:.4f}'.format(l, a))"
   ]
  },
  {
   "cell_type": "markdown",
   "metadata": {},
   "source": [
    "## DGP using Adam"
   ]
  },
  {
   "cell_type": "code",
   "execution_count": 115,
   "metadata": {
    "scrolled": true
   },
   "outputs": [
    {
     "name": "stdout",
     "output_type": "stream",
     "text": [
      "dgp2 test lik: -0.4817, test acc 0.7674\n"
     ]
    }
   ],
   "source": [
    "l, a = batch_assess(dgp2, assess_model_dgp, x_test, y_test)\n",
    "print('dgp2 test lik: {:.4f}, test acc {:.4f}'.format(l, a))"
   ]
  },
  {
   "cell_type": "code",
   "execution_count": 146,
   "metadata": {},
   "outputs": [
    {
     "name": "stdout",
     "output_type": "stream",
     "text": [
      "dgp3_adam test lik: -0.4643, test acc 0.7747\n"
     ]
    }
   ],
   "source": [
    "l, a = batch_assess(dgp3_adam, assess_model_dgp, x_test, y_test)\n",
    "print('dgp3_adam test lik: {:.4f}, test acc {:.4f}'.format(l, a))"
   ]
  },
  {
   "cell_type": "code",
   "execution_count": 150,
   "metadata": {},
   "outputs": [
    {
     "name": "stdout",
     "output_type": "stream",
     "text": [
      "dgp4 test lik: -0.4650, test acc 0.7766\n"
     ]
    }
   ],
   "source": [
    "l, a = batch_assess(dgp4_adam, assess_model_dgp, x_test, y_test)\n",
    "print('dgp4 test lik: {:.4f}, test acc {:.4f}'.format(l, a))"
   ]
  },
  {
   "cell_type": "markdown",
   "metadata": {},
   "source": [
    "## DGP using NatGrad"
   ]
  },
  {
   "cell_type": "code",
   "execution_count": 100,
   "metadata": {},
   "outputs": [
    {
     "name": "stdout",
     "output_type": "stream",
     "text": [
      "dgp3 test lik: -0.4795, test acc 0.7698\n"
     ]
    }
   ],
   "source": [
    "l, a = batch_assess(dgp3, assess_model_dgp, x_test, y_test)\n",
    "print('dgp3 test lik: {:.4f}, test acc {:.4f}'.format(l, a))"
   ]
  },
  {
   "cell_type": "code",
   "execution_count": 108,
   "metadata": {},
   "outputs": [
    {
     "name": "stdout",
     "output_type": "stream",
     "text": [
      "dgp3_50 test lik: -0.4815, test acc 0.7682\n"
     ]
    }
   ],
   "source": [
    "l, a = batch_assess(dgp3_50, assess_model_dgp, x_test, y_test)\n",
    "print('dgp3_50 test lik: {:.4f}, test acc {:.4f}'.format(l, a))"
   ]
  },
  {
   "cell_type": "code",
   "execution_count": 95,
   "metadata": {},
   "outputs": [
    {
     "name": "stdout",
     "output_type": "stream",
     "text": [
      "dgp4 test lik: -0.4809, test acc 0.7692\n"
     ]
    }
   ],
   "source": [
    "l, a = batch_assess(dgp4, assess_model_dgp, x_test, y_test)\n",
    "print('dgp4 test lik: {:.4f}, test acc {:.4f}'.format(l, a))"
   ]
  },
  {
   "cell_type": "markdown",
   "metadata": {},
   "source": [
    "## DGP ARD"
   ]
  },
  {
   "cell_type": "code",
   "execution_count": 187,
   "metadata": {},
   "outputs": [
    {
     "name": "stdout",
     "output_type": "stream",
     "text": [
      "dgp2_ard test lik: -0.4646, test acc 0.7751\n"
     ]
    }
   ],
   "source": [
    "l, a = batch_assess(dgp2_ard, assess_model_dgp, x_test, y_test)\n",
    "print('dgp2_ard test lik: {:.4f}, test acc {:.4f}'.format(l, a))"
   ]
  },
  {
   "cell_type": "code",
   "execution_count": 43,
   "metadata": {},
   "outputs": [
    {
     "name": "stdout",
     "output_type": "stream",
     "text": [
      "dgp3_ard test lik: -0.4620, test acc 0.7748\n"
     ]
    }
   ],
   "source": [
    "l, a = batch_assess(dgp3_ard, assess_model_dgp, x_test, y_test)\n",
    "print('dgp3_ard test lik: {:.4f}, test acc {:.4f}'.format(l, a))"
   ]
  },
  {
   "cell_type": "code",
   "execution_count": 35,
   "metadata": {},
   "outputs": [
    {
     "name": "stdout",
     "output_type": "stream",
     "text": [
      "dgp3_ard_natgrad test lik: -0.4666, test acc 0.7729\n"
     ]
    }
   ],
   "source": [
    "l, a = batch_assess(dgp3_ard, assess_model_dgp, x_test, y_test)\n",
    "print('dgp3_ard_natgrad test lik: {:.4f}, test acc {:.4f}'.format(l, a))"
   ]
  },
  {
   "cell_type": "code",
   "execution_count": null,
   "metadata": {},
   "outputs": [],
   "source": []
  }
 ],
 "metadata": {
  "kernelspec": {
   "display_name": "Python 3",
   "language": "python",
   "name": "python3"
  },
  "language_info": {
   "codemirror_mode": {
    "name": "ipython",
    "version": 3
   },
   "file_extension": ".py",
   "mimetype": "text/x-python",
   "name": "python",
   "nbconvert_exporter": "python",
   "pygments_lexer": "ipython3",
   "version": "3.7.4"
  }
 },
 "nbformat": 4,
 "nbformat_minor": 2
}
