{
 "cells": [
  {
   "cell_type": "code",
   "execution_count": 2,
   "metadata": {},
   "outputs": [],
   "source": [
    "import os\n",
    "import sys\n",
    "import re\n",
    "import pdb\n",
    "\n",
    "import numpy as np\n",
    "import matplotlib.pyplot as plt\n",
    "%matplotlib inline"
   ]
  },
  {
   "cell_type": "code",
   "execution_count": 3,
   "metadata": {},
   "outputs": [
    {
     "name": "stdout",
     "output_type": "stream",
     "text": [
      "hello/there\n"
     ]
    }
   ],
   "source": [
    "print(os.path.join('hello', 'there'))"
   ]
  },
  {
   "cell_type": "code",
   "execution_count": 4,
   "metadata": {},
   "outputs": [],
   "source": [
    "datasets = ['boston', 'concrete', 'energy', 'kin8nm', 'naval', 'power', 'protein', 'wine_red']\n",
    "results_dir = '../results'\n",
    "\n",
    "layers = ['2', '3', '4', '5']"
   ]
  },
  {
   "cell_type": "code",
   "execution_count": 5,
   "metadata": {},
   "outputs": [],
   "source": [
    "layers = ['2', '3', '4', '5']\n",
    "mean_nlls = np.ndarray(shape=(len(datasets), len(layers)))\n",
    "std_nlls = np.ndarray(shape=(len(datasets), len(layers)))\n",
    "for layer in layers:\n",
    "    for dataset in datasets:\n",
    "        filename = dataset + '_' + layer + '_' + '100'\n",
    "        path = os.path.join(results_dir, filename)\n",
    "        nll_path = path + '.nll'\n",
    "        rmse_path = path + '.rsme'\n",
    "        time_path = path + '.time'\n",
    "        \n",
    "        if os.path.isfile(nll_path):\n",
    "            with open(nll_path, 'r') as f:\n",
    "                s = f.read()\n",
    "                results = re.findall('Split\\s[0-9]*:\\s(.*)\\n', s, re.MULTILINE)\n",
    "            results = [float(result) for result in results if result != 'nan']\n",
    "            mean_nlls[datasets.index(dataset), layers.index(layer)] = np.mean(results)\n",
    "            std_nlls[datasets.index(dataset), layers.index(layer)] = np.std(results)"
   ]
  },
  {
   "cell_type": "code",
   "execution_count": 6,
   "metadata": {},
   "outputs": [
    {
     "name": "stdout",
     "output_type": "stream",
     "text": [
      "[[-2.50172919 -2.49960135 -2.49843954 -2.50177852]\n",
      " [-3.17555032 -3.14674014 -3.13417215 -3.13581276]\n",
      " [-0.68167035 -0.76355    -0.72641257 -0.71844969]\n",
      " [ 1.34235157  1.36774536  1.34590753  1.34655501]\n",
      " [ 6.68811112  6.80966218  6.60651407  6.74691987]\n",
      " [-2.75085287 -2.72335247 -2.72247682 -2.72304534]\n",
      " [-2.78823197 -2.71633324 -2.69396011 -2.69354177]\n",
      " [-0.94971816 -0.95025551 -0.95017829 -0.95122159]]\n",
      "[[0.19906187 0.18974061 0.18817958 0.1845805 ]\n",
      " [0.06949214 0.07741877 0.07144115 0.07504127]\n",
      " [0.10987676 0.09832481 0.09595388 0.09522263]\n",
      " [0.02089764 0.0232969  0.01723028 0.02392997]\n",
      " [0.41539541 0.28031112 0.97416569 0.24255909]\n",
      " [0.03919197 0.04355459 0.03995322 0.03718159]\n",
      " [0.01044007 0.01191885 0.01208744 0.01197033]\n",
      " [0.05750476 0.0572139  0.05687146 0.05693198]]\n"
     ]
    }
   ],
   "source": [
    "print(mean_nlls)\n",
    "print(std_nlls)"
   ]
  },
  {
   "cell_type": "code",
   "execution_count": 20,
   "metadata": {},
   "outputs": [],
   "source": [
    "datasets = ['boston', 'concrete', 'energy', 'kin8nm', 'naval', 'power', 'protein', 'wine_red']\n",
    "results_dir = '../aep_results/'\n",
    "\n",
    "layers = ['2']\n",
    "\n",
    "aep_mean_nlls = np.ndarray(shape=(len(datasets), len(layers)))\n",
    "aep_std_nlls = np.ndarray(shape=(len(datasets), len(layers)))\n",
    "for layer in layers:\n",
    "    for dataset in datasets:\n",
    "        filename = 'aep_' + dataset + '_' + layer + '_' + '100'\n",
    "        path = os.path.join(results_dir, filename)\n",
    "        nll_path = path + '.nll'\n",
    "        rmse_path = path + '.rsme'\n",
    "        time_path = path + '.time'\n",
    "                \n",
    "        if os.path.isfile(nll_path):\n",
    "            with open(nll_path, 'r') as f:\n",
    "                s = f.read()\n",
    "                results = re.findall('Split\\s[0-9]*:\\s(.*)\\n', s, re.MULTILINE)\n",
    "            results = [float(result) for result in results if result != 'nan']\n",
    "            aep_mean_nlls[datasets.index(dataset), layers.index(layer)] = np.mean(results)\n",
    "            aep_std_nlls[datasets.index(dataset), layers.index(layer)] = np.std(results)"
   ]
  },
  {
   "cell_type": "code",
   "execution_count": 21,
   "metadata": {},
   "outputs": [
    {
     "name": "stdout",
     "output_type": "stream",
     "text": [
      "[[-2.36195149]\n",
      " [-3.16992435]\n",
      " [-1.40926433]\n",
      " [ 0.96440807]\n",
      " [ 0.72751434]\n",
      " [-2.85642549]\n",
      " [-2.96869672]\n",
      " [-0.94461939]]\n",
      "[[0.12254153]\n",
      " [0.06284828]\n",
      " [0.05975631]\n",
      " [0.03116211]\n",
      " [0.00129857]\n",
      " [0.01361348]\n",
      " [0.01093279]\n",
      " [0.06939394]]\n"
     ]
    }
   ],
   "source": [
    "print(aep_mean_nlls)\n",
    "print(aep_std_nlls)"
   ]
  },
  {
   "cell_type": "code",
   "execution_count": null,
   "metadata": {},
   "outputs": [],
   "source": []
  }
 ],
 "metadata": {
  "kernelspec": {
   "display_name": "mlmi4-env",
   "language": "python",
   "name": "mlmi4-env"
  },
  "language_info": {
   "codemirror_mode": {
    "name": "ipython",
    "version": 3
   },
   "file_extension": ".py",
   "mimetype": "text/x-python",
   "name": "python",
   "nbconvert_exporter": "python",
   "pygments_lexer": "ipython3",
   "version": "3.7.3"
  }
 },
 "nbformat": 4,
 "nbformat_minor": 2
}
