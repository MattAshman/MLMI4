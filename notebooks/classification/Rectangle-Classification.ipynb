{
 "cells": [
  {
   "cell_type": "code",
   "execution_count": 2,
   "metadata": {},
   "outputs": [],
   "source": [
    "%matplotlib inline\n",
    "import itertools\n",
    "import numpy as np\n",
    "import numpy.random as rnd\n",
    "import time\n",
    "import gpflow\n",
    "import tensorflow as tf\n",
    "import matplotlib\n",
    "import matplotlib.pyplot as plt\n",
    "from gpflow.ci_utils import ci_niter\n",
    "plt.style.use('ggplot')\n",
    "import os\n",
    "\n",
    "import sys\n",
    "sys.path.append('../code')\n",
    "from dgp import DGP\n",
    "\n",
    "gpflow.config.set_default_summary_fmt('notebook')\n",
    "np.random.seed(0)\n",
    "tf.random.set_seed(0)"
   ]
  },
  {
   "cell_type": "markdown",
   "metadata": {},
   "source": [
    "## Load Data"
   ]
  },
  {
   "cell_type": "code",
   "execution_count": 2,
   "metadata": {},
   "outputs": [
    {
     "name": "stdout",
     "output_type": "stream",
     "text": [
      "--2020-03-28 11:38:49--  http://www.iro.umontreal.ca/~lisa/icml2007data/rectangles_images.zip\n",
      "Resolving www.iro.umontreal.ca (www.iro.umontreal.ca)... 132.204.26.36\n",
      "Connecting to www.iro.umontreal.ca (www.iro.umontreal.ca)|132.204.26.36|:80... connected.\n",
      "HTTP request sent, awaiting response... 200 OK\n",
      "Length: 85344876 (81M) [application/zip]\n",
      "Saving to: ‘/tmp/rectangles_images.zip’\n",
      "\n",
      "/tmp/rectangles_ima 100%[===================>]  81.39M  25.1MB/s    in 3.6s    \n",
      "\n",
      "2020-03-28 11:38:53 (22.3 MB/s) - ‘/tmp/rectangles_images.zip’ saved [85344876/85344876]\n",
      "\n"
     ]
    }
   ],
   "source": [
    "!wget --no-check-certificate \\\n",
    "    http://www.iro.umontreal.ca/~lisa/icml2007data/rectangles_images.zip \\\n",
    "    -O /tmp/rectangles_images.zip\n",
    "import zipfile\n",
    "local_zip = '/tmp/rectangles_images.zip' # local path of downloaded .zip file\n",
    "zip_ref = zipfile.ZipFile(local_zip, 'r')\n",
    "zip_ref.extractall('/tmp') # contents are extracted to '/tmp' folder\n",
    "zip_ref.close()"
   ]
  },
  {
   "cell_type": "code",
   "execution_count": 3,
   "metadata": {},
   "outputs": [],
   "source": [
    "data_path = '/tmp'\n",
    "train_file, test_file = [os.path.join(data_path,\n",
    "                                      'rectangles_im_' + ds + '.amat') \n",
    "                         for ds in ['train','test']]"
   ]
  },
  {
   "cell_type": "code",
   "execution_count": 4,
   "metadata": {},
   "outputs": [],
   "source": [
    "def load_data(filename):\n",
    "    file = open(filename,'rt')\n",
    "    x = np.array([line.split()[:-1] for line in file.readlines()], np.float64)\n",
    "    file = open(filename,'rt')\n",
    "    y = np.array([0 if line.split()[-1]=='0.0000000e+00' else 1 for line in file.readlines()], np.int32)\n",
    "    return x,y\n",
    "\n",
    "x_train, y_train = load_data(train_file)\n",
    "x_test, y_test = load_data(test_file)"
   ]
  },
  {
   "cell_type": "code",
   "execution_count": 5,
   "metadata": {},
   "outputs": [],
   "source": [
    "y_train = np.reshape(y_train,(-1,1))\n",
    "y_test = np.reshape(y_test,(-1,1))"
   ]
  },
  {
   "cell_type": "code",
   "execution_count": 6,
   "metadata": {},
   "outputs": [
    {
     "name": "stdout",
     "output_type": "stream",
     "text": [
      "(12000, 784) (50000, 784)\n",
      "(12000, 1) (50000, 1)\n"
     ]
    }
   ],
   "source": [
    "print(x_train.shape, x_test.shape)\n",
    "print(y_train.shape, y_test.shape)"
   ]
  },
  {
   "cell_type": "code",
   "execution_count": 7,
   "metadata": {},
   "outputs": [],
   "source": [
    "minibatch_size = 1000\n",
    "train_ds = tf.data.Dataset.from_tensor_slices((x_train, y_train)).repeat().shuffle(10000)"
   ]
  },
  {
   "cell_type": "code",
   "execution_count": 8,
   "metadata": {},
   "outputs": [],
   "source": [
    "N = x_train.shape[0]\n",
    "D = x_train.shape[1]"
   ]
  },
  {
   "cell_type": "markdown",
   "metadata": {},
   "source": [
    "## Define SVGP and DGP model"
   ]
  },
  {
   "cell_type": "code",
   "execution_count": 9,
   "metadata": {},
   "outputs": [],
   "source": [
    "from scipy.stats import mode\n",
    "from scipy.cluster.vq import kmeans2\n",
    "\n",
    "# number of inducing points\n",
    "M = 100\n",
    "Z = kmeans2(x_train,M,minit='points')[0]"
   ]
  },
  {
   "cell_type": "code",
   "execution_count": 10,
   "metadata": {},
   "outputs": [],
   "source": [
    "likelihood = gpflow.likelihoods.Bernoulli()\n",
    "kernel = gpflow.kernels.SquaredExponential(variance=2., lengthscale=5.)"
   ]
  },
  {
   "cell_type": "code",
   "execution_count": 11,
   "metadata": {},
   "outputs": [],
   "source": [
    "m = gpflow.models.SVGP(kernel=kernel, likelihood=likelihood,\n",
    "    inducing_variable=Z, num_latent=1, whiten=True, q_diag=True)"
   ]
  },
  {
   "cell_type": "code",
   "execution_count": 22,
   "metadata": {},
   "outputs": [],
   "source": [
    "Z_500 = kmeans2(x_train,500,minit='points')[0]\n",
    "m_500 = gpflow.models.SVGP(kernel=kernel, likelihood=likelihood,\n",
    "    inducing_variable=Z_500, num_latent=1, whiten=True, q_diag=True)"
   ]
  },
  {
   "cell_type": "code",
   "execution_count": 11,
   "metadata": {},
   "outputs": [],
   "source": [
    "def make_DGP(L):\n",
    "    kernels = []\n",
    "    for l in range(L):\n",
    "        k = gpflow.kernels.SquaredExponential(variance=1., lengthscale=1.)\n",
    "        kernels.append(k)\n",
    "    dims = [784,]\n",
    "    for l in range(L-1):\n",
    "        dims.append(30)\n",
    "    dims.append(1)\n",
    "        \n",
    "    m_dgp = DGP(x_train, y_train, Z, dims, kernels, likelihood,\n",
    "                white=True, num_samples=1, num_data=N, minibatch_size=minibatch_size)\n",
    "    \n",
    "#     Initialise the layers to near deterministic\n",
    "    for layer in m_dgp.layers[:-1]:\n",
    "        layer.q_sqrt = gpflow.base.Parameter(layer.q_sqrt.value() * 1e-5, \n",
    "                                 transform=gpflow.utilities.triangular())\n",
    "    print(dims)\n",
    "    return m_dgp"
   ]
  },
  {
   "cell_type": "code",
   "execution_count": 12,
   "metadata": {},
   "outputs": [],
   "source": [
    "def make_DGP_ARD(L):\n",
    "    dims = [784,]\n",
    "    for l in range(L-1):\n",
    "        dims.append(30)\n",
    "    dims.append(1)\n",
    "    \n",
    "    kernels = []\n",
    "    for dim in dims[:-1]:\n",
    "        k = gpflow.kernels.SquaredExponential(variance=2., lengthscale=[2.]*dim)\n",
    "        kernels.append(k)\n",
    "    \n",
    "        \n",
    "    m_dgp = DGP(x_train, y_train, Z, dims, kernels, likelihood,\n",
    "                white=True, num_samples=1, num_data=N, minibatch_size=minibatch_size)\n",
    "    \n",
    "#     Initialise the layers to near deterministic\n",
    "    for layer in m_dgp.layers[:-1]:\n",
    "        layer.q_sqrt = gpflow.base.Parameter(layer.q_sqrt.value() * 1e-5, \n",
    "                                 transform=gpflow.utilities.triangular())\n",
    "    print(dims)\n",
    "    return m_dgp"
   ]
  },
  {
   "cell_type": "code",
   "execution_count": 13,
   "metadata": {},
   "outputs": [
    {
     "name": "stdout",
     "output_type": "stream",
     "text": [
      "[784, 30, 1]\n"
     ]
    }
   ],
   "source": [
    "dgp2 = make_DGP(2)"
   ]
  },
  {
   "cell_type": "code",
   "execution_count": 13,
   "metadata": {},
   "outputs": [
    {
     "name": "stdout",
     "output_type": "stream",
     "text": [
      "[784, 30, 1]\n",
      "[784, 30, 30, 1]\n"
     ]
    }
   ],
   "source": [
    "dgp2_ard = make_DGP_ARD(2)\n",
    "dgp3_ard = make_DGP_ARD(3)"
   ]
  },
  {
   "cell_type": "code",
   "execution_count": 96,
   "metadata": {
    "scrolled": false
   },
   "outputs": [
    {
     "name": "stdout",
     "output_type": "stream",
     "text": [
      "[784, 30, 30, 1]\n"
     ]
    }
   ],
   "source": [
    "dgp3 = make_DGP(3)"
   ]
  },
  {
   "cell_type": "code",
   "execution_count": 103,
   "metadata": {},
   "outputs": [
    {
     "name": "stdout",
     "output_type": "stream",
     "text": [
      "[784, 30, 30, 1]\n"
     ]
    }
   ],
   "source": [
    "dgp3_50 = make_DGP(3)"
   ]
  },
  {
   "cell_type": "code",
   "execution_count": 16,
   "metadata": {},
   "outputs": [
    {
     "name": "stdout",
     "output_type": "stream",
     "text": [
      "[784, 30, 30, 1]\n"
     ]
    }
   ],
   "source": [
    "dgp3 = make_DGP(3)"
   ]
  },
  {
   "cell_type": "code",
   "execution_count": 90,
   "metadata": {},
   "outputs": [
    {
     "name": "stdout",
     "output_type": "stream",
     "text": [
      "[784, 30, 30, 30, 1]\n"
     ]
    }
   ],
   "source": [
    "dgp4 = make_DGP(4)"
   ]
  },
  {
   "cell_type": "code",
   "execution_count": 147,
   "metadata": {},
   "outputs": [
    {
     "name": "stdout",
     "output_type": "stream",
     "text": [
      "[784, 30, 30, 30, 1]\n"
     ]
    }
   ],
   "source": [
    "dgp4_adam = make_DGP(4)"
   ]
  },
  {
   "cell_type": "code",
   "execution_count": 175,
   "metadata": {},
   "outputs": [
    {
     "data": {
      "text/html": [
       "<table>\n",
       "<thead>\n",
       "<tr><th>name                    </th><th>class    </th><th>transform  </th><th>trainable  </th><th>shape     </th><th>dtype  </th><th>value                                  </th></tr>\n",
       "</thead>\n",
       "<tbody>\n",
       "<tr><td>SVGP.kernel.variance    </td><td>Parameter</td><td>Softplus   </td><td>True       </td><td>()        </td><td>float64</td><td>2.0                                    </td></tr>\n",
       "<tr><td>SVGP.kernel.lengthscale </td><td>Parameter</td><td>Softplus   </td><td>True       </td><td>()        </td><td>float64</td><td>5.0                                    </td></tr>\n",
       "<tr><td>SVGP.inducing_variable.Z</td><td>Parameter</td><td>           </td><td>True       </td><td>(100, 784)</td><td>float64</td><td>[[0.33137255, 0.32838875, 0.33034953...</td></tr>\n",
       "<tr><td>SVGP.q_mu               </td><td>Parameter</td><td>           </td><td>True       </td><td>(100, 1)  </td><td>float64</td><td>[[0....                                </td></tr>\n",
       "<tr><td>SVGP.q_sqrt             </td><td>Parameter</td><td>Softplus   </td><td>True       </td><td>(100, 1)  </td><td>float64</td><td>[[1....                                </td></tr>\n",
       "</tbody>\n",
       "</table>"
      ],
      "text/plain": [
       "<IPython.core.display.HTML object>"
      ]
     },
     "metadata": {},
     "output_type": "display_data"
    }
   ],
   "source": [
    "gpflow.utilities.print_summary(m, fmt='notebook')"
   ]
  },
  {
   "cell_type": "code",
   "execution_count": 23,
   "metadata": {},
   "outputs": [
    {
     "data": {
      "text/html": [
       "<table>\n",
       "<thead>\n",
       "<tr><th>name                    </th><th>class    </th><th>transform  </th><th>trainable  </th><th>shape     </th><th>dtype  </th><th>value                                </th></tr>\n",
       "</thead>\n",
       "<tbody>\n",
       "<tr><td>SVGP.kernel.variance    </td><td>Parameter</td><td>Softplus   </td><td>True       </td><td>()        </td><td>float64</td><td>0.07425363412833821                  </td></tr>\n",
       "<tr><td>SVGP.kernel.lengthscale </td><td>Parameter</td><td>Softplus   </td><td>True       </td><td>()        </td><td>float64</td><td>5.759370317044545                    </td></tr>\n",
       "<tr><td>SVGP.inducing_variable.Z</td><td>Parameter</td><td>           </td><td>True       </td><td>(100, 784)</td><td>float64</td><td>[[0.4571394, 0.4576628, 0.45252411...</td></tr>\n",
       "<tr><td>SVGP.q_mu               </td><td>Parameter</td><td>           </td><td>True       </td><td>(100, 1)  </td><td>float64</td><td>[[-0.08077108...                     </td></tr>\n",
       "<tr><td>SVGP.q_sqrt             </td><td>Parameter</td><td>Softplus   </td><td>True       </td><td>(100, 1)  </td><td>float64</td><td>[[0.25114875...                      </td></tr>\n",
       "</tbody>\n",
       "</table>"
      ],
      "text/plain": [
       "<IPython.core.display.HTML object>"
      ]
     },
     "metadata": {},
     "output_type": "display_data"
    }
   ],
   "source": [
    "gpflow.utilities.print_summary(m, fmt='notebook')"
   ]
  },
  {
   "cell_type": "code",
   "execution_count": 156,
   "metadata": {},
   "outputs": [
    {
     "data": {
      "text/html": [
       "<table>\n",
       "<thead>\n",
       "<tr><th>name                    </th><th>class    </th><th>transform  </th><th>trainable  </th><th>shape     </th><th>dtype  </th><th>value                                  </th></tr>\n",
       "</thead>\n",
       "<tbody>\n",
       "<tr><td>SVGP.kernel.variance    </td><td>Parameter</td><td>Softplus   </td><td>True       </td><td>()        </td><td>float64</td><td>0.11993149237214155                    </td></tr>\n",
       "<tr><td>SVGP.kernel.lengthscale </td><td>Parameter</td><td>Softplus   </td><td>True       </td><td>()        </td><td>float64</td><td>5.915717792008286                      </td></tr>\n",
       "<tr><td>SVGP.inducing_variable.Z</td><td>Parameter</td><td>           </td><td>True       </td><td>(500, 784)</td><td>float64</td><td>[[0.46576191, 0.48899682, 0.49835335...</td></tr>\n",
       "<tr><td>SVGP.q_mu               </td><td>Parameter</td><td>           </td><td>True       </td><td>(500, 1)  </td><td>float64</td><td>[[-5.22500141e-02...                   </td></tr>\n",
       "<tr><td>SVGP.q_sqrt             </td><td>Parameter</td><td>Softplus   </td><td>True       </td><td>(500, 1)  </td><td>float64</td><td>[[0.1960269...                         </td></tr>\n",
       "</tbody>\n",
       "</table>"
      ],
      "text/plain": [
       "<IPython.core.display.HTML object>"
      ]
     },
     "metadata": {},
     "output_type": "display_data"
    }
   ],
   "source": [
    "gpflow.utilities.print_summary(m_500, fmt='notebook')"
   ]
  },
  {
   "cell_type": "code",
   "execution_count": 112,
   "metadata": {},
   "outputs": [
    {
     "data": {
      "text/html": [
       "<table>\n",
       "<thead>\n",
       "<tr><th>name                            </th><th>class    </th><th>transform     </th><th>trainable  </th><th>shape         </th><th>dtype  </th><th>value                                                 </th></tr>\n",
       "</thead>\n",
       "<tbody>\n",
       "<tr><td>DGP.layers[0].q_mu              </td><td>Parameter</td><td>              </td><td>True       </td><td>(100, 30)     </td><td>float64</td><td>[[0., 0., 0....                                       </td></tr>\n",
       "<tr><td>DGP.layers[0].q_sqrt            </td><td>Parameter</td><td>FillTriangular</td><td>True       </td><td>(30, 100, 100)</td><td>float64</td><td>[[[1.e-05, 0.e+00, 0.e+00...                          </td></tr>\n",
       "<tr><td>DGP.layers[0].inducing_points.Z </td><td>Parameter</td><td>              </td><td>True       </td><td>(100, 784)    </td><td>float64</td><td>[[0.34771242, 0.3382076, 0.33477346...                </td></tr>\n",
       "<tr><td>DGP.layers[0].kernel.variance   </td><td>Parameter</td><td>Softplus      </td><td>True       </td><td>()            </td><td>float64</td><td>2.0                                                   </td></tr>\n",
       "<tr><td>DGP.layers[0].kernel.lengthscale</td><td>Parameter</td><td>Softplus      </td><td>True       </td><td>()            </td><td>float64</td><td>5.0                                                   </td></tr>\n",
       "<tr><td>DGP.layers[0].mean_function.A   </td><td>Parameter</td><td>              </td><td>False      </td><td>(784, 30)     </td><td>float64</td><td>[[-0.03626653, -0.03429942, 0.0483595...              </td></tr>\n",
       "<tr><td>DGP.layers[0].mean_function.b   </td><td>Parameter</td><td>              </td><td>False      </td><td>(1,)          </td><td>float64</td><td>[0.]                                                  </td></tr>\n",
       "<tr><td>DGP.layers[1].q_mu              </td><td>Parameter</td><td>              </td><td>True       </td><td>(100, 1)      </td><td>float64</td><td>[[0....                                               </td></tr>\n",
       "<tr><td>DGP.layers[1].q_sqrt            </td><td>Parameter</td><td>FillTriangular</td><td>True       </td><td>(1, 100, 100) </td><td>float64</td><td>[[[1., 0., 0....                                      </td></tr>\n",
       "<tr><td>DGP.layers[1].inducing_points.Z </td><td>Parameter</td><td>              </td><td>True       </td><td>(100, 30)     </td><td>float64</td><td>[[-9.75489606e+00, -1.73553149e+00, -1.52179250e+00...</td></tr>\n",
       "<tr><td>DGP.layers[1].kernel.variance   </td><td>Parameter</td><td>Softplus      </td><td>True       </td><td>()            </td><td>float64</td><td>2.0                                                   </td></tr>\n",
       "<tr><td>DGP.layers[1].kernel.lengthscale</td><td>Parameter</td><td>Softplus      </td><td>True       </td><td>()            </td><td>float64</td><td>5.0                                                   </td></tr>\n",
       "</tbody>\n",
       "</table>"
      ],
      "text/plain": [
       "<IPython.core.display.HTML object>"
      ]
     },
     "metadata": {},
     "output_type": "display_data"
    }
   ],
   "source": [
    "gpflow.utilities.print_summary(dgp2, fmt='notebook')"
   ]
  },
  {
   "cell_type": "code",
   "execution_count": 33,
   "metadata": {
    "scrolled": true
   },
   "outputs": [
    {
     "data": {
      "text/html": [
       "<table>\n",
       "<thead>\n",
       "<tr><th>name                            </th><th>class    </th><th>transform     </th><th>trainable  </th><th>shape       </th><th>dtype  </th><th>value                                    </th></tr>\n",
       "</thead>\n",
       "<tbody>\n",
       "<tr><td>DGP.layers[0].q_mu              </td><td>Parameter</td><td>              </td><td>True       </td><td>(50, 30)    </td><td>float64</td><td>[[2.27143786, 0.09974037, -0.40408215... </td></tr>\n",
       "<tr><td>DGP.layers[0].q_sqrt            </td><td>Parameter</td><td>FillTriangular</td><td>True       </td><td>(30, 50, 50)</td><td>float64</td><td>[[[0.32811004, 0., 0....                 </td></tr>\n",
       "<tr><td>DGP.layers[0].inducing_points.Z </td><td>Parameter</td><td>              </td><td>True       </td><td>(50, 784)   </td><td>float64</td><td>[[1.12692882, 0.95909286, 1.22838387...  </td></tr>\n",
       "<tr><td>DGP.layers[0].kernel.variance   </td><td>Parameter</td><td>Softplus      </td><td>True       </td><td>()          </td><td>float64</td><td>2.331352728663176                        </td></tr>\n",
       "<tr><td>DGP.layers[0].kernel.lengthscale</td><td>Parameter</td><td>Softplus      </td><td>True       </td><td>()          </td><td>float64</td><td>16.149704381994326                       </td></tr>\n",
       "<tr><td>DGP.layers[0].mean_function.A   </td><td>Parameter</td><td>              </td><td>False      </td><td>(784, 30)   </td><td>float64</td><td>[[-0.03626653, -0.03429942, 0.0483595... </td></tr>\n",
       "<tr><td>DGP.layers[0].mean_function.b   </td><td>Parameter</td><td>              </td><td>False      </td><td>(1,)        </td><td>float64</td><td>[0.]                                     </td></tr>\n",
       "<tr><td>DGP.layers[1].q_mu              </td><td>Parameter</td><td>              </td><td>True       </td><td>(50, 1)     </td><td>float64</td><td>[[0.20433731...                          </td></tr>\n",
       "<tr><td>DGP.layers[1].q_sqrt            </td><td>Parameter</td><td>FillTriangular</td><td>True       </td><td>(1, 50, 50) </td><td>float64</td><td>[[[0.14096995, 0., 0....                 </td></tr>\n",
       "<tr><td>DGP.layers[1].inducing_points.Z </td><td>Parameter</td><td>              </td><td>True       </td><td>(50, 30)    </td><td>float64</td><td>[[-15.4105648, 1.26860044, -0.10526466...</td></tr>\n",
       "<tr><td>DGP.layers[1].kernel.variance   </td><td>Parameter</td><td>Softplus      </td><td>True       </td><td>()          </td><td>float64</td><td>0.4592060023510206                       </td></tr>\n",
       "<tr><td>DGP.layers[1].kernel.lengthscale</td><td>Parameter</td><td>Softplus      </td><td>True       </td><td>()          </td><td>float64</td><td>5.671804753218356                        </td></tr>\n",
       "</tbody>\n",
       "</table>"
      ],
      "text/plain": [
       "<IPython.core.display.HTML object>"
      ]
     },
     "metadata": {},
     "output_type": "display_data"
    }
   ],
   "source": [
    "gpflow.utilities.print_summary(dgp2, fmt='notebook')"
   ]
  },
  {
   "cell_type": "code",
   "execution_count": 185,
   "metadata": {
    "scrolled": true
   },
   "outputs": [
    {
     "data": {
      "text/html": [
       "<table>\n",
       "<thead>\n",
       "<tr><th>name                            </th><th>class    </th><th>transform     </th><th>trainable  </th><th>shape         </th><th>dtype  </th><th>value                                               </th></tr>\n",
       "</thead>\n",
       "<tbody>\n",
       "<tr><td>DGP.layers[0].q_mu              </td><td>Parameter</td><td>              </td><td>True       </td><td>(100, 30)     </td><td>float64</td><td>[[0.58523674, 0.34974512, -0.04716433...            </td></tr>\n",
       "<tr><td>DGP.layers[0].q_sqrt            </td><td>Parameter</td><td>FillTriangular</td><td>True       </td><td>(30, 100, 100)</td><td>float64</td><td>[[[2.02569840e-01, 0.00000000e+00, 0.00000000e+00...</td></tr>\n",
       "<tr><td>DGP.layers[0].inducing_points.Z </td><td>Parameter</td><td>              </td><td>True       </td><td>(100, 784)    </td><td>float64</td><td>[[0.42256769, 0.43536203, 0.47497946...             </td></tr>\n",
       "<tr><td>DGP.layers[0].kernel.variance   </td><td>Parameter</td><td>Softplus      </td><td>True       </td><td>()            </td><td>float64</td><td>0.17692920954976846                                 </td></tr>\n",
       "<tr><td>DGP.layers[0].kernel.lengthscale</td><td>Parameter</td><td>Softplus      </td><td>True       </td><td>(784,)        </td><td>float64</td><td>[10.47164264, 10.94599033, 10.76220985...           </td></tr>\n",
       "<tr><td>DGP.layers[0].mean_function.A   </td><td>Parameter</td><td>              </td><td>False      </td><td>(784, 30)     </td><td>float64</td><td>[[-0.03626653, -0.03429942, 0.0483595...            </td></tr>\n",
       "<tr><td>DGP.layers[0].mean_function.b   </td><td>Parameter</td><td>              </td><td>False      </td><td>(1,)          </td><td>float64</td><td>[0.]                                                </td></tr>\n",
       "<tr><td>DGP.layers[1].q_mu              </td><td>Parameter</td><td>              </td><td>True       </td><td>(100, 1)      </td><td>float64</td><td>[[2.38412736...                                     </td></tr>\n",
       "<tr><td>DGP.layers[1].q_sqrt            </td><td>Parameter</td><td>FillTriangular</td><td>True       </td><td>(1, 100, 100) </td><td>float64</td><td>[[[0.58817656, 0., 0....                            </td></tr>\n",
       "<tr><td>DGP.layers[1].inducing_points.Z </td><td>Parameter</td><td>              </td><td>True       </td><td>(100, 30)     </td><td>float64</td><td>[[-15.37682052, -2.18436687, -5.25553959...         </td></tr>\n",
       "<tr><td>DGP.layers[1].kernel.variance   </td><td>Parameter</td><td>Softplus      </td><td>True       </td><td>()            </td><td>float64</td><td>0.5210130776045063                                  </td></tr>\n",
       "<tr><td>DGP.layers[1].kernel.lengthscale</td><td>Parameter</td><td>Softplus      </td><td>True       </td><td>(30,)         </td><td>float64</td><td>[14.24932018, 6.71125877, 5.21015448...             </td></tr>\n",
       "</tbody>\n",
       "</table>"
      ],
      "text/plain": [
       "<IPython.core.display.HTML object>"
      ]
     },
     "metadata": {},
     "output_type": "display_data"
    }
   ],
   "source": [
    "gpflow.utilities.print_summary(dgp2_ard, fmt='notebook')"
   ]
  },
  {
   "cell_type": "code",
   "execution_count": 186,
   "metadata": {
    "scrolled": true
   },
   "outputs": [
    {
     "data": {
      "text/plain": [
       "<tf.Tensor: id=197425413, shape=(784,), dtype=float64, numpy=\n",
       "array([10.47164264, 10.94599033, 10.76220985, 10.93497579, 11.23854883,\n",
       "       10.89745549, 10.25039896, 10.66902026, 10.5386202 , 10.09551118,\n",
       "       10.08440274,  9.11412653,  8.61568744,  8.99907451,  4.86947802,\n",
       "        4.64821102,  7.38468017,  7.52157106,  7.43003448,  8.37274605,\n",
       "        9.36442098, 10.38022668, 10.20515945,  9.82188471, 11.01563425,\n",
       "       11.21198407, 10.92692732, 10.56797782, 11.16722231, 10.94935882,\n",
       "       11.01194579, 10.53266584, 10.82259212, 10.32216926, 10.48291343,\n",
       "       10.89525139, 10.68852551,  9.88483813, 10.70975785, 10.58312378,\n",
       "       10.31164752, 10.04712524, 10.58472597, 10.87713824, 10.97734496,\n",
       "       10.81360436, 10.95655566, 10.67622088, 10.77791754, 10.89429728,\n",
       "       10.02577365, 10.01535046, 10.01421891, 10.65664966, 11.03848659,\n",
       "       10.78946777, 11.25053591, 10.83460329, 10.60910992, 10.77993157,\n",
       "       10.63947169,  9.51266169,  9.57449187, 10.6740585 ,  9.90663058,\n",
       "        9.52464156,  9.87210786, 10.2948257 , 10.75098218,  9.75007875,\n",
       "       10.58258462, 10.57940166,  9.69187557, 10.30031954, 10.58708093,\n",
       "       10.35813607, 10.48395327, 10.66101972,  9.89012715,  8.61906831,\n",
       "        9.60966292, 10.90203178, 10.78310652, 10.63629304, 10.93206405,\n",
       "       10.66114989, 11.02679479, 10.45869942, 10.61265416,  9.71684945,\n",
       "        9.71341006, 10.22651747, 10.55891229,  8.90204354,  8.88052379,\n",
       "       10.59199122, 10.98381478,  9.90633622, 10.43063113, 10.2658346 ,\n",
       "        9.98191566,  9.17065673,  8.95341407,  9.29367357,  9.31674514,\n",
       "        9.59468006,  9.89550224,  9.75367104, 10.31572974, 10.74748806,\n",
       "       10.61373086, 10.42511999, 10.82550598, 10.00901582, 10.01258848,\n",
       "       10.21204784,  9.83315725,  9.98884136,  8.25529587,  7.40290487,\n",
       "        9.42413266,  9.45900302, 10.32368914, 10.53134681, 10.31049194,\n",
       "        9.27345049,  9.52048324, 10.16190787,  8.86633242,  9.60967085,\n",
       "       10.02872363,  9.45450372, 10.13101669,  9.56346128,  7.31305134,\n",
       "       10.1203463 , 10.34919599, 10.4149042 , 10.65084265, 10.2999221 ,\n",
       "       10.88152649, 10.67521562, 10.3825011 , 10.74500141, 10.15325505,\n",
       "       10.91629266,  9.92958173,  6.17574488,  6.42447609,  3.91608959,\n",
       "        7.79600971,  8.87327482,  9.31668902,  5.66982356,  9.61974937,\n",
       "       10.07217242,  8.99955355,  9.51544073,  9.67414714,  8.51313365,\n",
       "        8.03678039,  8.25273607,  7.7912207 ,  8.76901474,  9.22232051,\n",
       "       10.14970799, 10.16742397, 10.25332025,  9.8219417 , 10.68247228,\n",
       "       10.16570669, 10.30524486,  9.73692289,  9.9116365 ,  9.56642578,\n",
       "        8.94133037,  8.31009315,  5.64520128,  6.02994709,  9.4806191 ,\n",
       "        8.31901684,  4.54422831,  7.14304734,  7.40994298,  5.53237109,\n",
       "        9.25627008,  9.45473142, 10.10196363,  7.34194516,  8.84610585,\n",
       "        6.59652991,  6.98006153,  6.53466766,  9.08524257, 10.60074992,\n",
       "       10.42375275,  9.60931269, 10.08453347,  8.60679881,  8.43177018,\n",
       "        9.76132841,  7.21803726,  9.16573463,  8.5927359 ,  8.92259191,\n",
       "        1.19966007,  6.86931912,  8.78888403,  0.8253069 ,  7.80268151,\n",
       "        9.40917505,  8.22176865,  1.93779282,  5.76044197,  8.07219788,\n",
       "        9.40029701,  9.41369467,  9.43450637,  7.79011813,  6.74220483,\n",
       "        9.50938713, 10.67752227, 10.49012345,  9.86768558,  8.07133586,\n",
       "       10.02067285,  9.48442881,  7.67523991,  8.49645169,  3.31829094,\n",
       "        6.86686794,  8.29990217,  9.50837799,  7.17545829,  7.65985406,\n",
       "        9.05959812,  9.44915182, 10.46217744, 10.90171173, 10.80943055,\n",
       "        7.03429093,  8.67656559,  8.7095812 ,  9.44189705,  9.19141817,\n",
       "       10.11350236,  9.90978674, 10.11285543, 10.36286671, 10.26885058,\n",
       "        9.78970004, 10.11623949,  5.7691453 ,  9.65410226, 10.4752125 ,\n",
       "        9.93355545, 10.17033036,  8.02871177,  9.73580318,  9.70748958,\n",
       "        9.93961123,  8.95289213,  9.73611736, 10.42045838, 10.60462441,\n",
       "       10.58852353, 10.79986219, 10.15715195,  7.46974824,  5.41771018,\n",
       "        8.39320882,  9.3539001 ,  9.08814278,  9.44898683,  8.45546908,\n",
       "        9.89272819, 10.17961143, 10.65568731, 10.50952923, 10.58993293,\n",
       "        7.30365421,  9.8314767 , 10.04822864,  9.92897679, 10.37021245,\n",
       "        9.63239251,  9.50147813,  9.53008401, 10.68428816, 10.5112414 ,\n",
       "       10.78624048, 10.32789711, 10.56571883, 10.66394919, 10.85617872,\n",
       "        9.69149613,  9.75050908,  8.433497  ,  8.58946832, 10.41444279,\n",
       "        9.30909689,  7.90556489,  8.22647427,  6.70633913, 10.73586315,\n",
       "       10.86642674, 10.61165483, 10.53814685,  7.25948775,  9.23130868,\n",
       "       10.62991562,  9.88688278, 10.0380953 ,  9.21019077,  9.00007579,\n",
       "        8.27387592,  8.59687923, 10.40628367, 10.45907346,  9.09387026,\n",
       "        9.07881561, 10.38477322, 10.70876413, 10.79756987,  9.50789448,\n",
       "        9.09760943,  8.92142791,  8.86263391,  9.99112735,  9.05306265,\n",
       "        7.66518276,  8.34795679, 10.46225443, 10.36250451, 10.31677701,\n",
       "        9.96905727,  8.19320456, 10.13288767, 10.32863304,  8.2809315 ,\n",
       "        9.41204025,  9.3609826 ,  7.96821059,  9.05497184,  9.34617035,\n",
       "       10.60891141, 10.19822447,  9.65528094,  9.21157638,  9.95486083,\n",
       "       10.21458123, 10.47426575,  9.14906512,  9.36809374, 10.03361262,\n",
       "        8.74199596,  8.71420364,  9.53754169,  9.10995161,  9.52936681,\n",
       "       10.78864085,  9.95168704, 10.59433312, 10.77430803,  8.2621491 ,\n",
       "       10.10077086,  9.74948219,  9.64629147, 10.03045959,  9.87663541,\n",
       "        8.30469687,  9.23965938,  7.63397571,  9.36238846,  9.89861915,\n",
       "        9.79247102,  9.04268651,  6.99068299,  8.26550157,  8.82035521,\n",
       "        8.9315206 , 10.15078414,  9.54659848,  9.46793642,  8.6711774 ,\n",
       "        9.26476118,  9.1433604 , 10.23645124, 10.34873187, 10.28694715,\n",
       "       11.00022675, 10.3149229 ,  6.32962857, 10.2860174 , 10.46171013,\n",
       "        8.53419354,  8.23718394,  6.80863529,  6.12144898,  5.27212391,\n",
       "        4.16647285,  7.61007391, 10.09424084, 10.16452974,  1.07887111,\n",
       "        7.91756747,  7.84633499,  9.47536663,  1.18488898,  7.76146634,\n",
       "        5.88011978,  9.159414  ,  9.12582363,  8.2226923 ,  9.40947245,\n",
       "       10.54796192, 10.3872473 ,  9.94996373, 10.76453581, 10.00033938,\n",
       "        5.07308125, 10.7395947 , 10.38515523,  8.37685409,  8.13929386,\n",
       "        7.50927732,  7.31941453,  1.70210332,  4.04572385,  8.78896721,\n",
       "        9.19824746,  9.72981823,  1.96927634,  4.45666944,  6.96472747,\n",
       "        8.5415422 ,  8.73252238,  8.03925509,  0.72041817,  9.21137349,\n",
       "       10.09800279,  6.79003004,  9.4832719 , 10.49527014, 10.50825309,\n",
       "       10.2857798 , 10.69809487, 10.23492029,  8.93136413, 10.04425974,\n",
       "        9.59017166, 10.10577081, 10.07849764,  8.85028179,  7.2167892 ,\n",
       "        5.41856301,  3.9959298 ,  9.35776071,  9.20399318,  6.01513822,\n",
       "        5.52930879,  5.59971326,  6.60271377,  5.96646749,  2.35293419,\n",
       "        7.79122072,  2.66839679,  6.26588462,  3.55817691,  3.93001983,\n",
       "        9.35264619, 10.23038943, 10.44803871, 10.52341306, 10.83358148,\n",
       "        8.95570754,  9.59651984, 10.4787075 ,  8.48057559,  9.31868493,\n",
       "       10.00798855, 10.03490896,  8.37031518,  8.10591316,  8.28645405,\n",
       "       10.05384385,  9.09608702,  2.6894908 ,  7.62997982,  3.39231671,\n",
       "        8.09773627,  2.16300869,  2.02309157,  9.47458547,  9.54839677,\n",
       "        8.23732012,  8.55051096,  7.18566358, 10.09103804, 10.8310129 ,\n",
       "       10.66666209, 10.52268291, 10.88537759, 10.04626438,  8.87565584,\n",
       "        9.98805615, 10.80641888, 10.04526458, 10.89260462, 10.64658509,\n",
       "        8.1703936 ,  7.40767635,  9.59972932, 10.34545344,  9.77908343,\n",
       "        9.09601012,  9.5798956 ,  8.82035442,  8.67123742,  1.3010971 ,\n",
       "        6.21594697,  9.55167183,  9.15291895,  9.02915655,  9.17297325,\n",
       "        8.62512243, 10.78580633, 10.71486873, 10.31195919, 10.52135722,\n",
       "       10.88228005,  9.97494803,  9.66104953, 10.89552474, 10.33072507,\n",
       "       10.16404001, 10.47738728, 10.73805136, 10.34029644,  8.71731512,\n",
       "        9.62390607,  9.38671534,  8.37225081,  9.16784257,  9.06613052,\n",
       "        8.99106098,  8.08154626,  6.51935773,  8.34532001, 10.06530884,\n",
       "        9.21470517, 10.07530893, 10.23704752, 10.18757161, 10.2751611 ,\n",
       "       10.6825709 , 10.34461353, 10.59187826, 10.45395423,  9.88886656,\n",
       "       10.2693515 , 11.03094199,  9.20862417,  9.24715741, 10.02295351,\n",
       "        9.91568727,  9.68241858,  6.95473739,  9.58778102,  7.32294595,\n",
       "        5.26833397,  3.95995641,  9.24856547,  8.97206866,  9.56798681,\n",
       "        7.89665722,  7.89943252,  9.41989735,  7.87645046,  9.73671761,\n",
       "       10.5361877 , 10.24789569, 10.5246098 ,  9.54604234, 10.27841956,\n",
       "        9.78381352,  8.99322908,  9.18405396, 10.76905053, 11.1580726 ,\n",
       "        9.70874037,  9.87998454, 10.09683344,  9.7648625 ,  8.566659  ,\n",
       "        5.32341375,  7.64069167,  6.88556539,  6.63640698,  7.71586119,\n",
       "       10.4793604 , 10.14315242,  9.53302415,  9.65298503,  9.17797244,\n",
       "        9.83704856,  7.2743708 , 10.10424593, 10.38267313, 10.74857328,\n",
       "       10.97211177,  9.3446905 ,  9.89658552, 10.44712426, 10.80386094,\n",
       "        9.97860133, 10.97430336, 10.59478631,  6.47533937,  9.30637127,\n",
       "        8.22214558,  9.17377836,  7.31764515,  5.96793019,  8.55060865,\n",
       "        9.14095802,  8.37783965,  9.62882882, 10.2955035 , 10.61968937,\n",
       "        9.87452487, 10.14163962,  9.89474695,  9.60011937,  8.90219405,\n",
       "       10.05223922, 10.97253021, 11.0509191 , 10.77269912,  9.93369858,\n",
       "       10.88719786, 10.37088988, 11.11090424, 10.81659801, 10.87859287,\n",
       "        9.96200293,  5.8525    ,  6.66312263,  7.2825282 ,  8.46523308,\n",
       "        7.89885695,  7.90968674,  5.95242819,  5.59799799,  9.12259431,\n",
       "        9.58586594, 10.60986854, 10.68041385, 10.94697466, 10.35179247,\n",
       "       10.40771381, 10.15300447,  8.76978873,  9.93607317, 10.47740687,\n",
       "        9.48400264,  9.35527547,  8.70561909, 10.33979716, 10.74960669,\n",
       "       11.29340404, 11.22700584, 10.96643107, 10.62276997,  7.54217247,\n",
       "        8.70478387,  6.4645937 ,  7.74393259,  8.38420184,  8.63911379,\n",
       "        8.41414131,  9.71524184,  9.33025175,  9.80573726,  9.86820631,\n",
       "       10.93610321, 10.88041475, 10.93772175, 10.71935016, 10.14927556,\n",
       "       10.44434479, 10.75057668, 10.46495435, 10.29539284,  9.41347383,\n",
       "       10.27190483, 10.94469996, 10.60152113, 11.33801694, 11.23263961,\n",
       "       11.08629126, 10.57885184,  9.81587388, 10.05805612,  9.29048216,\n",
       "       10.14627675,  9.98190179,  9.58744905,  9.45310614, 10.18052947,\n",
       "       10.71113546,  9.90691495, 10.44379126, 10.2548723 , 10.6892826 ,\n",
       "       10.21129248, 10.33006456,  9.90365789,  9.66874115, 10.399021  ,\n",
       "       10.21063623,  9.66898309,  8.32147149,  7.444792  ,  9.89321737,\n",
       "       10.23389845, 11.14803662, 11.36950965, 10.77142667, 11.11843118,\n",
       "       10.64390054,  9.60037   ,  9.57104752, 10.60304036, 10.7591341 ,\n",
       "       10.49522705, 10.51350254, 10.2480805 ,  9.04486419,  9.02272593,\n",
       "       10.41832081, 10.48626627,  9.88186056,  9.97643611,  9.65826547,\n",
       "        9.02995156,  9.4291776 , 10.61715655, 10.27746986, 10.39703604,\n",
       "       10.48849968,  9.21639997, 10.68854168, 10.83330217, 10.5620227 ,\n",
       "       11.07759022, 10.47549474, 10.66108698, 11.06842397, 10.7026519 ,\n",
       "       10.97828469, 10.43167995, 10.79966399, 10.2502262 , 10.40045401,\n",
       "        9.49258792,  8.58303642,  9.5897662 ,  9.76086737,  6.70089072,\n",
       "        5.40713233,  8.53182638,  7.05267163,  7.97450411,  9.57103403,\n",
       "        9.89246005,  9.21635737, 10.30151616, 10.75481729, 10.51455066,\n",
       "       10.43241927, 10.35436177, 10.46875455,  9.95610178])>"
      ]
     },
     "execution_count": 186,
     "metadata": {},
     "output_type": "execute_result"
    }
   ],
   "source": [
    "dgp2_ard.layers[0].kernel.lengthscale"
   ]
  },
  {
   "cell_type": "code",
   "execution_count": 97,
   "metadata": {},
   "outputs": [
    {
     "data": {
      "text/html": [
       "<table>\n",
       "<thead>\n",
       "<tr><th>name                            </th><th>class    </th><th>transform     </th><th>trainable  </th><th>shape         </th><th>dtype  </th><th>value                                               </th></tr>\n",
       "</thead>\n",
       "<tbody>\n",
       "<tr><td>DGP.layers[0].q_mu              </td><td>Parameter</td><td>              </td><td>True       </td><td>(100, 30)     </td><td>float64</td><td>[[0., 0., 0....                                     </td></tr>\n",
       "<tr><td>DGP.layers[0].q_sqrt            </td><td>Parameter</td><td>FillTriangular</td><td>True       </td><td>(30, 100, 100)</td><td>float64</td><td>[[[1.e-05, 0.e+00, 0.e+00...                        </td></tr>\n",
       "<tr><td>DGP.layers[0].inducing_points.Z </td><td>Parameter</td><td>              </td><td>True       </td><td>(100, 784)    </td><td>float64</td><td>[[0.49729225, 0.46535948, 0.43744164...             </td></tr>\n",
       "<tr><td>DGP.layers[0].kernel.variance   </td><td>Parameter</td><td>Softplus      </td><td>True       </td><td>()            </td><td>float64</td><td>2.0                                                 </td></tr>\n",
       "<tr><td>DGP.layers[0].kernel.lengthscale</td><td>Parameter</td><td>Softplus      </td><td>True       </td><td>()            </td><td>float64</td><td>5.0                                                 </td></tr>\n",
       "<tr><td>DGP.layers[0].mean_function.A   </td><td>Parameter</td><td>              </td><td>False      </td><td>(784, 30)     </td><td>float64</td><td>[[-0.03626653, -0.03429942, 0.0483595...            </td></tr>\n",
       "<tr><td>DGP.layers[0].mean_function.b   </td><td>Parameter</td><td>              </td><td>False      </td><td>(1,)          </td><td>float64</td><td>[0.]                                                </td></tr>\n",
       "<tr><td>DGP.layers[1].q_mu              </td><td>Parameter</td><td>              </td><td>True       </td><td>(100, 30)     </td><td>float64</td><td>[[0., 0., 0....                                     </td></tr>\n",
       "<tr><td>DGP.layers[1].q_sqrt            </td><td>Parameter</td><td>FillTriangular</td><td>True       </td><td>(30, 100, 100)</td><td>float64</td><td>[[[1.e-05, 0.e+00, 0.e+00...                        </td></tr>\n",
       "<tr><td>DGP.layers[1].inducing_points.Z </td><td>Parameter</td><td>              </td><td>True       </td><td>(100, 30)     </td><td>float64</td><td>[[-1.78564470e+01, 4.73352204e+00, 1.37455340e+00...</td></tr>\n",
       "<tr><td>DGP.layers[1].kernel.variance   </td><td>Parameter</td><td>Softplus      </td><td>True       </td><td>()            </td><td>float64</td><td>2.0                                                 </td></tr>\n",
       "<tr><td>DGP.layers[1].kernel.lengthscale</td><td>Parameter</td><td>Softplus      </td><td>True       </td><td>()            </td><td>float64</td><td>5.0                                                 </td></tr>\n",
       "<tr><td>DGP.layers[2].q_mu              </td><td>Parameter</td><td>              </td><td>True       </td><td>(100, 1)      </td><td>float64</td><td>[[0....                                             </td></tr>\n",
       "<tr><td>DGP.layers[2].q_sqrt            </td><td>Parameter</td><td>FillTriangular</td><td>True       </td><td>(1, 100, 100) </td><td>float64</td><td>[[[1., 0., 0....                                    </td></tr>\n",
       "<tr><td>DGP.layers[2].inducing_points.Z </td><td>Parameter</td><td>              </td><td>True       </td><td>(100, 30)     </td><td>float64</td><td>[[-1.78564470e+01, 4.73352204e+00, 1.37455340e+00...</td></tr>\n",
       "<tr><td>DGP.layers[2].kernel.variance   </td><td>Parameter</td><td>Softplus      </td><td>True       </td><td>()            </td><td>float64</td><td>2.0                                                 </td></tr>\n",
       "<tr><td>DGP.layers[2].kernel.lengthscale</td><td>Parameter</td><td>Softplus      </td><td>True       </td><td>()            </td><td>float64</td><td>5.0                                                 </td></tr>\n",
       "</tbody>\n",
       "</table>"
      ],
      "text/plain": [
       "<IPython.core.display.HTML object>"
      ]
     },
     "metadata": {},
     "output_type": "display_data"
    }
   ],
   "source": [
    "gpflow.utilities.print_summary(dgp3, fmt='notebook')"
   ]
  },
  {
   "cell_type": "code",
   "execution_count": 74,
   "metadata": {
    "scrolled": false
   },
   "outputs": [
    {
     "data": {
      "text/html": [
       "<table>\n",
       "<thead>\n",
       "<tr><th>name                            </th><th>class    </th><th>transform     </th><th>trainable  </th><th>shape       </th><th>dtype  </th><th>value                                                </th></tr>\n",
       "</thead>\n",
       "<tbody>\n",
       "<tr><td>DGP.layers[0].q_mu              </td><td>Parameter</td><td>              </td><td>True       </td><td>(50, 30)    </td><td>float64</td><td>[[0.08388305, -0.00455128, 0.02131329...             </td></tr>\n",
       "<tr><td>DGP.layers[0].q_sqrt            </td><td>Parameter</td><td>FillTriangular</td><td>True       </td><td>(30, 50, 50)</td><td>float64</td><td>[[[3.59987088e-01, 0.00000000e+00, 0.00000000e+00... </td></tr>\n",
       "<tr><td>DGP.layers[0].inducing_points.Z </td><td>Parameter</td><td>              </td><td>True       </td><td>(50, 784)   </td><td>float64</td><td>[[0.69367212, 0.7587387, 0.796397...                 </td></tr>\n",
       "<tr><td>DGP.layers[0].kernel.variance   </td><td>Parameter</td><td>Softplus      </td><td>True       </td><td>()          </td><td>float64</td><td>0.001972531944807256                                 </td></tr>\n",
       "<tr><td>DGP.layers[0].kernel.lengthscale</td><td>Parameter</td><td>Softplus      </td><td>True       </td><td>()          </td><td>float64</td><td>9.006789179712198                                    </td></tr>\n",
       "<tr><td>DGP.layers[0].mean_function.A   </td><td>Parameter</td><td>              </td><td>False      </td><td>(784, 30)   </td><td>float64</td><td>[[-0.03626653, -0.03429942, 0.0483595...             </td></tr>\n",
       "<tr><td>DGP.layers[0].mean_function.b   </td><td>Parameter</td><td>              </td><td>False      </td><td>(1,)        </td><td>float64</td><td>[0.]                                                 </td></tr>\n",
       "<tr><td>DGP.layers[1].q_mu              </td><td>Parameter</td><td>              </td><td>True       </td><td>(50, 30)    </td><td>float64</td><td>[[1.78033571, 0.04621568, 0.03030411...              </td></tr>\n",
       "<tr><td>DGP.layers[1].q_sqrt            </td><td>Parameter</td><td>FillTriangular</td><td>True       </td><td>(30, 50, 50)</td><td>float64</td><td>[[[2.99310604e-01, 0.00000000e+00, 0.00000000e+00... </td></tr>\n",
       "<tr><td>DGP.layers[1].inducing_points.Z </td><td>Parameter</td><td>              </td><td>True       </td><td>(50, 30)    </td><td>float64</td><td>[[-1.92905466e+01, 3.88564747e+00, -1.08932397e+00...</td></tr>\n",
       "<tr><td>DGP.layers[1].kernel.variance   </td><td>Parameter</td><td>Softplus      </td><td>True       </td><td>()          </td><td>float64</td><td>7.885193064729112                                    </td></tr>\n",
       "<tr><td>DGP.layers[1].kernel.lengthscale</td><td>Parameter</td><td>Softplus      </td><td>True       </td><td>()          </td><td>float64</td><td>16.016750658358635                                   </td></tr>\n",
       "<tr><td>DGP.layers[2].q_mu              </td><td>Parameter</td><td>              </td><td>True       </td><td>(50, 1)     </td><td>float64</td><td>[[4.10683780e-01...                                  </td></tr>\n",
       "<tr><td>DGP.layers[2].q_sqrt            </td><td>Parameter</td><td>FillTriangular</td><td>True       </td><td>(1, 50, 50) </td><td>float64</td><td>[[[0.28703415, 0., 0....                             </td></tr>\n",
       "<tr><td>DGP.layers[2].inducing_points.Z </td><td>Parameter</td><td>              </td><td>True       </td><td>(50, 30)    </td><td>float64</td><td>[[-16.19102351, 2.18750799, 0.12703875...            </td></tr>\n",
       "<tr><td>DGP.layers[2].kernel.variance   </td><td>Parameter</td><td>Softplus      </td><td>True       </td><td>()          </td><td>float64</td><td>0.41140612391954534                                  </td></tr>\n",
       "<tr><td>DGP.layers[2].kernel.lengthscale</td><td>Parameter</td><td>Softplus      </td><td>True       </td><td>()          </td><td>float64</td><td>5.950505942398334                                    </td></tr>\n",
       "</tbody>\n",
       "</table>"
      ],
      "text/plain": [
       "<IPython.core.display.HTML object>"
      ]
     },
     "metadata": {},
     "output_type": "display_data"
    }
   ],
   "source": [
    "gpflow.utilities.print_summary(dgp3, fmt='notebook')"
   ]
  },
  {
   "cell_type": "code",
   "execution_count": 128,
   "metadata": {},
   "outputs": [
    {
     "data": {
      "text/html": [
       "<table>\n",
       "<thead>\n",
       "<tr><th>name                            </th><th>class    </th><th>transform     </th><th>trainable  </th><th>shape         </th><th>dtype  </th><th>value                                                 </th></tr>\n",
       "</thead>\n",
       "<tbody>\n",
       "<tr><td>DGP.layers[0].q_mu              </td><td>Parameter</td><td>              </td><td>True       </td><td>(100, 30)     </td><td>float64</td><td>[[-0.43768023, 0.3939282, 0.05272466...               </td></tr>\n",
       "<tr><td>DGP.layers[0].q_sqrt            </td><td>Parameter</td><td>FillTriangular</td><td>True       </td><td>(30, 100, 100)</td><td>float64</td><td>[[[0.0925971, 0., 0....                               </td></tr>\n",
       "<tr><td>DGP.layers[0].inducing_points.Z </td><td>Parameter</td><td>              </td><td>True       </td><td>(100, 784)    </td><td>float64</td><td>[[-0.13300032, -0.00986615, 0.13691307...             </td></tr>\n",
       "<tr><td>DGP.layers[0].kernel.variance   </td><td>Parameter</td><td>Softplus      </td><td>True       </td><td>()            </td><td>float64</td><td>0.20308227958262645                                   </td></tr>\n",
       "<tr><td>DGP.layers[0].kernel.lengthscale</td><td>Parameter</td><td>Softplus      </td><td>True       </td><td>()            </td><td>float64</td><td>8.16196577288821                                      </td></tr>\n",
       "<tr><td>DGP.layers[0].mean_function.A   </td><td>Parameter</td><td>              </td><td>False      </td><td>(784, 30)     </td><td>float64</td><td>[[-0.03626653, -0.03429942, 0.0483595...              </td></tr>\n",
       "<tr><td>DGP.layers[0].mean_function.b   </td><td>Parameter</td><td>              </td><td>False      </td><td>(1,)          </td><td>float64</td><td>[0.]                                                  </td></tr>\n",
       "<tr><td>DGP.layers[1].q_mu              </td><td>Parameter</td><td>              </td><td>True       </td><td>(100, 30)     </td><td>float64</td><td>[[-1.47837131, 0.29501984, -0.15983554...             </td></tr>\n",
       "<tr><td>DGP.layers[1].q_sqrt            </td><td>Parameter</td><td>FillTriangular</td><td>True       </td><td>(30, 100, 100)</td><td>float64</td><td>[[[9.19100708e-02, 0.00000000e+00, 0.00000000e+00...  </td></tr>\n",
       "<tr><td>DGP.layers[1].inducing_points.Z </td><td>Parameter</td><td>              </td><td>True       </td><td>(100, 30)     </td><td>float64</td><td>[[-1.07044912e+01, -2.37167283e+00, -2.06282138e+00...</td></tr>\n",
       "<tr><td>DGP.layers[1].kernel.variance   </td><td>Parameter</td><td>Softplus      </td><td>True       </td><td>()            </td><td>float64</td><td>1.7714789351079387                                    </td></tr>\n",
       "<tr><td>DGP.layers[1].kernel.lengthscale</td><td>Parameter</td><td>Softplus      </td><td>True       </td><td>()            </td><td>float64</td><td>7.825111404678047                                     </td></tr>\n",
       "<tr><td>DGP.layers[2].q_mu              </td><td>Parameter</td><td>              </td><td>True       </td><td>(100, 1)      </td><td>float64</td><td>[[0.1564527...                                        </td></tr>\n",
       "<tr><td>DGP.layers[2].q_sqrt            </td><td>Parameter</td><td>FillTriangular</td><td>True       </td><td>(1, 100, 100) </td><td>float64</td><td>[[[0.34493078, 0., 0....                              </td></tr>\n",
       "<tr><td>DGP.layers[2].inducing_points.Z </td><td>Parameter</td><td>              </td><td>True       </td><td>(100, 30)     </td><td>float64</td><td>[[-9.19997709, -1.55385422, -1.56172242...            </td></tr>\n",
       "<tr><td>DGP.layers[2].kernel.variance   </td><td>Parameter</td><td>Softplus      </td><td>True       </td><td>()            </td><td>float64</td><td>0.8890716870831762                                    </td></tr>\n",
       "<tr><td>DGP.layers[2].kernel.lengthscale</td><td>Parameter</td><td>Softplus      </td><td>True       </td><td>()            </td><td>float64</td><td>7.440231171724015                                     </td></tr>\n",
       "</tbody>\n",
       "</table>"
      ],
      "text/plain": [
       "<IPython.core.display.HTML object>"
      ]
     },
     "metadata": {},
     "output_type": "display_data"
    }
   ],
   "source": [
    "gpflow.utilities.print_summary(dgp3_adam, fmt='notebook')"
   ]
  },
  {
   "cell_type": "code",
   "execution_count": 91,
   "metadata": {},
   "outputs": [
    {
     "data": {
      "text/html": [
       "<table>\n",
       "<thead>\n",
       "<tr><th>name                            </th><th>class    </th><th>transform     </th><th>trainable  </th><th>shape         </th><th>dtype  </th><th>value                                               </th></tr>\n",
       "</thead>\n",
       "<tbody>\n",
       "<tr><td>DGP.layers[0].q_mu              </td><td>Parameter</td><td>              </td><td>True       </td><td>(100, 30)     </td><td>float64</td><td>[[0., 0., 0....                                     </td></tr>\n",
       "<tr><td>DGP.layers[0].q_sqrt            </td><td>Parameter</td><td>FillTriangular</td><td>True       </td><td>(30, 100, 100)</td><td>float64</td><td>[[[1.e-05, 0.e+00, 0.e+00...                        </td></tr>\n",
       "<tr><td>DGP.layers[0].inducing_points.Z </td><td>Parameter</td><td>              </td><td>True       </td><td>(100, 784)    </td><td>float64</td><td>[[0.49729225, 0.46535948, 0.43744164...             </td></tr>\n",
       "<tr><td>DGP.layers[0].kernel.variance   </td><td>Parameter</td><td>Softplus      </td><td>True       </td><td>()            </td><td>float64</td><td>2.0                                                 </td></tr>\n",
       "<tr><td>DGP.layers[0].kernel.lengthscale</td><td>Parameter</td><td>Softplus      </td><td>True       </td><td>()            </td><td>float64</td><td>5.0                                                 </td></tr>\n",
       "<tr><td>DGP.layers[0].mean_function.A   </td><td>Parameter</td><td>              </td><td>False      </td><td>(784, 30)     </td><td>float64</td><td>[[-0.03626653, -0.03429942, 0.0483595...            </td></tr>\n",
       "<tr><td>DGP.layers[0].mean_function.b   </td><td>Parameter</td><td>              </td><td>False      </td><td>(1,)          </td><td>float64</td><td>[0.]                                                </td></tr>\n",
       "<tr><td>DGP.layers[1].q_mu              </td><td>Parameter</td><td>              </td><td>True       </td><td>(100, 30)     </td><td>float64</td><td>[[0., 0., 0....                                     </td></tr>\n",
       "<tr><td>DGP.layers[1].q_sqrt            </td><td>Parameter</td><td>FillTriangular</td><td>True       </td><td>(30, 100, 100)</td><td>float64</td><td>[[[1.e-05, 0.e+00, 0.e+00...                        </td></tr>\n",
       "<tr><td>DGP.layers[1].inducing_points.Z </td><td>Parameter</td><td>              </td><td>True       </td><td>(100, 30)     </td><td>float64</td><td>[[-1.78564470e+01, 4.73352204e+00, 1.37455340e+00...</td></tr>\n",
       "<tr><td>DGP.layers[1].kernel.variance   </td><td>Parameter</td><td>Softplus      </td><td>True       </td><td>()            </td><td>float64</td><td>2.0                                                 </td></tr>\n",
       "<tr><td>DGP.layers[1].kernel.lengthscale</td><td>Parameter</td><td>Softplus      </td><td>True       </td><td>()            </td><td>float64</td><td>5.0                                                 </td></tr>\n",
       "<tr><td>DGP.layers[2].q_mu              </td><td>Parameter</td><td>              </td><td>True       </td><td>(100, 30)     </td><td>float64</td><td>[[0., 0., 0....                                     </td></tr>\n",
       "<tr><td>DGP.layers[2].q_sqrt            </td><td>Parameter</td><td>FillTriangular</td><td>True       </td><td>(30, 100, 100)</td><td>float64</td><td>[[[1.e-05, 0.e+00, 0.e+00...                        </td></tr>\n",
       "<tr><td>DGP.layers[2].inducing_points.Z </td><td>Parameter</td><td>              </td><td>True       </td><td>(100, 30)     </td><td>float64</td><td>[[-1.78564470e+01, 4.73352204e+00, 1.37455340e+00...</td></tr>\n",
       "<tr><td>DGP.layers[2].kernel.variance   </td><td>Parameter</td><td>Softplus      </td><td>True       </td><td>()            </td><td>float64</td><td>2.0                                                 </td></tr>\n",
       "<tr><td>DGP.layers[2].kernel.lengthscale</td><td>Parameter</td><td>Softplus      </td><td>True       </td><td>()            </td><td>float64</td><td>5.0                                                 </td></tr>\n",
       "<tr><td>DGP.layers[3].q_mu              </td><td>Parameter</td><td>              </td><td>True       </td><td>(100, 1)      </td><td>float64</td><td>[[0....                                             </td></tr>\n",
       "<tr><td>DGP.layers[3].q_sqrt            </td><td>Parameter</td><td>FillTriangular</td><td>True       </td><td>(1, 100, 100) </td><td>float64</td><td>[[[1., 0., 0....                                    </td></tr>\n",
       "<tr><td>DGP.layers[3].inducing_points.Z </td><td>Parameter</td><td>              </td><td>True       </td><td>(100, 30)     </td><td>float64</td><td>[[-1.78564470e+01, 4.73352204e+00, 1.37455340e+00...</td></tr>\n",
       "<tr><td>DGP.layers[3].kernel.variance   </td><td>Parameter</td><td>Softplus      </td><td>True       </td><td>()            </td><td>float64</td><td>2.0                                                 </td></tr>\n",
       "<tr><td>DGP.layers[3].kernel.lengthscale</td><td>Parameter</td><td>Softplus      </td><td>True       </td><td>()            </td><td>float64</td><td>5.0                                                 </td></tr>\n",
       "</tbody>\n",
       "</table>"
      ],
      "text/plain": [
       "<IPython.core.display.HTML object>"
      ]
     },
     "metadata": {},
     "output_type": "display_data"
    }
   ],
   "source": [
    "gpflow.utilities.print_summary(dgp4, fmt='notebook')"
   ]
  },
  {
   "cell_type": "code",
   "execution_count": 94,
   "metadata": {
    "scrolled": false
   },
   "outputs": [
    {
     "data": {
      "text/html": [
       "<table>\n",
       "<thead>\n",
       "<tr><th>name                            </th><th>class    </th><th>transform     </th><th>trainable  </th><th>shape         </th><th>dtype  </th><th>value                                               </th></tr>\n",
       "</thead>\n",
       "<tbody>\n",
       "<tr><td>DGP.layers[0].q_mu              </td><td>Parameter</td><td>              </td><td>False      </td><td>(100, 30)     </td><td>float64</td><td>[[0.40699359, 0.09026117, 0.002814...               </td></tr>\n",
       "<tr><td>DGP.layers[0].q_sqrt            </td><td>Parameter</td><td>FillTriangular</td><td>False      </td><td>(30, 100, 100)</td><td>float64</td><td>[[[1.00504523e+00, 0.00000000e+00, 0.00000000e+00...</td></tr>\n",
       "<tr><td>DGP.layers[0].inducing_points.Z </td><td>Parameter</td><td>              </td><td>True       </td><td>(100, 784)    </td><td>float64</td><td>[[0.54811228, 0.4831957, 0.56282482...              </td></tr>\n",
       "<tr><td>DGP.layers[0].kernel.variance   </td><td>Parameter</td><td>Softplus      </td><td>True       </td><td>()            </td><td>float64</td><td>0.0018569756858914325                               </td></tr>\n",
       "<tr><td>DGP.layers[0].kernel.lengthscale</td><td>Parameter</td><td>Softplus      </td><td>True       </td><td>()            </td><td>float64</td><td>8.384722554321163                                   </td></tr>\n",
       "<tr><td>DGP.layers[0].mean_function.A   </td><td>Parameter</td><td>              </td><td>False      </td><td>(784, 30)     </td><td>float64</td><td>[[-0.03626653, -0.03429942, 0.0483595...            </td></tr>\n",
       "<tr><td>DGP.layers[0].mean_function.b   </td><td>Parameter</td><td>              </td><td>False      </td><td>(1,)          </td><td>float64</td><td>[0.]                                                </td></tr>\n",
       "<tr><td>DGP.layers[1].q_mu              </td><td>Parameter</td><td>              </td><td>False      </td><td>(100, 30)     </td><td>float64</td><td>[[2.63092433e-01, 1.61875174e-02, 1.23835772e-01... </td></tr>\n",
       "<tr><td>DGP.layers[1].q_sqrt            </td><td>Parameter</td><td>FillTriangular</td><td>False      </td><td>(30, 100, 100)</td><td>float64</td><td>[[[9.88505126e-01, 0.00000000e+00, 0.00000000e+00...</td></tr>\n",
       "<tr><td>DGP.layers[1].inducing_points.Z </td><td>Parameter</td><td>              </td><td>True       </td><td>(100, 30)     </td><td>float64</td><td>[[-1.77822003e+01, 2.67197764e+00, 1.33578365e+00...</td></tr>\n",
       "<tr><td>DGP.layers[1].kernel.variance   </td><td>Parameter</td><td>Softplus      </td><td>True       </td><td>()            </td><td>float64</td><td>0.0012449234599285631                               </td></tr>\n",
       "<tr><td>DGP.layers[1].kernel.lengthscale</td><td>Parameter</td><td>Softplus      </td><td>True       </td><td>()            </td><td>float64</td><td>7.820533634420623                                   </td></tr>\n",
       "<tr><td>DGP.layers[2].q_mu              </td><td>Parameter</td><td>              </td><td>False      </td><td>(100, 30)     </td><td>float64</td><td>[[0.40402536, -0.00184611, -0.12853059...           </td></tr>\n",
       "<tr><td>DGP.layers[2].q_sqrt            </td><td>Parameter</td><td>FillTriangular</td><td>False      </td><td>(30, 100, 100)</td><td>float64</td><td>[[[9.99739393e-01, 0.00000000e+00, 0.00000000e+00...</td></tr>\n",
       "<tr><td>DGP.layers[2].inducing_points.Z </td><td>Parameter</td><td>              </td><td>True       </td><td>(100, 30)     </td><td>float64</td><td>[[-20.53927642, 1.96699699, -0.82982089...          </td></tr>\n",
       "<tr><td>DGP.layers[2].kernel.variance   </td><td>Parameter</td><td>Softplus      </td><td>True       </td><td>()            </td><td>float64</td><td>0.0010762938283643351                               </td></tr>\n",
       "<tr><td>DGP.layers[2].kernel.lengthscale</td><td>Parameter</td><td>Softplus      </td><td>True       </td><td>()            </td><td>float64</td><td>8.145416807759315                                   </td></tr>\n",
       "<tr><td>DGP.layers[3].q_mu              </td><td>Parameter</td><td>              </td><td>False      </td><td>(100, 1)      </td><td>float64</td><td>[[0.71809154...                                     </td></tr>\n",
       "<tr><td>DGP.layers[3].q_sqrt            </td><td>Parameter</td><td>FillTriangular</td><td>False      </td><td>(1, 100, 100) </td><td>float64</td><td>[[[0.12882389, 0., 0....                            </td></tr>\n",
       "<tr><td>DGP.layers[3].inducing_points.Z </td><td>Parameter</td><td>              </td><td>True       </td><td>(100, 30)     </td><td>float64</td><td>[[-1.76840434e+01, 4.76073673e+00, 1.07729862e+00...</td></tr>\n",
       "<tr><td>DGP.layers[3].kernel.variance   </td><td>Parameter</td><td>Softplus      </td><td>True       </td><td>()            </td><td>float64</td><td>2.276611670491518                                   </td></tr>\n",
       "<tr><td>DGP.layers[3].kernel.lengthscale</td><td>Parameter</td><td>Softplus      </td><td>True       </td><td>()            </td><td>float64</td><td>7.486094629510504                                   </td></tr>\n",
       "</tbody>\n",
       "</table>"
      ],
      "text/plain": [
       "<IPython.core.display.HTML object>"
      ]
     },
     "metadata": {},
     "output_type": "display_data"
    }
   ],
   "source": [
    "gpflow.utilities.print_summary(dgp4, fmt='notebook')"
   ]
  },
  {
   "cell_type": "code",
   "execution_count": 138,
   "metadata": {},
   "outputs": [
    {
     "data": {
      "text/html": [
       "<table>\n",
       "<thead>\n",
       "<tr><th>name                            </th><th>class    </th><th>transform     </th><th>trainable  </th><th>shape         </th><th>dtype  </th><th>value                                                 </th></tr>\n",
       "</thead>\n",
       "<tbody>\n",
       "<tr><td>DGP.layers[0].q_mu              </td><td>Parameter</td><td>              </td><td>True       </td><td>(100, 30)     </td><td>float64</td><td>[[-0.79560918, 0.47012052, 0.14297062...              </td></tr>\n",
       "<tr><td>DGP.layers[0].q_sqrt            </td><td>Parameter</td><td>FillTriangular</td><td>True       </td><td>(30, 100, 100)</td><td>float64</td><td>[[[9.24799560e-02, 0.00000000e+00, 0.00000000e+00...  </td></tr>\n",
       "<tr><td>DGP.layers[0].inducing_points.Z </td><td>Parameter</td><td>              </td><td>True       </td><td>(100, 784)    </td><td>float64</td><td>[[0.86400747, 0.83812158, 0.74399701...               </td></tr>\n",
       "<tr><td>DGP.layers[0].kernel.variance   </td><td>Parameter</td><td>Softplus      </td><td>True       </td><td>()            </td><td>float64</td><td>0.17570771321997172                                   </td></tr>\n",
       "<tr><td>DGP.layers[0].kernel.lengthscale</td><td>Parameter</td><td>Softplus      </td><td>True       </td><td>()            </td><td>float64</td><td>8.261689040074396                                     </td></tr>\n",
       "<tr><td>DGP.layers[0].mean_function.A   </td><td>Parameter</td><td>              </td><td>False      </td><td>(784, 30)     </td><td>float64</td><td>[[-0.03626653, -0.03429942, 0.0483595...              </td></tr>\n",
       "<tr><td>DGP.layers[0].mean_function.b   </td><td>Parameter</td><td>              </td><td>False      </td><td>(1,)          </td><td>float64</td><td>[0.]                                                  </td></tr>\n",
       "<tr><td>DGP.layers[1].q_mu              </td><td>Parameter</td><td>              </td><td>True       </td><td>(100, 30)     </td><td>float64</td><td>[[-1.28690832e+00, 3.51543209e-01, 7.13017620e-02...  </td></tr>\n",
       "<tr><td>DGP.layers[1].q_sqrt            </td><td>Parameter</td><td>FillTriangular</td><td>True       </td><td>(30, 100, 100)</td><td>float64</td><td>[[[0.09196284, 0., 0....                              </td></tr>\n",
       "<tr><td>DGP.layers[1].inducing_points.Z </td><td>Parameter</td><td>              </td><td>True       </td><td>(100, 30)     </td><td>float64</td><td>[[-1.05016628e+01, -1.98184688e+00, -2.10431471e+00...</td></tr>\n",
       "<tr><td>DGP.layers[1].kernel.variance   </td><td>Parameter</td><td>Softplus      </td><td>True       </td><td>()            </td><td>float64</td><td>1.7082508571991712                                    </td></tr>\n",
       "<tr><td>DGP.layers[1].kernel.lengthscale</td><td>Parameter</td><td>Softplus      </td><td>True       </td><td>()            </td><td>float64</td><td>7.892028780570382                                     </td></tr>\n",
       "<tr><td>DGP.layers[2].q_mu              </td><td>Parameter</td><td>              </td><td>True       </td><td>(100, 30)     </td><td>float64</td><td>[[-7.15652127e-01, 3.99469782e-01, 2.16395206e-02...  </td></tr>\n",
       "<tr><td>DGP.layers[2].q_sqrt            </td><td>Parameter</td><td>FillTriangular</td><td>True       </td><td>(30, 100, 100)</td><td>float64</td><td>[[[0.09226057, 0., 0....                              </td></tr>\n",
       "<tr><td>DGP.layers[2].inducing_points.Z </td><td>Parameter</td><td>              </td><td>True       </td><td>(100, 30)     </td><td>float64</td><td>[[-10.41482595, -1.64872987, -2.01783671...           </td></tr>\n",
       "<tr><td>DGP.layers[2].kernel.variance   </td><td>Parameter</td><td>Softplus      </td><td>True       </td><td>()            </td><td>float64</td><td>0.6225124923685138                                    </td></tr>\n",
       "<tr><td>DGP.layers[2].kernel.lengthscale</td><td>Parameter</td><td>Softplus      </td><td>True       </td><td>()            </td><td>float64</td><td>7.1760453081365485                                    </td></tr>\n",
       "<tr><td>DGP.layers[3].q_mu              </td><td>Parameter</td><td>              </td><td>True       </td><td>(100, 1)      </td><td>float64</td><td>[[1.48141380e-02...                                   </td></tr>\n",
       "<tr><td>DGP.layers[3].q_sqrt            </td><td>Parameter</td><td>FillTriangular</td><td>True       </td><td>(1, 100, 100) </td><td>float64</td><td>[[[0.26706984, 0., 0....                              </td></tr>\n",
       "<tr><td>DGP.layers[3].inducing_points.Z </td><td>Parameter</td><td>              </td><td>True       </td><td>(100, 30)     </td><td>float64</td><td>[[-9.29945325e+00, -1.80616997e+00, -1.74807565e+00...</td></tr>\n",
       "<tr><td>DGP.layers[3].kernel.variance   </td><td>Parameter</td><td>Softplus      </td><td>True       </td><td>()            </td><td>float64</td><td>0.8728356754945658                                    </td></tr>\n",
       "<tr><td>DGP.layers[3].kernel.lengthscale</td><td>Parameter</td><td>Softplus      </td><td>True       </td><td>()            </td><td>float64</td><td>7.9858409371026235                                    </td></tr>\n",
       "</tbody>\n",
       "</table>"
      ],
      "text/plain": [
       "<IPython.core.display.HTML object>"
      ]
     },
     "metadata": {},
     "output_type": "display_data"
    }
   ],
   "source": [
    "gpflow.utilities.print_summary(dgp4_adam, fmt='notebook')"
   ]
  },
  {
   "cell_type": "markdown",
   "metadata": {},
   "source": [
    "## Training : minimizing ELBO"
   ]
  },
  {
   "cell_type": "code",
   "execution_count": 13,
   "metadata": {},
   "outputs": [],
   "source": [
    "from tqdm import tqdm_notebook as tqdm"
   ]
  },
  {
   "cell_type": "code",
   "execution_count": 121,
   "metadata": {},
   "outputs": [
    {
     "data": {
      "text/plain": [
       "<tf.Tensor: id=196805382, shape=(), dtype=float64, numpy=0.0>"
      ]
     },
     "execution_count": 121,
     "metadata": {},
     "output_type": "execute_result"
    }
   ],
   "source": [
    "dgp3_adam.trainable_variables[3][0][0]"
   ]
  },
  {
   "cell_type": "code",
   "execution_count": 20,
   "metadata": {},
   "outputs": [],
   "source": [
    "from gpflow.optimizers import NaturalGradient\n",
    "\n",
    "def run_adam_dgp(model, iterations):\n",
    "    variational_params = []\n",
    "    for layer in model.layers:\n",
    "        variational_params.append((layer.q_mu, layer.q_sqrt))\n",
    "        layer.q_mu.trainable=False\n",
    "        layer.q_sqrt.trainable=False\n",
    "        \n",
    "    logf = []\n",
    "    \n",
    "    natgrad = NaturalGradient(gamma=0.01)\n",
    "    adam = tf.optimizers.Adam(0.01)\n",
    "    \n",
    "    train_it = iter(train_ds.batch(minibatch_size))\n",
    "    def dgp_stochastic_loss() -> tf.Tensor:\n",
    "        batch = next(train_it)\n",
    "        return -model.elbo(*batch, full_cov=False)\n",
    "    \n",
    "    for step in tqdm(range(iterations)):\n",
    "        \n",
    "        adam.minimize(\n",
    "            dgp_stochastic_loss, var_list=model.trainable_variables)\n",
    "        natgrad.minimize(\n",
    "            dgp_stochastic_loss, var_list=variational_params)\n",
    "        \n",
    "        elbo = -dgp_stochastic_loss()\n",
    "        if step % 10 == 0:\n",
    "            logf.append(elbo.numpy())\n",
    "        if step % 500 == 0:\n",
    "            print(elbo.numpy())\n",
    "            \n",
    "    return logf\n"
   ]
  },
  {
   "cell_type": "code",
   "execution_count": 17,
   "metadata": {},
   "outputs": [],
   "source": [
    "@tf.function(autograph=False)\n",
    "def optimization_step(optimizer, model:gpflow.models.SVGP, batch):\n",
    "    with tf.GradientTape(watch_accessed_variables=False) as tape:\n",
    "        tape.watch(model.trainable_variables)\n",
    "        objective = - model.elbo(*batch)\n",
    "        grads = tape.gradient(objective, model.trainable_variables)\n",
    "    first_layer_kernel_variance = grads[1]\n",
    "    optimizer.apply_gradients(zip(grads, model.trainable_variables))\n",
    "    return objective, first_layer_kernel_variance\n",
    "\n",
    "@tf.function(autograph=False)\n",
    "def optimization_step_dgp(optimizer, model:dgp3, batch):\n",
    "    with tf.GradientTape(watch_accessed_variables=False) as tape:\n",
    "        tape.watch(model.trainable_variables)\n",
    "        objective = - model.elbo(*batch, full_cov=False)\n",
    "        grads = tape.gradient(objective, model.trainable_variables)\n",
    "    layer1_q_mu = grads[3][0][0]\n",
    "    optimizer.apply_gradients(zip(grads, model.trainable_variables))\n",
    "    return objective, layer1_q_mu\n",
    "\n",
    "def run_adam(model, iterations):\n",
    "    logf = []\n",
    "    gradients = []\n",
    "    adam = tf.optimizers.Adam(0.01)\n",
    "    train_it = iter(train_ds.batch(minibatch_size))\n",
    "    for step in range(iterations):\n",
    "        neg_elbo, gradient = optimization_step(adam, model, next(train_it))\n",
    "        elbo = - neg_elbo\n",
    "        if step % 10 == 0:\n",
    "            logf.append(elbo.numpy())\n",
    "            gradients.append(gradient)\n",
    "        if step % 1000 == 0:\n",
    "            print(elbo.numpy())\n",
    "    return logf, gradients\n",
    "\n",
    "def run_adam_dgp(model, iterations):\n",
    "    logf = []\n",
    "    gradients = []\n",
    "    adam = tf.optimizers.Adam(0.01)\n",
    "    train_it = iter(train_ds.batch(minibatch_size))\n",
    "    for step in tqdm(range(iterations)):\n",
    "        neg_elbo, gradient = optimization_step_dgp(adam, model, next(train_it))\n",
    "        elbo = - neg_elbo\n",
    "        if step % 10 == 0:\n",
    "            logf.append(elbo.numpy())\n",
    "            gradients.append(gradient.numpy())\n",
    "        if step % 1000 == 0:\n",
    "            print(elbo.numpy())\n",
    "    return logf, gradients"
   ]
  },
  {
   "cell_type": "code",
   "execution_count": 17,
   "metadata": {
    "scrolled": false
   },
   "outputs": [
    {
     "name": "stdout",
     "output_type": "stream",
     "text": [
      "-1247.2797857114192\n",
      "-694.0514975838826\n",
      "-695.8794089022119\n"
     ]
    },
    {
     "data": {
      "text/plain": [
       "Text(0.5, 1.0, 'ELBO of single layer SVGP')"
      ]
     },
     "execution_count": 17,
     "metadata": {},
     "output_type": "execute_result"
    },
    {
     "data": {
      "image/png": "[encoded data removed]",
      "text/plain": [
       "<Figure size 432x288 with 1 Axes>"
      ]
     },
     "metadata": {},
     "output_type": "display_data"
    }
   ],
   "source": [
    "maxiter = ci_niter(3000)\n",
    "logf, gradient = run_adam(m, maxiter)\n",
    "plt.plot(np.arange(maxiter)[::10], logf)\n",
    "plt.xlabel('iteration')\n",
    "plt.ylabel('ELBO');\n",
    "plt.title('ELBO of single layer SVGP')"
   ]
  },
  {
   "cell_type": "code",
   "execution_count": null,
   "metadata": {},
   "outputs": [],
   "source": [
    "maxiter = ci_niter(5000)\n",
    "logf, gradient = run_adam(m_500, maxiter)\n",
    "plt.plot(np.arange(maxiter)[::10], logf)\n",
    "plt.xlabel('iteration')\n",
    "plt.ylabel('ELBO');\n",
    "plt.title('ELBO of single layer SVGP with 500 inducing points')"
   ]
  },
  {
   "cell_type": "code",
   "execution_count": 40,
   "metadata": {},
   "outputs": [
    {
     "name": "stderr",
     "output_type": "stream",
     "text": [
      "/homes/rx220/env/lib/python3.7/site-packages/ipykernel_launcher.py:41: TqdmDeprecationWarning: This function will be removed in tqdm==5.0.0\n",
      "Please use `tqdm.notebook.tqdm` instead of `tqdm.tqdm_notebook`\n"
     ]
    },
    {
     "data": {
      "application/vnd.jupyter.widget-view+json": {
       "model_id": "e459a5044b3745f38782fa903599638c",
       "version_major": 2,
       "version_minor": 0
      },
      "text/plain": [
       "HBox(children=(FloatProgress(value=0.0, max=3000.0), HTML(value='')))"
      ]
     },
     "metadata": {},
     "output_type": "display_data"
    },
    {
     "name": "stdout",
     "output_type": "stream",
     "text": [
      "-48006.1338235975\n",
      "-11730.965608166907\n",
      "-10482.09703772164\n",
      "\n"
     ]
    },
    {
     "data": {
      "text/plain": [
       "Text(0.5, 1.0, 'ELBO of DGP')"
      ]
     },
     "execution_count": 40,
     "metadata": {},
     "output_type": "execute_result"
    },
    {
     "data": {
      "image/png": "[encoded data removed]",
      "text/plain": [
       "<Figure size 432x288 with 1 Axes>"
      ]
     },
     "metadata": {},
     "output_type": "display_data"
    }
   ],
   "source": [
    "maxiter = ci_niter(3000)\n",
    "logf_dgp2, gradients = run_adam_dgp(dgp2, maxiter)\n",
    "plt.plot(np.arange(maxiter)[::10], logf_dgp2)\n",
    "plt.xlabel('iteration')\n",
    "plt.ylabel('ELBO')\n",
    "plt.title('ELBO of DGP')"
   ]
  },
  {
   "cell_type": "code",
   "execution_count": 19,
   "metadata": {},
   "outputs": [
    {
     "name": "stderr",
     "output_type": "stream",
     "text": [
      "/homes/rx220/env/lib/python3.7/site-packages/ipykernel_launcher.py:41: TqdmDeprecationWarning: This function will be removed in tqdm==5.0.0\n",
      "Please use `tqdm.notebook.tqdm` instead of `tqdm.tqdm_notebook`\n"
     ]
    },
    {
     "data": {
      "application/vnd.jupyter.widget-view+json": {
       "model_id": "759bb6dfcea2428693ec3a0284d37e62",
       "version_major": 2,
       "version_minor": 0
      },
      "text/plain": [
       "HBox(children=(FloatProgress(value=0.0, max=5000.0), HTML(value='')))"
      ]
     },
     "metadata": {},
     "output_type": "display_data"
    },
    {
     "name": "stdout",
     "output_type": "stream",
     "text": [
      "-48006.1338235975\n",
      "-11717.101000605668\n",
      "-10469.31827458701\n",
      "-9239.996801457208\n",
      "-8157.4451544443655\n",
      "\n"
     ]
    },
    {
     "data": {
      "text/plain": [
       "Text(0.5, 1.0, 'ELBO of DGP2 ARD')"
      ]
     },
     "execution_count": 19,
     "metadata": {},
     "output_type": "execute_result"
    },
    {
     "data": {
      "image/png": "[encoded data removed]",
      "text/plain": [
       "<Figure size 432x288 with 1 Axes>"
      ]
     },
     "metadata": {},
     "output_type": "display_data"
    }
   ],
   "source": [
    "maxiter = ci_niter(5000)\n",
    "logf_dgp2_ard, gradients2 = run_adam_dgp(dgp2_ard, maxiter)\n",
    "plt.plot(np.arange(maxiter)[::10], logf_dgp2_ard)\n",
    "plt.xlabel('iteration')\n",
    "plt.ylabel('ELBO')\n",
    "plt.title('ELBO of DGP2 ARD')"
   ]
  },
  {
   "cell_type": "code",
   "execution_count": 18,
   "metadata": {
    "scrolled": false
   },
   "outputs": [
    {
     "name": "stderr",
     "output_type": "stream",
     "text": [
      "/homes/rx220/env/lib/python3.7/site-packages/ipykernel_launcher.py:41: TqdmDeprecationWarning: This function will be removed in tqdm==5.0.0\n",
      "Please use `tqdm.notebook.tqdm` instead of `tqdm.tqdm_notebook`\n"
     ]
    },
    {
     "data": {
      "application/vnd.jupyter.widget-view+json": {
       "model_id": "a2df7a5de2b1413ab7394438fea36f4e",
       "version_major": 2,
       "version_minor": 0
      },
      "text/plain": [
       "HBox(children=(FloatProgress(value=0.0, max=5000.0), HTML(value='')))"
      ]
     },
     "metadata": {},
     "output_type": "display_data"
    },
    {
     "name": "stdout",
     "output_type": "stream",
     "text": [
      "-78006.4813417629\n",
      "-19724.373658962228\n",
      "-17090.692109984782\n",
      "-15025.523875334737\n",
      "-13306.020708048898\n",
      "\n"
     ]
    },
    {
     "ename": "ValueError",
     "evalue": "x and y must have same first dimension, but have shapes (500,) and (2, 500)",
     "output_type": "error",
     "traceback": [
      "\u001b[0;31m---------------------------------------------------------------------------\u001b[0m",
      "\u001b[0;31mValueError\u001b[0m                                Traceback (most recent call last)",
      "\u001b[0;32m<ipython-input-18-1f334e3d1a1e>\u001b[0m in \u001b[0;36m<module>\u001b[0;34m\u001b[0m\n\u001b[1;32m      1\u001b[0m \u001b[0mmaxiter\u001b[0m \u001b[0;34m=\u001b[0m \u001b[0mci_niter\u001b[0m\u001b[0;34m(\u001b[0m\u001b[0;36m5000\u001b[0m\u001b[0;34m)\u001b[0m\u001b[0;34m\u001b[0m\u001b[0;34m\u001b[0m\u001b[0m\n\u001b[1;32m      2\u001b[0m \u001b[0mlogf_dgp3\u001b[0m \u001b[0;34m=\u001b[0m \u001b[0mrun_adam_dgp\u001b[0m\u001b[0;34m(\u001b[0m\u001b[0mdgp3\u001b[0m\u001b[0;34m,\u001b[0m \u001b[0mmaxiter\u001b[0m\u001b[0;34m)\u001b[0m\u001b[0;34m\u001b[0m\u001b[0;34m\u001b[0m\u001b[0m\n\u001b[0;32m----> 3\u001b[0;31m \u001b[0mplt\u001b[0m\u001b[0;34m.\u001b[0m\u001b[0mplot\u001b[0m\u001b[0;34m(\u001b[0m\u001b[0mnp\u001b[0m\u001b[0;34m.\u001b[0m\u001b[0marange\u001b[0m\u001b[0;34m(\u001b[0m\u001b[0mmaxiter\u001b[0m\u001b[0;34m)\u001b[0m\u001b[0;34m[\u001b[0m\u001b[0;34m:\u001b[0m\u001b[0;34m:\u001b[0m\u001b[0;36m10\u001b[0m\u001b[0;34m]\u001b[0m\u001b[0;34m,\u001b[0m \u001b[0mlogf_dgp3\u001b[0m\u001b[0;34m)\u001b[0m\u001b[0;34m\u001b[0m\u001b[0;34m\u001b[0m\u001b[0m\n\u001b[0m\u001b[1;32m      4\u001b[0m \u001b[0mplt\u001b[0m\u001b[0;34m.\u001b[0m\u001b[0mxlabel\u001b[0m\u001b[0;34m(\u001b[0m\u001b[0;34m'iteration'\u001b[0m\u001b[0;34m)\u001b[0m\u001b[0;34m\u001b[0m\u001b[0;34m\u001b[0m\u001b[0m\n\u001b[1;32m      5\u001b[0m \u001b[0mplt\u001b[0m\u001b[0;34m.\u001b[0m\u001b[0mylabel\u001b[0m\u001b[0;34m(\u001b[0m\u001b[0;34m'ELBO'\u001b[0m\u001b[0;34m)\u001b[0m\u001b[0;34m\u001b[0m\u001b[0;34m\u001b[0m\u001b[0m\n",
      "\u001b[0;32m~/env/lib/python3.7/site-packages/matplotlib/pyplot.py\u001b[0m in \u001b[0;36mplot\u001b[0;34m(scalex, scaley, data, *args, **kwargs)\u001b[0m\n\u001b[1;32m   2794\u001b[0m     return gca().plot(\n\u001b[1;32m   2795\u001b[0m         *args, scalex=scalex, scaley=scaley, **({\"data\": data} if data\n\u001b[0;32m-> 2796\u001b[0;31m         is not None else {}), **kwargs)\n\u001b[0m\u001b[1;32m   2797\u001b[0m \u001b[0;34m\u001b[0m\u001b[0m\n\u001b[1;32m   2798\u001b[0m \u001b[0;34m\u001b[0m\u001b[0m\n",
      "\u001b[0;32m~/env/lib/python3.7/site-packages/matplotlib/axes/_axes.py\u001b[0m in \u001b[0;36mplot\u001b[0;34m(self, scalex, scaley, data, *args, **kwargs)\u001b[0m\n\u001b[1;32m   1663\u001b[0m         \"\"\"\n\u001b[1;32m   1664\u001b[0m         \u001b[0mkwargs\u001b[0m \u001b[0;34m=\u001b[0m \u001b[0mcbook\u001b[0m\u001b[0;34m.\u001b[0m\u001b[0mnormalize_kwargs\u001b[0m\u001b[0;34m(\u001b[0m\u001b[0mkwargs\u001b[0m\u001b[0;34m,\u001b[0m \u001b[0mmlines\u001b[0m\u001b[0;34m.\u001b[0m\u001b[0mLine2D\u001b[0m\u001b[0;34m.\u001b[0m\u001b[0m_alias_map\u001b[0m\u001b[0;34m)\u001b[0m\u001b[0;34m\u001b[0m\u001b[0;34m\u001b[0m\u001b[0m\n\u001b[0;32m-> 1665\u001b[0;31m         \u001b[0mlines\u001b[0m \u001b[0;34m=\u001b[0m \u001b[0;34m[\u001b[0m\u001b[0;34m*\u001b[0m\u001b[0mself\u001b[0m\u001b[0;34m.\u001b[0m\u001b[0m_get_lines\u001b[0m\u001b[0;34m(\u001b[0m\u001b[0;34m*\u001b[0m\u001b[0margs\u001b[0m\u001b[0;34m,\u001b[0m \u001b[0mdata\u001b[0m\u001b[0;34m=\u001b[0m\u001b[0mdata\u001b[0m\u001b[0;34m,\u001b[0m \u001b[0;34m**\u001b[0m\u001b[0mkwargs\u001b[0m\u001b[0;34m)\u001b[0m\u001b[0;34m]\u001b[0m\u001b[0;34m\u001b[0m\u001b[0;34m\u001b[0m\u001b[0m\n\u001b[0m\u001b[1;32m   1666\u001b[0m         \u001b[0;32mfor\u001b[0m \u001b[0mline\u001b[0m \u001b[0;32min\u001b[0m \u001b[0mlines\u001b[0m\u001b[0;34m:\u001b[0m\u001b[0;34m\u001b[0m\u001b[0;34m\u001b[0m\u001b[0m\n\u001b[1;32m   1667\u001b[0m             \u001b[0mself\u001b[0m\u001b[0;34m.\u001b[0m\u001b[0madd_line\u001b[0m\u001b[0;34m(\u001b[0m\u001b[0mline\u001b[0m\u001b[0;34m)\u001b[0m\u001b[0;34m\u001b[0m\u001b[0;34m\u001b[0m\u001b[0m\n",
      "\u001b[0;32m~/env/lib/python3.7/site-packages/matplotlib/axes/_base.py\u001b[0m in \u001b[0;36m__call__\u001b[0;34m(self, *args, **kwargs)\u001b[0m\n\u001b[1;32m    223\u001b[0m                 \u001b[0mthis\u001b[0m \u001b[0;34m+=\u001b[0m \u001b[0margs\u001b[0m\u001b[0;34m[\u001b[0m\u001b[0;36m0\u001b[0m\u001b[0;34m]\u001b[0m\u001b[0;34m,\u001b[0m\u001b[0;34m\u001b[0m\u001b[0;34m\u001b[0m\u001b[0m\n\u001b[1;32m    224\u001b[0m                 \u001b[0margs\u001b[0m \u001b[0;34m=\u001b[0m \u001b[0margs\u001b[0m\u001b[0;34m[\u001b[0m\u001b[0;36m1\u001b[0m\u001b[0;34m:\u001b[0m\u001b[0;34m]\u001b[0m\u001b[0;34m\u001b[0m\u001b[0;34m\u001b[0m\u001b[0m\n\u001b[0;32m--> 225\u001b[0;31m             \u001b[0;32myield\u001b[0m \u001b[0;32mfrom\u001b[0m \u001b[0mself\u001b[0m\u001b[0;34m.\u001b[0m\u001b[0m_plot_args\u001b[0m\u001b[0;34m(\u001b[0m\u001b[0mthis\u001b[0m\u001b[0;34m,\u001b[0m \u001b[0mkwargs\u001b[0m\u001b[0;34m)\u001b[0m\u001b[0;34m\u001b[0m\u001b[0;34m\u001b[0m\u001b[0m\n\u001b[0m\u001b[1;32m    226\u001b[0m \u001b[0;34m\u001b[0m\u001b[0m\n\u001b[1;32m    227\u001b[0m     \u001b[0;32mdef\u001b[0m \u001b[0mget_next_color\u001b[0m\u001b[0;34m(\u001b[0m\u001b[0mself\u001b[0m\u001b[0;34m)\u001b[0m\u001b[0;34m:\u001b[0m\u001b[0;34m\u001b[0m\u001b[0;34m\u001b[0m\u001b[0m\n",
      "\u001b[0;32m~/env/lib/python3.7/site-packages/matplotlib/axes/_base.py\u001b[0m in \u001b[0;36m_plot_args\u001b[0;34m(self, tup, kwargs)\u001b[0m\n\u001b[1;32m    389\u001b[0m             \u001b[0mx\u001b[0m\u001b[0;34m,\u001b[0m \u001b[0my\u001b[0m \u001b[0;34m=\u001b[0m \u001b[0mindex_of\u001b[0m\u001b[0;34m(\u001b[0m\u001b[0mtup\u001b[0m\u001b[0;34m[\u001b[0m\u001b[0;34m-\u001b[0m\u001b[0;36m1\u001b[0m\u001b[0;34m]\u001b[0m\u001b[0;34m)\u001b[0m\u001b[0;34m\u001b[0m\u001b[0;34m\u001b[0m\u001b[0m\n\u001b[1;32m    390\u001b[0m \u001b[0;34m\u001b[0m\u001b[0m\n\u001b[0;32m--> 391\u001b[0;31m         \u001b[0mx\u001b[0m\u001b[0;34m,\u001b[0m \u001b[0my\u001b[0m \u001b[0;34m=\u001b[0m \u001b[0mself\u001b[0m\u001b[0;34m.\u001b[0m\u001b[0m_xy_from_xy\u001b[0m\u001b[0;34m(\u001b[0m\u001b[0mx\u001b[0m\u001b[0;34m,\u001b[0m \u001b[0my\u001b[0m\u001b[0;34m)\u001b[0m\u001b[0;34m\u001b[0m\u001b[0;34m\u001b[0m\u001b[0m\n\u001b[0m\u001b[1;32m    392\u001b[0m \u001b[0;34m\u001b[0m\u001b[0m\n\u001b[1;32m    393\u001b[0m         \u001b[0;32mif\u001b[0m \u001b[0mself\u001b[0m\u001b[0;34m.\u001b[0m\u001b[0mcommand\u001b[0m \u001b[0;34m==\u001b[0m \u001b[0;34m'plot'\u001b[0m\u001b[0;34m:\u001b[0m\u001b[0;34m\u001b[0m\u001b[0;34m\u001b[0m\u001b[0m\n",
      "\u001b[0;32m~/env/lib/python3.7/site-packages/matplotlib/axes/_base.py\u001b[0m in \u001b[0;36m_xy_from_xy\u001b[0;34m(self, x, y)\u001b[0m\n\u001b[1;32m    268\u001b[0m         \u001b[0;32mif\u001b[0m \u001b[0mx\u001b[0m\u001b[0;34m.\u001b[0m\u001b[0mshape\u001b[0m\u001b[0;34m[\u001b[0m\u001b[0;36m0\u001b[0m\u001b[0;34m]\u001b[0m \u001b[0;34m!=\u001b[0m \u001b[0my\u001b[0m\u001b[0;34m.\u001b[0m\u001b[0mshape\u001b[0m\u001b[0;34m[\u001b[0m\u001b[0;36m0\u001b[0m\u001b[0;34m]\u001b[0m\u001b[0;34m:\u001b[0m\u001b[0;34m\u001b[0m\u001b[0;34m\u001b[0m\u001b[0m\n\u001b[1;32m    269\u001b[0m             raise ValueError(\"x and y must have same first dimension, but \"\n\u001b[0;32m--> 270\u001b[0;31m                              \"have shapes {} and {}\".format(x.shape, y.shape))\n\u001b[0m\u001b[1;32m    271\u001b[0m         \u001b[0;32mif\u001b[0m \u001b[0mx\u001b[0m\u001b[0;34m.\u001b[0m\u001b[0mndim\u001b[0m \u001b[0;34m>\u001b[0m \u001b[0;36m2\u001b[0m \u001b[0;32mor\u001b[0m \u001b[0my\u001b[0m\u001b[0;34m.\u001b[0m\u001b[0mndim\u001b[0m \u001b[0;34m>\u001b[0m \u001b[0;36m2\u001b[0m\u001b[0;34m:\u001b[0m\u001b[0;34m\u001b[0m\u001b[0;34m\u001b[0m\u001b[0m\n\u001b[1;32m    272\u001b[0m             raise ValueError(\"x and y can be no greater than 2-D, but have \"\n",
      "\u001b[0;31mValueError\u001b[0m: x and y must have same first dimension, but have shapes (500,) and (2, 500)"
     ]
    },
    {
     "data": {
      "image/png": "[encoded data removed]",
      "text/plain": [
       "<Figure size 432x288 with 1 Axes>"
      ]
     },
     "metadata": {},
     "output_type": "display_data"
    }
   ],
   "source": [
    "maxiter = ci_niter(5000)\n",
    "logf_dgp3 = run_adam_dgp(dgp3, maxiter)\n",
    "plt.plot(np.arange(maxiter)[::10], logf_dgp3)\n",
    "plt.xlabel('iteration')\n",
    "plt.ylabel('ELBO')\n",
    "plt.title('ELBO of DGP 3 layers')"
   ]
  },
  {
   "cell_type": "code",
   "execution_count": 107,
   "metadata": {
    "scrolled": false
   },
   "outputs": [
    {
     "name": "stderr",
     "output_type": "stream",
     "text": [
      "/homes/rx220/env/lib/python3.7/site-packages/ipykernel_launcher.py:20: TqdmDeprecationWarning: This function will be removed in tqdm==5.0.0\n",
      "Please use `tqdm.notebook.tqdm` instead of `tqdm.tqdm_notebook`\n"
     ]
    },
    {
     "data": {
      "application/vnd.jupyter.widget-view+json": {
       "model_id": "ad4199de05b0439e8df829a8d5182046",
       "version_major": 2,
       "version_minor": 0
      },
      "text/plain": [
       "HBox(children=(FloatProgress(value=0.0, max=3000.0), HTML(value='')))"
      ]
     },
     "metadata": {},
     "output_type": "display_data"
    },
    {
     "name": "stdout",
     "output_type": "stream",
     "text": [
      "-44079.96284367353\n",
      "-31883.86540088297\n",
      "-24180.125182459928\n",
      "-16299.146947923728\n",
      "-9065.262193297656\n",
      "-6520.907566658823\n",
      "\n"
     ]
    },
    {
     "data": {
      "text/plain": [
       "Text(0.5, 1.0, 'ELBO of DGP 3 layers')"
      ]
     },
     "execution_count": 107,
     "metadata": {},
     "output_type": "execute_result"
    },
    {
     "data": {
      "image/png": "[encoded data removed]",
      "text/plain": [
       "<Figure size 432x288 with 1 Axes>"
      ]
     },
     "metadata": {},
     "output_type": "display_data"
    }
   ],
   "source": [
    "maxiter = ci_niter(3000)\n",
    "logf_dgp3_50 = run_adam_dgp(dgp3_50, maxiter)\n",
    "plt.plot(np.arange(maxiter)[::10], logf_dgp3_50)\n",
    "plt.xlabel('iteration')\n",
    "plt.ylabel('ELBO')\n",
    "plt.title('ELBO of DGP 3 layers')"
   ]
  },
  {
   "cell_type": "code",
   "execution_count": 145,
   "metadata": {},
   "outputs": [
    {
     "name": "stderr",
     "output_type": "stream",
     "text": [
      "/homes/rx220/env/lib/python3.7/site-packages/ipykernel_launcher.py:41: TqdmDeprecationWarning: This function will be removed in tqdm==5.0.0\n",
      "Please use `tqdm.notebook.tqdm` instead of `tqdm.tqdm_notebook`\n"
     ]
    },
    {
     "data": {
      "application/vnd.jupyter.widget-view+json": {
       "model_id": "9016b0e3d35a4b0cbfccdf6e03a72e42",
       "version_major": 2,
       "version_minor": 0
      },
      "text/plain": [
       "HBox(children=(FloatProgress(value=0.0, max=10000.0), HTML(value='')))"
      ]
     },
     "metadata": {},
     "output_type": "display_data"
    },
    {
     "name": "stdout",
     "output_type": "stream",
     "text": [
      "-81044.91021865797\n",
      "-17311.257979918868\n",
      "-14778.364172292188\n",
      "-12836.395461248314\n",
      "-10970.997462176681\n",
      "-9750.745201850154\n",
      "-8482.302488916426\n",
      "-7520.993700551355\n",
      "-6697.408271115319\n",
      "-6858.559059287978\n",
      "\n"
     ]
    },
    {
     "data": {
      "text/plain": [
       "Text(0.5, 1.0, 'ELBO of DGP with 3 layers using Adam')"
      ]
     },
     "execution_count": 145,
     "metadata": {},
     "output_type": "execute_result"
    },
    {
     "data": {
      "image/png": "[encoded data removed]",
      "text/plain": [
       "<Figure size 432x288 with 1 Axes>"
      ]
     },
     "metadata": {},
     "output_type": "display_data"
    }
   ],
   "source": [
    "maxiter = ci_niter(10000)\n",
    "logf_dgp3_adam, dgp3_gradients= run_adam_dgp(dgp3_adam, maxiter)\n",
    "plt.plot(np.arange(maxiter)[::10], logf_dgp3_adam)\n",
    "plt.xlabel('iteration')\n",
    "plt.ylabel('ELBO')\n",
    "plt.title('ELBO of DGP with 3 layers using Adam')"
   ]
  },
  {
   "cell_type": "code",
   "execution_count": 22,
   "metadata": {
    "scrolled": false
   },
   "outputs": [
    {
     "name": "stderr",
     "output_type": "stream",
     "text": [
      "/homes/rx220/env/lib/python3.7/site-packages/ipykernel_launcher.py:41: TqdmDeprecationWarning: This function will be removed in tqdm==5.0.0\n",
      "Please use `tqdm.notebook.tqdm` instead of `tqdm.tqdm_notebook`\n"
     ]
    },
    {
     "data": {
      "application/vnd.jupyter.widget-view+json": {
       "model_id": "66a312e1d6ae4cedb72de827736a4620",
       "version_major": 2,
       "version_minor": 0
      },
      "text/plain": [
       "HBox(children=(FloatProgress(value=0.0, max=5000.0), HTML(value='')))"
      ]
     },
     "metadata": {},
     "output_type": "display_data"
    },
    {
     "name": "stdout",
     "output_type": "stream",
     "text": [
      "WARNING:tensorflow:From /homes/rx220/env/lib/python3.7/site-packages/tensorflow_core/python/ops/math_grad.py:281: setdiff1d (from tensorflow.python.ops.array_ops) is deprecated and will be removed after 2018-11-30.\n",
      "Instructions for updating:\n",
      "This op will be removed after the deprecation date. Please switch to tf.sets.difference().\n",
      "-107530.08718131564\n",
      "-52754.44758766349\n",
      "-50194.66938083587\n",
      "-48146.709139756305\n",
      "-46433.8098474302\n",
      "\n"
     ]
    },
    {
     "data": {
      "text/plain": [
       "Text(0.5, 1.0, 'ELBO of DGP')"
      ]
     },
     "execution_count": 22,
     "metadata": {},
     "output_type": "execute_result"
    },
    {
     "data": {
      "image/png": "[encoded data removed]",
      "text/plain": [
       "<Figure size 432x288 with 1 Axes>"
      ]
     },
     "metadata": {},
     "output_type": "display_data"
    }
   ],
   "source": [
    "maxiter = ci_niter(5000)\n",
    "logf_dgp3, dgp3_gradients= run_adam_dgp(dgp3, maxiter)\n",
    "plt.plot(np.arange(maxiter)[::10], dgp3_gradients)\n",
    "plt.xlabel('iteration')\n",
    "plt.ylabel('ELBO')\n",
    "plt.title('ELBO of DGP')"
   ]
  },
  {
   "cell_type": "code",
   "execution_count": 42,
   "metadata": {},
   "outputs": [
    {
     "name": "stderr",
     "output_type": "stream",
     "text": [
      "/homes/rx220/env/lib/python3.7/site-packages/ipykernel_launcher.py:41: TqdmDeprecationWarning: This function will be removed in tqdm==5.0.0\n",
      "Please use `tqdm.notebook.tqdm` instead of `tqdm.tqdm_notebook`\n"
     ]
    },
    {
     "data": {
      "application/vnd.jupyter.widget-view+json": {
       "model_id": "fb182c0cf6074a28a9bafc0c291d71fa",
       "version_major": 2,
       "version_minor": 0
      },
      "text/plain": [
       "HBox(children=(FloatProgress(value=0.0, max=20000.0), HTML(value='')))"
      ]
     },
     "metadata": {},
     "output_type": "display_data"
    },
    {
     "name": "stdout",
     "output_type": "stream",
     "text": [
      "-81044.91021865797\n",
      "-17583.301182203206\n",
      "-14631.96647388022\n",
      "-12830.312884109542\n",
      "-10800.900099712939\n",
      "-9447.575895825808\n",
      "-8464.246640228288\n",
      "-7348.751724407532\n",
      "-6708.602510749383\n",
      "-5759.1380776932565\n",
      "-5741.682040540742\n",
      "-6221.637872317323\n",
      "-5642.566679395728\n",
      "-5673.872395317908\n",
      "-5726.9326441801095\n",
      "-5985.699196401129\n",
      "-6062.950603559928\n",
      "-6062.85114308014\n",
      "-5851.066467240658\n",
      "-6002.292947932987\n",
      "\n"
     ]
    },
    {
     "data": {
      "text/plain": [
       "Text(0.5, 1.0, 'ELBO of DGP3 ARD Adam')"
      ]
     },
     "execution_count": 42,
     "metadata": {},
     "output_type": "execute_result"
    },
    {
     "data": {
      "image/png": "[encoded data removed]",
      "text/plain": [
       "<Figure size 432x288 with 1 Axes>"
      ]
     },
     "metadata": {},
     "output_type": "display_data"
    }
   ],
   "source": [
    "maxiter = ci_niter(20000)\n",
    "logf3_adam, gradient = run_adam_dgp(dgp3_ard, maxiter)\n",
    "plt.plot(np.arange(maxiter)[::10], logf3_adam)\n",
    "plt.xlabel('iteration')\n",
    "plt.ylabel('ELBO');\n",
    "plt.title('ELBO of DGP3 ARD Adam')"
   ]
  },
  {
   "cell_type": "code",
   "execution_count": 30,
   "metadata": {
    "scrolled": false
   },
   "outputs": [
    {
     "name": "stderr",
     "output_type": "stream",
     "text": [
      "/homes/rx220/env/lib/python3.7/site-packages/ipykernel_launcher.py:20: TqdmDeprecationWarning: This function will be removed in tqdm==5.0.0\n",
      "Please use `tqdm.notebook.tqdm` instead of `tqdm.tqdm_notebook`\n"
     ]
    },
    {
     "data": {
      "application/vnd.jupyter.widget-view+json": {
       "model_id": "ef06a54287e0435aa93b2cff6de4774e",
       "version_major": 2,
       "version_minor": 0
      },
      "text/plain": [
       "HBox(children=(FloatProgress(value=0.0, max=5000.0), HTML(value='')))"
      ]
     },
     "metadata": {},
     "output_type": "display_data"
    },
    {
     "name": "stdout",
     "output_type": "stream",
     "text": [
      "-80991.43365125632\n",
      "-57277.374255184586\n",
      "-42069.56109302445\n",
      "-27046.493902399106\n",
      "-12090.214770462979\n",
      "-6088.1342676883905\n",
      "-5758.383480329671\n",
      "-5872.799108930774\n",
      "-6092.048727698301\n",
      "-6293.433887429142\n",
      "\n"
     ]
    },
    {
     "data": {
      "text/plain": [
       "Text(0.5, 1.0, 'ELBO of DGP3 ARD NatGrad')"
      ]
     },
     "execution_count": 30,
     "metadata": {},
     "output_type": "execute_result"
    },
    {
     "data": {
      "image/png": "[encoded data removed]",
      "text/plain": [
       "<Figure size 432x288 with 1 Axes>"
      ]
     },
     "metadata": {},
     "output_type": "display_data"
    }
   ],
   "source": [
    "maxiter = ci_niter(5000)\n",
    "logf3_natgrad = run_adam_dgp(dgp3_ard, maxiter)\n",
    "plt.plot(np.arange(maxiter)[::10], logf3_natgrad)\n",
    "plt.xlabel('iteration')\n",
    "plt.ylabel('ELBO');\n",
    "plt.title('ELBO of DGP3 ARD NatGrad')"
   ]
  },
  {
   "cell_type": "code",
   "execution_count": 33,
   "metadata": {},
   "outputs": [
    {
     "data": {
      "text/plain": [
       "Text(0, 0.5, 'ELBO')"
      ]
     },
     "execution_count": 33,
     "metadata": {},
     "output_type": "execute_result"
    },
    {
     "data": {
      "image/png": "[encoded data removed]",
      "text/plain": [
       "<Figure size 432x288 with 1 Axes>"
      ]
     },
     "metadata": {},
     "output_type": "display_data"
    }
   ],
   "source": [
    "plt.plot(np.arange(maxiter)[::10], logf3_natgrad, label='NatGrad')\n",
    "plt.plot(np.arange(maxiter)[::10], logf3_adam, label='Adam')\n",
    "plt.legend(loc='lower right')\n",
    "plt.xlabel('iteration')\n",
    "plt.ylabel('ELBO')"
   ]
  },
  {
   "cell_type": "code",
   "execution_count": 93,
   "metadata": {
    "scrolled": false
   },
   "outputs": [
    {
     "name": "stderr",
     "output_type": "stream",
     "text": [
      "/homes/rx220/env/lib/python3.7/site-packages/ipykernel_launcher.py:20: TqdmDeprecationWarning: This function will be removed in tqdm==5.0.0\n",
      "Please use `tqdm.notebook.tqdm` instead of `tqdm.tqdm_notebook`\n"
     ]
    },
    {
     "data": {
      "application/vnd.jupyter.widget-view+json": {
       "model_id": "dcd4d7af39e44aabb03e2f0d17df2e3f",
       "version_major": 2,
       "version_minor": 0
      },
      "text/plain": [
       "HBox(children=(FloatProgress(value=0.0, max=5000.0), HTML(value='')))"
      ]
     },
     "metadata": {},
     "output_type": "display_data"
    },
    {
     "name": "stdout",
     "output_type": "stream",
     "text": [
      "-113804.57085955827\n",
      "-83064.9507931269\n",
      "-60098.819892506115\n",
      "-37523.68349568642\n",
      "-15441.14843274347\n",
      "-6291.03468661289\n",
      "-6381.600711730108\n",
      "-6202.995064911882\n",
      "-6547.011337155086\n",
      "-6373.409283218059\n",
      "\n"
     ]
    },
    {
     "data": {
      "text/plain": [
       "Text(0.5, 1.0, 'ELBO of DGP 4 layers')"
      ]
     },
     "execution_count": 93,
     "metadata": {},
     "output_type": "execute_result"
    },
    {
     "data": {
      "image/png": "[encoded data removed]",
      "text/plain": [
       "<Figure size 432x288 with 1 Axes>"
      ]
     },
     "metadata": {},
     "output_type": "display_data"
    }
   ],
   "source": [
    "maxiter = ci_niter(5000)\n",
    "logf_dgp4 = run_adam_dgp(dgp4, maxiter)\n",
    "plt.plot(np.arange(maxiter)[::10], logf_dgp4)\n",
    "plt.xlabel('iteration')\n",
    "plt.ylabel('ELBO')\n",
    "plt.title('ELBO of DGP 4 layers')"
   ]
  },
  {
   "cell_type": "code",
   "execution_count": 149,
   "metadata": {},
   "outputs": [
    {
     "name": "stderr",
     "output_type": "stream",
     "text": [
      "/homes/rx220/env/lib/python3.7/site-packages/ipykernel_launcher.py:41: TqdmDeprecationWarning: This function will be removed in tqdm==5.0.0\n",
      "Please use `tqdm.notebook.tqdm` instead of `tqdm.tqdm_notebook`\n"
     ]
    },
    {
     "data": {
      "application/vnd.jupyter.widget-view+json": {
       "model_id": "eead77e1dfbf4895ad5fe02ee41217e1",
       "version_major": 2,
       "version_minor": 0
      },
      "text/plain": [
       "HBox(children=(FloatProgress(value=0.0, max=10000.0), HTML(value='')))"
      ]
     },
     "metadata": {},
     "output_type": "display_data"
    },
    {
     "name": "stdout",
     "output_type": "stream",
     "text": [
      "-114083.68661371844\n",
      "-23463.49674465834\n",
      "-18912.07838132814\n",
      "-15894.399978747913\n",
      "-13475.003021865574\n",
      "-11712.047855517143\n",
      "-9639.242546749701\n",
      "-7913.588958055517\n",
      "-7427.158420979889\n",
      "-6375.755392997444\n",
      "\n"
     ]
    },
    {
     "data": {
      "text/plain": [
       "Text(0.5, 1.0, 'ELBO of DGP with 4 layers using Adam')"
      ]
     },
     "execution_count": 149,
     "metadata": {},
     "output_type": "execute_result"
    },
    {
     "data": {
      "image/png": "[encoded data removed]",
      "text/plain": [
       "<Figure size 432x288 with 1 Axes>"
      ]
     },
     "metadata": {},
     "output_type": "display_data"
    }
   ],
   "source": [
    "maxiter = ci_niter(10000)\n",
    "logf_dgp4_adam, dgp4_gradients= run_adam_dgp(dgp4_adam, maxiter)\n",
    "plt.plot(np.arange(maxiter)[::10], logf_dgp4_adam)\n",
    "plt.xlabel('iteration')\n",
    "plt.ylabel('ELBO')\n",
    "plt.title('ELBO of DGP with 4 layers using Adam')"
   ]
  },
  {
   "cell_type": "code",
   "execution_count": 19,
   "metadata": {},
   "outputs": [],
   "source": [
    "def assess_model_sgp(model, X_batch, Y_batch):\n",
    "    m, v = model.predict_y(X_batch)\n",
    "    l = model.predict_log_density([X_batch, Y_batch])\n",
    "    a = ((m>0.5).numpy().astype(int) == Y_batch.astype(int))\n",
    "    return l, a\n",
    "\n",
    "S = 100\n",
    "def assess_model_dgp(model, X_batch, Y_batch):\n",
    "    m, v = model.predict_y(X_batch, S)\n",
    "    l = model.predict_density(X_batch, Y_batch, S)\n",
    "    m = np.average(m,axis=0)\n",
    "    a = ((m>0.5).astype(int) == Y_batch.astype(int))\n",
    "    return l, a\n",
    "\n",
    "def predict_prob(model, X_batch):\n",
    "    m, v = model.predict_y(X_batch, S)\n",
    "    m = np.average(m,axis=0)\n",
    "    return m\n",
    "\n",
    "def predict_prob_sgp(model, X_batch):\n",
    "    m, v = model.predict_y(X_batch)\n",
    "    return m"
   ]
  },
  {
   "cell_type": "code",
   "execution_count": 21,
   "metadata": {},
   "outputs": [],
   "source": [
    "from sklearn.calibration import calibration_curve\n",
    "def calibrate_curve(model, method, X, Y):\n",
    "    n_batches = max(int(len(X)/1000), 1)\n",
    "    pred_prob= []\n",
    "    correct_y = []\n",
    "    for X_batch, Y_batch in zip(np.split(X, n_batches), np.split(Y, n_batches)):\n",
    "        prob = method(model, X_batch)\n",
    "        pred_prob.append(prob)\n",
    "        correct_y.append(Y_batch)\n",
    "    print(prob)\n",
    "    pred_prob = np.concatenate(pred_prob, 0)\n",
    "    correct_y = np.concatenate(correct_y, 0)\n",
    "    fraction_of_positives, mean_predicted_value = \\\n",
    "        calibration_curve(correct_y, pred_prob, normalize=True, n_bins=15, strategy='uniform')\n",
    "        \n",
    "    return fraction_of_positives, mean_predicted_value\n"
   ]
  },
  {
   "cell_type": "code",
   "execution_count": 22,
   "metadata": {},
   "outputs": [
    {
     "name": "stdout",
     "output_type": "stream",
     "text": [
      "tf.Tensor(\n",
      "[[0.5200769 ]\n",
      " [0.50608641]\n",
      " [0.50051885]\n",
      " [0.42079068]\n",
      " [0.51018019]\n",
      " [0.47173262]\n",
      " [0.52936927]\n",
      " [0.5045319 ]\n",
      " [0.51504795]\n",
      " [0.51197298]\n",
      " [0.41434426]\n",
      " [0.49806242]\n",
      " [0.49615362]\n",
      " [0.51882752]\n",
      " [0.41738796]\n",
      " [0.48955842]\n",
      " [0.48767561]\n",
      " [0.46488589]\n",
      " [0.5036229 ]\n",
      " [0.49047042]\n",
      " [0.50279487]\n",
      " [0.60910153]\n",
      " [0.4740767 ]\n",
      " [0.48215862]\n",
      " [0.58434906]\n",
      " [0.57002661]\n",
      " [0.52575188]\n",
      " [0.51510769]\n",
      " [0.42255155]\n",
      " [0.50576714]\n",
      " [0.57613746]\n",
      " [0.48472508]\n",
      " [0.4238375 ]\n",
      " [0.45815938]\n",
      " [0.48138556]\n",
      " [0.53006175]\n",
      " [0.50308183]\n",
      " [0.46389453]\n",
      " [0.51792623]\n",
      " [0.49129656]\n",
      " [0.53157901]\n",
      " [0.56455605]\n",
      " [0.5001281 ]\n",
      " [0.48688806]\n",
      " [0.44877451]\n",
      " [0.48036039]\n",
      " [0.61948409]\n",
      " [0.55366219]\n",
      " [0.47689151]\n",
      " [0.50212684]\n",
      " [0.51805582]\n",
      " [0.46001996]\n",
      " [0.43314464]\n",
      " [0.43613745]\n",
      " [0.54680195]\n",
      " [0.4767355 ]\n",
      " [0.51797871]\n",
      " [0.53847475]\n",
      " [0.49195659]\n",
      " [0.47389228]\n",
      " [0.46283997]\n",
      " [0.50878189]\n",
      " [0.56000572]\n",
      " [0.5014763 ]\n",
      " [0.52962711]\n",
      " [0.58965737]\n",
      " [0.49330167]\n",
      " [0.48636764]\n",
      " [0.50077896]\n",
      " [0.46593088]\n",
      " [0.4897152 ]\n",
      " [0.51915453]\n",
      " [0.36730862]\n",
      " [0.52913227]\n",
      " [0.49939165]\n",
      " [0.46630893]\n",
      " [0.46541252]\n",
      " [0.50725941]\n",
      " [0.47702262]\n",
      " [0.57129482]\n",
      " [0.45682852]\n",
      " [0.4369431 ]\n",
      " [0.52709075]\n",
      " [0.40884265]\n",
      " [0.48226318]\n",
      " [0.52112075]\n",
      " [0.54779119]\n",
      " [0.46766339]\n",
      " [0.50960194]\n",
      " [0.43256784]\n",
      " [0.43082915]\n",
      " [0.49711176]\n",
      " [0.52689307]\n",
      " [0.49301769]\n",
      " [0.52151089]\n",
      " [0.456836  ]\n",
      " [0.48073222]\n",
      " [0.506024  ]\n",
      " [0.48983795]\n",
      " [0.48224533]\n",
      " [0.47023228]\n",
      " [0.38181778]\n",
      " [0.52133245]\n",
      " [0.51574558]\n",
      " [0.43029872]\n",
      " [0.49151262]\n",
      " [0.52286421]\n",
      " [0.49387308]\n",
      " [0.48052404]\n",
      " [0.47855596]\n",
      " [0.49946999]\n",
      " [0.50575313]\n",
      " [0.52240377]\n",
      " [0.48888801]\n",
      " [0.40160067]\n",
      " [0.50925401]\n",
      " [0.45988455]\n",
      " [0.50918011]\n",
      " [0.46474021]\n",
      " [0.52090082]\n",
      " [0.44993634]\n",
      " [0.5111035 ]\n",
      " [0.51137929]\n",
      " [0.48944991]\n",
      " [0.48594619]\n",
      " [0.53207584]\n",
      " [0.4975259 ]\n",
      " [0.54399579]\n",
      " [0.55249667]\n",
      " [0.50032884]\n",
      " [0.50562154]\n",
      " [0.53154813]\n",
      " [0.48677571]\n",
      " [0.53739156]\n",
      " [0.5234412 ]\n",
      " [0.49158396]\n",
      " [0.48860325]\n",
      " [0.46408892]\n",
      " [0.52437081]\n",
      " [0.4737252 ]\n",
      " [0.48048669]\n",
      " [0.48569869]\n",
      " [0.46073411]\n",
      " [0.47965601]\n",
      " [0.5040769 ]\n",
      " [0.4614183 ]\n",
      " [0.45967256]\n",
      " [0.45719478]\n",
      " [0.47274989]\n",
      " [0.4858466 ]\n",
      " [0.58668685]\n",
      " [0.50340057]\n",
      " [0.48964271]\n",
      " [0.50869543]\n",
      " [0.45640231]\n",
      " [0.53107583]\n",
      " [0.49351289]\n",
      " [0.49894792]\n",
      " [0.49390381]\n",
      " [0.52318992]\n",
      " [0.48281611]\n",
      " [0.50544204]\n",
      " [0.46105264]\n",
      " [0.39174397]\n",
      " [0.51054166]\n",
      " [0.50022334]\n",
      " [0.42648635]\n",
      " [0.47196146]\n",
      " [0.60607731]\n",
      " [0.55181032]\n",
      " [0.48027406]\n",
      " [0.47682036]\n",
      " [0.517127  ]\n",
      " [0.50408741]\n",
      " [0.52845808]\n",
      " [0.44989233]\n",
      " [0.40739576]\n",
      " [0.49544634]\n",
      " [0.50723872]\n",
      " [0.5493339 ]\n",
      " [0.48656236]\n",
      " [0.52893161]\n",
      " [0.55774341]\n",
      " [0.48850119]\n",
      " [0.49820257]\n",
      " [0.46740282]\n",
      " [0.46281105]\n",
      " [0.46844633]\n",
      " [0.51349238]\n",
      " [0.48167742]\n",
      " [0.49469639]\n",
      " [0.49779272]\n",
      " [0.37270668]\n",
      " [0.50882609]\n",
      " [0.54263435]\n",
      " [0.49050406]\n",
      " [0.37933857]\n",
      " [0.42752053]\n",
      " [0.51516859]\n",
      " [0.51026717]\n",
      " [0.53982079]\n",
      " [0.44631464]\n",
      " [0.48173761]\n",
      " [0.49517599]\n",
      " [0.53823465]\n",
      " [0.40356805]\n",
      " [0.53066834]\n",
      " [0.42938701]\n",
      " [0.5016161 ]\n",
      " [0.45235625]\n",
      " [0.49297909]\n",
      " [0.5005201 ]\n",
      " [0.50817237]\n",
      " [0.47737781]\n",
      " [0.49772524]\n",
      " [0.48706995]\n",
      " [0.42834518]\n",
      " [0.43220945]\n",
      " [0.50923732]\n",
      " [0.52184349]\n",
      " [0.4870911 ]\n",
      " [0.53879297]\n",
      " [0.48466221]\n",
      " [0.61544806]\n",
      " [0.48807017]\n",
      " [0.52645351]\n",
      " [0.47870526]\n",
      " [0.48843951]\n",
      " [0.487978  ]\n",
      " [0.47809656]\n",
      " [0.40764669]\n",
      " [0.4831243 ]\n",
      " [0.49442159]\n",
      " [0.51109383]\n",
      " [0.50137057]\n",
      " [0.51885966]\n",
      " [0.43289921]\n",
      " [0.49797923]\n",
      " [0.50575654]\n",
      " [0.50088174]\n",
      " [0.48561274]\n",
      " [0.48409382]\n",
      " [0.471985  ]\n",
      " [0.49108447]\n",
      " [0.46387701]\n",
      " [0.49391435]\n",
      " [0.53745475]\n",
      " [0.46456624]\n",
      " [0.4963614 ]\n",
      " [0.50761198]\n",
      " [0.50640552]\n",
      " [0.42598578]\n",
      " [0.49658271]\n",
      " [0.57459958]\n",
      " [0.56043484]\n",
      " [0.49615064]\n",
      " [0.46727866]\n",
      " [0.47579921]\n",
      " [0.51401595]\n",
      " [0.46758952]\n",
      " [0.53864005]\n",
      " [0.47649462]\n",
      " [0.54224418]\n",
      " [0.53283617]\n",
      " [0.50481289]\n",
      " [0.49127678]\n",
      " [0.50476911]\n",
      " [0.49960204]\n",
      " [0.56216694]\n",
      " [0.54011459]\n",
      " [0.51653923]\n",
      " [0.41175007]\n",
      " [0.60626049]\n",
      " [0.42918798]\n",
      " [0.46764024]\n",
      " [0.4968794 ]\n",
      " [0.65829907]\n",
      " [0.57039143]\n",
      " [0.49104272]\n",
      " [0.63687207]\n",
      " [0.60669103]\n",
      " [0.47933491]\n",
      " [0.56606778]\n",
      " [0.51394503]\n",
      " [0.52152075]\n",
      " [0.53769744]\n",
      " [0.46337903]\n",
      " [0.51363781]\n",
      " [0.46508973]\n",
      " [0.57463066]\n",
      " [0.47549893]\n",
      " [0.56066409]\n",
      " [0.49213626]\n",
      " [0.50331395]\n",
      " [0.49972195]\n",
      " [0.50249585]\n",
      " [0.43782194]\n",
      " [0.49060951]\n",
      " [0.53722186]\n",
      " [0.54148157]\n",
      " [0.48565591]\n",
      " [0.50886674]\n",
      " [0.52239796]\n",
      " [0.55880334]\n",
      " [0.4863871 ]\n",
      " [0.52282112]\n",
      " [0.53938504]\n",
      " [0.43938477]\n",
      " [0.52430145]\n",
      " [0.52078534]\n",
      " [0.55208987]\n",
      " [0.47931664]\n",
      " [0.59878992]\n",
      " [0.46077234]\n",
      " [0.55718919]\n",
      " [0.48775993]\n",
      " [0.48704331]\n",
      " [0.53549155]\n",
      " [0.54122334]\n",
      " [0.38293891]\n",
      " [0.51322113]\n",
      " [0.49303418]\n",
      " [0.47203415]\n",
      " [0.45014007]\n",
      " [0.51712529]\n",
      " [0.54406914]\n",
      " [0.52253813]\n",
      " [0.47946913]\n",
      " [0.53390556]\n",
      " [0.49143055]\n",
      " [0.4883221 ]\n",
      " [0.6080753 ]\n",
      " [0.49790725]\n",
      " [0.57091548]\n",
      " [0.49301583]\n",
      " [0.51383324]\n",
      " [0.40652235]\n",
      " [0.5300297 ]\n",
      " [0.51201562]\n",
      " [0.55822134]\n",
      " [0.51912757]\n",
      " [0.45687279]\n",
      " [0.52814304]\n",
      " [0.53430866]\n",
      " [0.45829712]\n",
      " [0.50724927]\n",
      " [0.52492791]\n",
      " [0.61693286]\n",
      " [0.46879023]\n",
      " [0.48361398]\n",
      " [0.50143102]\n",
      " [0.58250608]\n",
      " [0.58131567]\n",
      " [0.49961679]\n",
      " [0.50986682]\n",
      " [0.530716  ]\n",
      " [0.48874112]\n",
      " [0.58223223]\n",
      " [0.52454211]\n",
      " [0.49932082]\n",
      " [0.46520969]\n",
      " [0.51608492]\n",
      " [0.5168236 ]\n",
      " [0.49825706]\n",
      " [0.51182333]\n",
      " [0.44279352]\n",
      " [0.495879  ]\n",
      " [0.4981122 ]\n",
      " [0.49946031]\n",
      " [0.50612184]\n",
      " [0.57147535]\n",
      " [0.52324748]\n",
      " [0.50294818]\n",
      " [0.588836  ]\n",
      " [0.55416378]\n",
      " [0.44572761]\n",
      " [0.47236232]\n",
      " [0.52291866]\n",
      " [0.52406624]\n",
      " [0.48779193]\n",
      " [0.46874359]\n",
      " [0.47841883]\n",
      " [0.52956347]\n",
      " [0.48905834]\n",
      " [0.49570075]\n",
      " [0.55536595]\n",
      " [0.41451573]\n",
      " [0.51881562]\n",
      " [0.4674734 ]\n",
      " [0.57414064]\n",
      " [0.41589897]\n",
      " [0.39956626]\n",
      " [0.52754433]\n",
      " [0.39119514]\n",
      " [0.55406251]\n",
      " [0.49637565]\n",
      " [0.41796272]\n",
      " [0.41972789]\n",
      " [0.53586919]\n",
      " [0.4905592 ]\n",
      " [0.4907931 ]\n",
      " [0.51693383]\n",
      " [0.4997269 ]\n",
      " [0.49308167]\n",
      " [0.48814584]\n",
      " [0.55482072]\n",
      " [0.55067262]\n",
      " [0.5044876 ]\n",
      " [0.57108312]\n",
      " [0.51701196]\n",
      " [0.46899558]\n",
      " [0.57766703]\n",
      " [0.49616064]\n",
      " [0.52435679]\n",
      " [0.51024144]\n",
      " [0.55341007]\n",
      " [0.47664584]\n",
      " [0.64080602]\n",
      " [0.48664478]\n",
      " [0.44926248]\n",
      " [0.45131129]\n",
      " [0.48680118]\n",
      " [0.49310797]\n",
      " [0.5097643 ]\n",
      " [0.49521221]\n",
      " [0.48532884]\n",
      " [0.57715796]\n",
      " [0.49443988]\n",
      " [0.50581982]\n",
      " [0.4906766 ]\n",
      " [0.50248743]\n",
      " [0.41820082]\n",
      " [0.51977207]\n",
      " [0.55527673]\n",
      " [0.47238347]\n",
      " [0.54486931]\n",
      " [0.50026794]\n",
      " [0.536188  ]\n",
      " [0.49108371]\n",
      " [0.46221109]\n",
      " [0.46488529]\n",
      " [0.45887336]\n",
      " [0.46093422]\n",
      " [0.46155582]\n",
      " [0.49084819]\n",
      " [0.55276901]\n",
      " [0.5369261 ]\n",
      " [0.51811825]\n",
      " [0.48592116]\n",
      " [0.48360856]\n",
      " [0.4908676 ]\n",
      " [0.46542632]\n",
      " [0.5231532 ]\n",
      " [0.52078327]\n",
      " [0.47370489]\n",
      " [0.49440755]\n",
      " [0.51205371]\n",
      " [0.49297227]\n",
      " [0.4215709 ]\n",
      " [0.40312882]\n",
      " [0.48974002]\n",
      " [0.48228556]\n",
      " [0.47968921]\n",
      " [0.50701889]\n",
      " [0.51346867]\n",
      " [0.44825937]\n",
      " [0.49834435]\n",
      " [0.4915728 ]\n",
      " [0.4868408 ]\n",
      " [0.63487455]\n",
      " [0.38000215]\n",
      " [0.50807744]\n",
      " [0.50690719]\n",
      " [0.48986315]\n",
      " [0.49513307]\n",
      " [0.50636081]\n",
      " [0.50012501]\n",
      " [0.48916797]\n",
      " [0.57348914]\n",
      " [0.49183406]\n",
      " [0.49864066]\n",
      " [0.48730531]\n",
      " [0.49303673]\n",
      " [0.58317624]\n",
      " [0.46207691]\n",
      " [0.49560319]\n",
      " [0.4021468 ]\n",
      " [0.49201587]\n",
      " [0.47956945]\n",
      " [0.46579074]\n",
      " [0.51561843]\n",
      " [0.50567735]\n",
      " [0.53215886]\n",
      " [0.51741681]\n",
      " [0.54757341]\n",
      " [0.54192006]\n",
      " [0.37596881]\n",
      " [0.43527162]\n",
      " [0.4660738 ]\n",
      " [0.49522073]\n",
      " [0.48087463]\n",
      " [0.49536038]\n",
      " [0.46232456]\n",
      " [0.50649983]\n",
      " [0.48332467]\n",
      " [0.5379971 ]\n",
      " [0.5047526 ]\n",
      " [0.50728414]\n",
      " [0.50065697]\n",
      " [0.41700528]\n",
      " [0.46758359]\n",
      " [0.61597942]\n",
      " [0.59396474]\n",
      " [0.5030152 ]\n",
      " [0.4940668 ]\n",
      " [0.54225484]\n",
      " [0.47983321]\n",
      " [0.50555871]\n",
      " [0.52078734]\n",
      " [0.37812101]\n",
      " [0.57292071]\n",
      " [0.45973847]\n",
      " [0.51431958]\n",
      " [0.5197348 ]\n",
      " [0.49689101]\n",
      " [0.49261397]\n",
      " [0.46498636]\n",
      " [0.49934751]\n",
      " [0.52705626]\n",
      " [0.49915059]\n",
      " [0.42383514]\n",
      " [0.50422466]\n",
      " [0.4374116 ]\n",
      " [0.53300101]\n",
      " [0.49327288]\n",
      " [0.47952892]\n",
      " [0.4596787 ]\n",
      " [0.5059905 ]\n",
      " [0.51878361]\n",
      " [0.47904541]\n",
      " [0.51649351]\n",
      " [0.47843734]\n",
      " [0.44064536]\n",
      " [0.48396318]\n",
      " [0.46271068]\n",
      " [0.47421336]\n",
      " [0.51964665]\n",
      " [0.49756789]\n",
      " [0.49575631]\n",
      " [0.48171279]\n",
      " [0.52024664]\n",
      " [0.48282359]\n",
      " [0.5043929 ]\n",
      " [0.52272568]\n",
      " [0.50068424]\n",
      " [0.45309851]\n",
      " [0.44947112]\n",
      " [0.52837751]\n",
      " [0.49148766]\n",
      " [0.49553009]\n",
      " [0.47612807]\n",
      " [0.48032293]\n",
      " [0.50876689]\n",
      " [0.53045309]\n",
      " [0.50275594]\n",
      " [0.48316054]\n",
      " [0.50907262]\n",
      " [0.51025933]\n",
      " [0.50837742]\n",
      " [0.61278894]\n",
      " [0.50137319]\n",
      " [0.53184878]\n",
      " [0.55935723]\n",
      " [0.50344574]\n",
      " [0.48718409]\n",
      " [0.49255614]\n",
      " [0.44486914]\n",
      " [0.55698277]\n",
      " [0.54398894]\n",
      " [0.54131222]\n",
      " [0.50432677]\n",
      " [0.55237805]\n",
      " [0.60514653]\n",
      " [0.49349679]\n",
      " [0.49815939]\n",
      " [0.41118064]\n",
      " [0.47823387]\n",
      " [0.51372337]\n",
      " [0.5446751 ]\n",
      " [0.49472942]\n",
      " [0.50460959]\n",
      " [0.489124  ]\n",
      " [0.46296059]\n",
      " [0.57424717]\n",
      " [0.3723791 ]\n",
      " [0.51020211]\n",
      " [0.52124564]\n",
      " [0.47818584]\n",
      " [0.48663375]\n",
      " [0.52323472]\n",
      " [0.64450288]\n",
      " [0.57267114]\n",
      " [0.50023385]\n",
      " [0.47647903]\n",
      " [0.50869727]\n",
      " [0.51848032]\n",
      " [0.534506  ]\n",
      " [0.51779761]\n",
      " [0.49540905]\n",
      " [0.49243469]\n",
      " [0.40477507]\n",
      " [0.4014707 ]\n",
      " [0.48134693]\n",
      " [0.4724299 ]\n",
      " [0.50939159]\n",
      " [0.50481667]\n",
      " [0.44562086]\n",
      " [0.46177076]\n",
      " [0.65720286]\n",
      " [0.47452853]\n",
      " [0.42152726]\n",
      " [0.57989278]\n",
      " [0.41686532]\n",
      " [0.50262033]\n",
      " [0.5536393 ]\n",
      " [0.55533731]\n",
      " [0.5383565 ]\n",
      " [0.45770504]\n",
      " [0.47409428]\n",
      " [0.50204245]\n",
      " [0.56475588]\n",
      " [0.55644103]\n",
      " [0.49131406]\n",
      " [0.57524666]\n",
      " [0.39638774]\n",
      " [0.59613033]\n",
      " [0.48135967]\n",
      " [0.4924424 ]\n",
      " [0.51115305]\n",
      " [0.5235814 ]\n",
      " [0.52597592]\n",
      " [0.48505738]\n",
      " [0.50924179]\n",
      " [0.50011155]\n",
      " [0.50631766]\n",
      " [0.51363224]\n",
      " [0.49981098]\n",
      " [0.48159378]\n",
      " [0.5232614 ]\n",
      " [0.49430992]\n",
      " [0.49536785]\n",
      " [0.41148494]\n",
      " [0.48988991]\n",
      " [0.49486393]\n",
      " [0.4209345 ]\n",
      " [0.48518937]\n",
      " [0.59890078]\n",
      " [0.39431866]\n",
      " [0.50121945]\n",
      " [0.48607179]\n",
      " [0.39868025]\n",
      " [0.48170405]\n",
      " [0.51623305]\n",
      " [0.50669746]\n",
      " [0.46293327]\n",
      " [0.60323193]\n",
      " [0.55619787]\n",
      " [0.50848366]\n",
      " [0.44292952]\n",
      " [0.49369162]\n",
      " [0.49587173]\n",
      " [0.526269  ]\n",
      " [0.46134365]\n",
      " [0.49763665]\n",
      " [0.47742737]\n",
      " [0.48257727]\n",
      " [0.48154009]\n",
      " [0.51684181]\n",
      " [0.49674157]\n",
      " [0.48876579]\n",
      " [0.4933874 ]\n",
      " [0.49172187]\n",
      " [0.49008983]\n",
      " [0.54252688]\n",
      " [0.51306695]\n",
      " [0.49221546]\n",
      " [0.50358163]\n",
      " [0.49833586]\n",
      " [0.36241524]\n",
      " [0.50345601]\n",
      " [0.46276542]\n",
      " [0.48194934]\n",
      " [0.52732289]\n",
      " [0.57178823]\n",
      " [0.52152979]\n",
      " [0.52002553]\n",
      " [0.45698321]\n",
      " [0.48935383]\n",
      " [0.47315372]\n",
      " [0.56007689]\n",
      " [0.52743828]\n",
      " [0.51113312]\n",
      " [0.46765347]\n",
      " [0.527136  ]\n",
      " [0.51146385]\n",
      " [0.477821  ]\n",
      " [0.52841901]\n",
      " [0.49901457]\n",
      " [0.46945334]\n",
      " [0.50019165]\n",
      " [0.50049589]\n",
      " [0.47553462]\n",
      " [0.50785822]\n",
      " [0.47857481]\n",
      " [0.49056328]\n",
      " [0.58559042]\n",
      " [0.5105977 ]\n",
      " [0.48963026]\n",
      " [0.61161588]\n",
      " [0.49951493]\n",
      " [0.50693756]\n",
      " [0.49534219]\n",
      " [0.51895793]\n",
      " [0.48882698]\n",
      " [0.3956015 ]\n",
      " [0.49594781]\n",
      " [0.57808253]\n",
      " [0.50333595]\n",
      " [0.48832216]\n",
      " [0.51921255]\n",
      " [0.49719693]\n",
      " [0.55137492]\n",
      " [0.50354687]\n",
      " [0.58714211]\n",
      " [0.50760769]\n",
      " [0.58235507]\n",
      " [0.5103217 ]\n",
      " [0.51346966]\n",
      " [0.51200847]\n",
      " [0.52787417]\n",
      " [0.48789633]\n",
      " [0.50504313]\n",
      " [0.38522947]\n",
      " [0.51342392]\n",
      " [0.47557264]\n",
      " [0.54593906]\n",
      " [0.46890443]\n",
      " [0.47622331]\n",
      " [0.48544001]\n",
      " [0.51321561]\n",
      " [0.53056863]\n",
      " [0.50327718]\n",
      " [0.43240995]\n",
      " [0.48982409]\n",
      " [0.4668163 ]\n",
      " [0.49139895]\n",
      " [0.46261342]\n",
      " [0.51383127]\n",
      " [0.46936246]\n",
      " [0.47714932]\n",
      " [0.49475238]\n",
      " [0.51919658]\n",
      " [0.57801541]\n",
      " [0.49076326]\n",
      " [0.46552779]\n",
      " [0.51143136]\n",
      " [0.46479628]\n",
      " [0.4034712 ]\n",
      " [0.46726374]\n",
      " [0.55548922]\n",
      " [0.51723331]\n",
      " [0.49034145]\n",
      " [0.50458653]\n",
      " [0.59684381]\n",
      " [0.51301521]\n",
      " [0.50292047]\n",
      " [0.4902347 ]\n",
      " [0.50307225]\n",
      " [0.49376729]\n",
      " [0.50545031]\n",
      " [0.49318904]\n",
      " [0.4752786 ]\n",
      " [0.51021692]\n",
      " [0.41668672]\n",
      " [0.58907985]\n",
      " [0.51867845]\n",
      " [0.47115655]\n",
      " [0.51986729]\n",
      " [0.51500688]\n",
      " [0.47981009]\n",
      " [0.5090445 ]\n",
      " [0.53768064]\n",
      " [0.46117479]\n",
      " [0.50493385]\n",
      " [0.52763898]\n",
      " [0.48106042]\n",
      " [0.46535197]\n",
      " [0.50611535]\n",
      " [0.56342045]\n",
      " [0.4756035 ]\n",
      " [0.43249184]\n",
      " [0.49084402]\n",
      " [0.522401  ]\n",
      " [0.49726679]\n",
      " [0.43784467]\n",
      " [0.41208238]\n",
      " [0.54145452]\n",
      " [0.56469623]\n",
      " [0.41814749]\n",
      " [0.54683188]\n",
      " [0.5859065 ]\n",
      " [0.52772939]\n",
      " [0.50457051]\n",
      " [0.51155601]\n",
      " [0.50166088]\n",
      " [0.57752006]\n",
      " [0.50510023]\n",
      " [0.48403763]\n",
      " [0.4897284 ]\n",
      " [0.51045827]\n",
      " [0.44248143]\n",
      " [0.55055546]\n",
      " [0.39084661]\n",
      " [0.52003736]\n",
      " [0.49311549]\n",
      " [0.54543736]\n",
      " [0.49621408]\n",
      " [0.49183525]\n",
      " [0.49741744]\n",
      " [0.50446818]\n",
      " [0.48984341]\n",
      " [0.51669934]\n",
      " [0.38927752]\n",
      " [0.50925642]\n",
      " [0.56195001]\n",
      " [0.5510756 ]\n",
      " [0.50956221]\n",
      " [0.54754707]\n",
      " [0.61329624]\n",
      " [0.60499621]\n",
      " [0.50589292]\n",
      " [0.45748212]\n",
      " [0.59018512]\n",
      " [0.6218082 ]\n",
      " [0.4741645 ]\n",
      " [0.55307907]\n",
      " [0.49251869]\n",
      " [0.5562669 ]\n",
      " [0.54633306]\n",
      " [0.48978666]\n",
      " [0.50048531]\n",
      " [0.57199013]\n",
      " [0.47840297]\n",
      " [0.5446652 ]\n",
      " [0.51542708]\n",
      " [0.42494553]\n",
      " [0.53545515]\n",
      " [0.49257922]\n",
      " [0.40537088]\n",
      " [0.56699969]\n",
      " [0.5683834 ]\n",
      " [0.49335067]\n",
      " [0.49746059]\n",
      " [0.49197217]\n",
      " [0.4189294 ]\n",
      " [0.55533763]\n",
      " [0.50188859]\n",
      " [0.54862763]\n",
      " [0.4475738 ]\n",
      " [0.51976786]\n",
      " [0.49867702]\n",
      " [0.48055095]\n",
      " [0.45029697]\n",
      " [0.57389676]\n",
      " [0.54423795]\n",
      " [0.48304789]\n",
      " [0.43193765]\n",
      " [0.56253127]\n",
      " [0.50071814]\n",
      " [0.48748852]\n",
      " [0.37908735]\n",
      " [0.53706987]\n",
      " [0.5116138 ]\n",
      " [0.47689241]\n",
      " [0.52929272]\n",
      " [0.47202237]\n",
      " [0.50467133]\n",
      " [0.46151124]\n",
      " [0.45530492]\n",
      " [0.49377332]\n",
      " [0.52308281]\n",
      " [0.43715238]\n",
      " [0.50733423]\n",
      " [0.49021701]\n",
      " [0.52705081]\n",
      " [0.50152863]\n",
      " [0.50908558]\n",
      " [0.49099002]\n",
      " [0.50618054]\n",
      " [0.50353001]\n",
      " [0.41246021]\n",
      " [0.49664527]\n",
      " [0.49199134]\n",
      " [0.46312055]\n",
      " [0.49245242]\n",
      " [0.51530452]\n",
      " [0.50328566]\n",
      " [0.5079286 ]\n",
      " [0.42783588]\n",
      " [0.5482869 ]\n",
      " [0.48556627]\n",
      " [0.4828912 ]\n",
      " [0.55883129]\n",
      " [0.49438041]\n",
      " [0.45599242]\n",
      " [0.58917117]\n",
      " [0.45132679]\n",
      " [0.5099502 ]\n",
      " [0.50968185]\n",
      " [0.47415438]\n",
      " [0.51742452]\n",
      " [0.56092364]\n",
      " [0.50916462]\n",
      " [0.42426086]\n",
      " [0.57652355]\n",
      " [0.4576172 ]\n",
      " [0.47864499]\n",
      " [0.52976261]\n",
      " [0.42274903]\n",
      " [0.55483114]\n",
      " [0.51140823]\n",
      " [0.51502906]\n",
      " [0.50100267]\n",
      " [0.52539149]\n",
      " [0.46244454]\n",
      " [0.49333795]\n",
      " [0.47706958]\n",
      " [0.48635657]\n",
      " [0.4986238 ]\n",
      " [0.49569755]\n",
      " [0.47569114]\n",
      " [0.45598186]\n",
      " [0.46385059]\n",
      " [0.55171805]\n",
      " [0.55767783]\n",
      " [0.48487679]\n",
      " [0.5430769 ]\n",
      " [0.49868119]\n",
      " [0.47729699]\n",
      " [0.49880503]\n",
      " [0.49727261]\n",
      " [0.54037982]\n",
      " [0.50279248]\n",
      " [0.49448917]\n",
      " [0.51092251]\n",
      " [0.43980766]\n",
      " [0.50138792]\n",
      " [0.43765709]\n",
      " [0.4307192 ]\n",
      " [0.49075675]\n",
      " [0.48481825]\n",
      " [0.48812733]\n",
      " [0.45240442]\n",
      " [0.4877925 ]\n",
      " [0.50848198]\n",
      " [0.47820975]\n",
      " [0.49136059]\n",
      " [0.52790453]\n",
      " [0.49914733]\n",
      " [0.48659271]\n",
      " [0.48784674]\n",
      " [0.4930437 ]\n",
      " [0.49601582]\n",
      " [0.55490361]\n",
      " [0.59223998]\n",
      " [0.46743823]\n",
      " [0.5049853 ]\n",
      " [0.52895107]\n",
      " [0.54217171]\n",
      " [0.50304768]\n",
      " [0.57206304]\n",
      " [0.49037918]\n",
      " [0.53763821]\n",
      " [0.48169127]\n",
      " [0.57441369]\n",
      " [0.40231144]\n",
      " [0.53360772]\n",
      " [0.44058782]\n",
      " [0.48674597]\n",
      " [0.47448283]\n",
      " [0.52961248]\n",
      " [0.4899132 ]\n",
      " [0.52694289]\n",
      " [0.57147549]\n",
      " [0.52111245]\n",
      " [0.51386511]\n",
      " [0.52140765]\n",
      " [0.49880343]\n",
      " [0.45466695]\n",
      " [0.50322664]], shape=(1000, 1), dtype=float64)\n"
     ]
    }
   ],
   "source": [
    "fraction_of_positives_m, mean_predicted_value_m = calibrate_curve(m, predict_prob_sgp, x_test, y_test)"
   ]
  },
  {
   "cell_type": "code",
   "execution_count": 23,
   "metadata": {},
   "outputs": [
    {
     "data": {
      "text/plain": [
       "array([0.04876055, 0.11035414, 0.17189464, 0.23788837, 0.30393676,\n",
       "       0.37146453, 0.43964598, 0.49665683, 0.56198379, 0.62960008,\n",
       "       0.69638941, 0.76187887, 0.82821143, 0.89216035, 0.95436891])"
      ]
     },
     "execution_count": 23,
     "metadata": {},
     "output_type": "execute_result"
    }
   ],
   "source": [
    "mean_predicted_value_m"
   ]
  },
  {
   "cell_type": "code",
   "execution_count": 24,
   "metadata": {},
   "outputs": [
    {
     "data": {
      "text/plain": [
       "array([0.        , 0.01398601, 0.01209677, 0.0244123 , 0.06754906,\n",
       "       0.12796989, 0.31067165, 0.55356483, 0.74716981, 0.85809869,\n",
       "       0.9272541 , 0.94772507, 0.9816092 , 0.98412698, 1.        ])"
      ]
     },
     "execution_count": 24,
     "metadata": {},
     "output_type": "execute_result"
    }
   ],
   "source": [
    "fraction_of_positives_m"
   ]
  },
  {
   "cell_type": "code",
   "execution_count": 26,
   "metadata": {},
   "outputs": [
    {
     "name": "stdout",
     "output_type": "stream",
     "text": [
      "[[0.48754892]\n",
      " [0.81555253]\n",
      " [0.46086815]\n",
      " [0.02450461]\n",
      " [0.79149871]\n",
      " [0.37418884]\n",
      " [0.68252867]\n",
      " [0.59643503]\n",
      " [0.3800464 ]\n",
      " [0.25960204]\n",
      " [0.06468501]\n",
      " [0.28426669]\n",
      " [0.41568895]\n",
      " [0.91982178]\n",
      " [0.00643384]\n",
      " [0.57032339]\n",
      " [0.38397108]\n",
      " [0.08217522]\n",
      " [0.36109229]\n",
      " [0.29700279]\n",
      " [0.2839061 ]\n",
      " [0.99489632]\n",
      " [0.26416206]\n",
      " [0.20754382]\n",
      " [0.9810916 ]\n",
      " [0.68885001]\n",
      " [0.4817956 ]\n",
      " [0.37391496]\n",
      " [0.00189121]\n",
      " [0.59842677]\n",
      " [0.91621798]\n",
      " [0.57226097]\n",
      " [0.04497773]\n",
      " [0.09014473]\n",
      " [0.38995009]\n",
      " [0.69381794]\n",
      " [0.74012745]\n",
      " [0.45879539]\n",
      " [0.78381043]\n",
      " [0.42149179]\n",
      " [0.72274318]\n",
      " [0.9866793 ]\n",
      " [0.56860125]\n",
      " [0.26631055]\n",
      " [0.11442347]\n",
      " [0.12732455]\n",
      " [0.82749835]\n",
      " [0.76058135]\n",
      " [0.4387812 ]\n",
      " [0.4000893 ]\n",
      " [0.58002508]\n",
      " [0.24764403]\n",
      " [0.03834966]\n",
      " [0.03014422]\n",
      " [0.95940224]\n",
      " [0.09518208]\n",
      " [0.63718281]\n",
      " [0.71101838]\n",
      " [0.51001767]\n",
      " [0.10220676]\n",
      " [0.16257056]\n",
      " [0.63807631]\n",
      " [0.79517895]\n",
      " [0.62286043]\n",
      " [0.63885929]\n",
      " [0.89070882]\n",
      " [0.1372459 ]\n",
      " [0.28401138]\n",
      " [0.60798887]\n",
      " [0.04435467]\n",
      " [0.44818951]\n",
      " [0.71299638]\n",
      " [0.02457172]\n",
      " [0.74428928]\n",
      " [0.69161439]\n",
      " [0.18051228]\n",
      " [0.03503392]\n",
      " [0.53301237]\n",
      " [0.11247928]\n",
      " [0.91119339]\n",
      " [0.01795975]\n",
      " [0.02628646]\n",
      " [0.86229095]\n",
      " [0.05997225]\n",
      " [0.37601749]\n",
      " [0.7935653 ]\n",
      " [0.86089986]\n",
      " [0.24046   ]\n",
      " [0.68152643]\n",
      " [0.01412776]\n",
      " [0.04767681]\n",
      " [0.53872335]\n",
      " [0.34743186]\n",
      " [0.60032429]\n",
      " [0.95620083]\n",
      " [0.19885214]\n",
      " [0.42886533]\n",
      " [0.32161305]\n",
      " [0.436968  ]\n",
      " [0.43899519]\n",
      " [0.47889658]\n",
      " [0.01498704]\n",
      " [0.95934049]\n",
      " [0.8228736 ]\n",
      " [0.02086013]\n",
      " [0.39012063]\n",
      " [0.8646249 ]\n",
      " [0.62603511]\n",
      " [0.38176731]\n",
      " [0.25629382]\n",
      " [0.54244705]\n",
      " [0.39472978]\n",
      " [0.84177888]\n",
      " [0.17195644]\n",
      " [0.01610314]\n",
      " [0.62453974]\n",
      " [0.18459296]\n",
      " [0.49322866]\n",
      " [0.1124577 ]\n",
      " [0.69310911]\n",
      " [0.0571379 ]\n",
      " [0.5242858 ]\n",
      " [0.5458555 ]\n",
      " [0.28429604]\n",
      " [0.30170367]\n",
      " [0.60658378]\n",
      " [0.51682793]\n",
      " [0.78360511]\n",
      " [0.99453032]\n",
      " [0.16728006]\n",
      " [0.60991105]\n",
      " [0.91838284]\n",
      " [0.58614967]\n",
      " [0.91819464]\n",
      " [0.61458226]\n",
      " [0.47057882]\n",
      " [0.61766145]\n",
      " [0.07394532]\n",
      " [0.78955817]\n",
      " [0.12629923]\n",
      " [0.40692489]\n",
      " [0.45697982]\n",
      " [0.27490008]\n",
      " [0.40561829]\n",
      " [0.35865946]\n",
      " [0.11007091]\n",
      " [0.02340167]\n",
      " [0.42654679]\n",
      " [0.09202928]\n",
      " [0.24337154]\n",
      " [0.91361455]\n",
      " [0.54448824]\n",
      " [0.49302755]\n",
      " [0.71831558]\n",
      " [0.01790278]\n",
      " [0.90522469]\n",
      " [0.17200321]\n",
      " [0.38381778]\n",
      " [0.49828354]\n",
      " [0.93896097]\n",
      " [0.27113164]\n",
      " [0.81471998]\n",
      " [0.02018969]\n",
      " [0.31491628]\n",
      " [0.58757791]\n",
      " [0.60065916]\n",
      " [0.03393654]\n",
      " [0.15959547]\n",
      " [0.99039157]\n",
      " [0.68255592]\n",
      " [0.18518941]\n",
      " [0.36322982]\n",
      " [0.82507952]\n",
      " [0.73390674]\n",
      " [0.77492187]\n",
      " [0.26566951]\n",
      " [0.04032691]\n",
      " [0.75622018]\n",
      " [0.59049667]\n",
      " [0.9014685 ]\n",
      " [0.06363231]\n",
      " [0.60934662]\n",
      " [0.92813844]\n",
      " [0.22410838]\n",
      " [0.3832652 ]\n",
      " [0.43721835]\n",
      " [0.20902032]\n",
      " [0.0913106 ]\n",
      " [0.63876131]\n",
      " [0.043121  ]\n",
      " [0.09563663]\n",
      " [0.27993528]\n",
      " [0.01522702]\n",
      " [0.59133866]\n",
      " [0.95244791]\n",
      " [0.42508938]\n",
      " [0.00895826]\n",
      " [0.01280414]\n",
      " [0.87280975]\n",
      " [0.77262855]\n",
      " [0.81060191]\n",
      " [0.02211272]\n",
      " [0.0949868 ]\n",
      " [0.49733327]\n",
      " [0.83714474]\n",
      " [0.00649966]\n",
      " [0.8959072 ]\n",
      " [0.01612029]\n",
      " [0.50184618]\n",
      " [0.34532982]\n",
      " [0.21628138]\n",
      " [0.36280382]\n",
      " [0.61628338]\n",
      " [0.30571667]\n",
      " [0.45987742]\n",
      " [0.31146248]\n",
      " [0.02860805]\n",
      " [0.04177493]\n",
      " [0.64424516]\n",
      " [0.76848098]\n",
      " [0.32281089]\n",
      " [0.87835818]\n",
      " [0.35328379]\n",
      " [0.96093597]\n",
      " [0.56533387]\n",
      " [0.76073089]\n",
      " [0.3183909 ]\n",
      " [0.46865801]\n",
      " [0.46503652]\n",
      " [0.15599404]\n",
      " [0.02922238]\n",
      " [0.36430843]\n",
      " [0.69458084]\n",
      " [0.9194777 ]\n",
      " [0.42928157]\n",
      " [0.84908662]\n",
      " [0.0204225 ]\n",
      " [0.59234561]\n",
      " [0.37459987]\n",
      " [0.53497295]\n",
      " [0.59792135]\n",
      " [0.30049616]\n",
      " [0.39262956]\n",
      " [0.20825803]\n",
      " [0.1669308 ]\n",
      " [0.55226726]\n",
      " [0.61094562]\n",
      " [0.15161922]\n",
      " [0.23312624]\n",
      " [0.54728582]\n",
      " [0.60164733]\n",
      " [0.01659135]\n",
      " [0.65274793]\n",
      " [0.78948918]\n",
      " [0.85808325]\n",
      " [0.57188926]\n",
      " [0.15191904]\n",
      " [0.42081706]\n",
      " [0.83729867]\n",
      " [0.2983206 ]\n",
      " [0.6280385 ]\n",
      " [0.22187904]\n",
      " [0.78362297]\n",
      " [0.768003  ]\n",
      " [0.48706074]\n",
      " [0.22986997]\n",
      " [0.56024244]\n",
      " [0.54818204]\n",
      " [0.94635505]\n",
      " [0.57274079]\n",
      " [0.71590342]\n",
      " [0.00690238]\n",
      " [0.92628851]\n",
      " [0.41679331]\n",
      " [0.33425973]\n",
      " [0.51211922]\n",
      " [0.94573013]\n",
      " [0.9163167 ]\n",
      " [0.33609475]\n",
      " [0.98233175]\n",
      " [0.94284164]\n",
      " [0.11604274]\n",
      " [0.66152045]\n",
      " [0.27501395]\n",
      " [0.61781804]\n",
      " [0.86333067]\n",
      " [0.02624468]\n",
      " [0.78171032]\n",
      " [0.24732271]\n",
      " [0.94006767]\n",
      " [0.62338564]\n",
      " [0.64369788]\n",
      " [0.56337817]\n",
      " [0.7372025 ]\n",
      " [0.56304212]\n",
      " [0.57834045]\n",
      " [0.06540894]\n",
      " [0.67110707]\n",
      " [0.73398197]\n",
      " [0.65745346]\n",
      " [0.48408061]\n",
      " [0.70830809]\n",
      " [0.8502525 ]\n",
      " [0.58697585]\n",
      " [0.61455743]\n",
      " [0.83820683]\n",
      " [0.86093836]\n",
      " [0.00835766]\n",
      " [0.89117415]\n",
      " [0.79280951]\n",
      " [0.80615945]\n",
      " [0.2950199 ]\n",
      " [0.98438914]\n",
      " [0.36547879]\n",
      " [0.66512521]\n",
      " [0.36026809]\n",
      " [0.3285747 ]\n",
      " [0.93757516]\n",
      " [0.95239499]\n",
      " [0.00502465]\n",
      " [0.64411509]\n",
      " [0.76615119]\n",
      " [0.38567754]\n",
      " [0.17890283]\n",
      " [0.87724968]\n",
      " [0.90898515]\n",
      " [0.57197459]\n",
      " [0.16055519]\n",
      " [0.92933769]\n",
      " [0.03062782]\n",
      " [0.08130158]\n",
      " [0.99505267]\n",
      " [0.40558047]\n",
      " [0.97013106]\n",
      " [0.35791476]\n",
      " [0.80204027]\n",
      " [0.01098202]\n",
      " [0.6292562 ]\n",
      " [0.6845476 ]\n",
      " [0.95400438]\n",
      " [0.65230372]\n",
      " [0.04010343]\n",
      " [0.665405  ]\n",
      " [0.817328  ]\n",
      " [0.03801838]\n",
      " [0.47458609]\n",
      " [0.52962313]\n",
      " [0.91069689]\n",
      " [0.06616385]\n",
      " [0.6386936 ]\n",
      " [0.5927676 ]\n",
      " [0.89496723]\n",
      " [0.96204401]\n",
      " [0.6064047 ]\n",
      " [0.78722661]\n",
      " [0.91857043]\n",
      " [0.44935395]\n",
      " [0.99465305]\n",
      " [0.43010344]\n",
      " [0.55415444]\n",
      " [0.33459758]\n",
      " [0.88479527]\n",
      " [0.85788388]\n",
      " [0.38627824]\n",
      " [0.59194888]\n",
      " [0.00753779]\n",
      " [0.68401992]\n",
      " [0.24085   ]\n",
      " [0.52188958]\n",
      " [0.47843544]\n",
      " [0.93864077]\n",
      " [0.76936615]\n",
      " [0.40159732]\n",
      " [0.84381157]\n",
      " [0.86301264]\n",
      " [0.0330674 ]\n",
      " [0.31092051]\n",
      " [0.87615731]\n",
      " [0.45540467]\n",
      " [0.55140378]\n",
      " [0.09565993]\n",
      " [0.27281152]\n",
      " [0.93287172]\n",
      " [0.53924812]\n",
      " [0.45401255]\n",
      " [0.97269409]\n",
      " [0.06414615]\n",
      " [0.48912298]\n",
      " [0.09783376]\n",
      " [0.96772975]\n",
      " [0.08911611]\n",
      " [0.09977733]\n",
      " [0.80315395]\n",
      " [0.10211507]\n",
      " [0.82439184]\n",
      " [0.36515393]\n",
      " [0.00924328]\n",
      " [0.09333391]\n",
      " [0.85112469]\n",
      " [0.49906079]\n",
      " [0.65277807]\n",
      " [0.71955843]\n",
      " [0.40354483]\n",
      " [0.54075506]\n",
      " [0.6713981 ]\n",
      " [0.82077593]\n",
      " [0.96862699]\n",
      " [0.48092289]\n",
      " [0.93381117]\n",
      " [0.28059907]\n",
      " [0.07264862]\n",
      " [0.99083445]\n",
      " [0.45392492]\n",
      " [0.46842099]\n",
      " [0.56128446]\n",
      " [0.99103106]\n",
      " [0.49241217]\n",
      " [0.97501286]\n",
      " [0.15108227]\n",
      " [0.08950788]\n",
      " [0.0441969 ]\n",
      " [0.81590073]\n",
      " [0.56130414]\n",
      " [0.52261027]\n",
      " [0.27921163]\n",
      " [0.84510084]\n",
      " [0.98815195]\n",
      " [0.66877785]\n",
      " [0.26009303]\n",
      " [0.25946471]\n",
      " [0.70167019]\n",
      " [0.00626755]\n",
      " [0.79170517]\n",
      " [0.85994779]\n",
      " [0.45481259]\n",
      " [0.81975605]\n",
      " [0.61344363]\n",
      " [0.47734311]\n",
      " [0.40270656]\n",
      " [0.27279595]\n",
      " [0.03955526]\n",
      " [0.04960305]\n",
      " [0.04990266]\n",
      " [0.30913077]\n",
      " [0.36079471]\n",
      " [0.97594918]\n",
      " [0.8135236 ]\n",
      " [0.70942343]\n",
      " [0.39827407]\n",
      " [0.65336089]\n",
      " [0.23329831]\n",
      " [0.07818589]\n",
      " [0.96856407]\n",
      " [0.93493336]\n",
      " [0.14927221]\n",
      " [0.22982269]\n",
      " [0.62649263]\n",
      " [0.50031769]\n",
      " [0.02117105]\n",
      " [0.0277164 ]\n",
      " [0.38049766]\n",
      " [0.24811409]\n",
      " [0.20416206]\n",
      " [0.53285918]\n",
      " [0.5010642 ]\n",
      " [0.01433672]\n",
      " [0.72814374]\n",
      " [0.66694377]\n",
      " [0.36958762]\n",
      " [0.9910789 ]\n",
      " [0.00967564]\n",
      " [0.63145091]\n",
      " [0.46421306]\n",
      " [0.26703502]\n",
      " [0.47821569]\n",
      " [0.82538241]\n",
      " [0.50229907]\n",
      " [0.302201  ]\n",
      " [0.95305641]\n",
      " [0.52925548]\n",
      " [0.53019409]\n",
      " [0.0724905 ]\n",
      " [0.5577034 ]\n",
      " [0.99170753]\n",
      " [0.11468721]\n",
      " [0.69307744]\n",
      " [0.00543696]\n",
      " [0.42521801]\n",
      " [0.37656558]\n",
      " [0.04780388]\n",
      " [0.61734672]\n",
      " [0.3231256 ]\n",
      " [0.88037287]\n",
      " [0.6673949 ]\n",
      " [0.64359572]\n",
      " [0.71928507]\n",
      " [0.01083557]\n",
      " [0.00300356]\n",
      " [0.18383118]\n",
      " [0.41649678]\n",
      " [0.32257421]\n",
      " [0.38342055]\n",
      " [0.21154046]\n",
      " [0.60244835]\n",
      " [0.17927309]\n",
      " [0.9546632 ]\n",
      " [0.61653387]\n",
      " [0.40561009]\n",
      " [0.65818447]\n",
      " [0.00810029]\n",
      " [0.20716654]\n",
      " [0.96853013]\n",
      " [0.75774346]\n",
      " [0.54880379]\n",
      " [0.66558677]\n",
      " [0.86071271]\n",
      " [0.33469766]\n",
      " [0.64052721]\n",
      " [0.66026779]\n",
      " [0.00336392]\n",
      " [0.68116445]\n",
      " [0.17572286]\n",
      " [0.44506268]\n",
      " [0.56430393]\n",
      " [0.50138928]\n",
      " [0.49332201]\n",
      " [0.27386683]\n",
      " [0.36260049]\n",
      " [0.5236318 ]\n",
      " [0.42347041]\n",
      " [0.01141176]\n",
      " [0.71874152]\n",
      " [0.08961696]\n",
      " [0.85547661]\n",
      " [0.538738  ]\n",
      " [0.35437554]\n",
      " [0.09852452]\n",
      " [0.72953426]\n",
      " [0.54215865]\n",
      " [0.11535432]\n",
      " [0.91032505]\n",
      " [0.2527466 ]\n",
      " [0.01188968]\n",
      " [0.40818471]\n",
      " [0.16616682]\n",
      " [0.05666576]\n",
      " [0.92016597]\n",
      " [0.22763975]\n",
      " [0.31909355]\n",
      " [0.31450391]\n",
      " [0.46428906]\n",
      " [0.74078808]\n",
      " [0.63167972]\n",
      " [0.62767001]\n",
      " [0.37179598]\n",
      " [0.03055606]\n",
      " [0.01984931]\n",
      " [0.46397513]\n",
      " [0.59188322]\n",
      " [0.3441047 ]\n",
      " [0.17042749]\n",
      " [0.08292636]\n",
      " [0.85101129]\n",
      " [0.65271246]\n",
      " [0.54248052]\n",
      " [0.45249519]\n",
      " [0.75804303]\n",
      " [0.58943582]\n",
      " [0.53085201]\n",
      " [0.98916759]\n",
      " [0.81838732]\n",
      " [0.76897903]\n",
      " [0.99502659]\n",
      " [0.61540971]\n",
      " [0.47569035]\n",
      " [0.3889159 ]\n",
      " [0.08649744]\n",
      " [0.64413805]\n",
      " [0.8696334 ]\n",
      " [0.91629322]\n",
      " [0.5430063 ]\n",
      " [0.84155885]\n",
      " [0.94018938]\n",
      " [0.48909854]\n",
      " [0.55950505]\n",
      " [0.03138002]\n",
      " [0.35894901]\n",
      " [0.53238616]\n",
      " [0.88717367]\n",
      " [0.30308773]\n",
      " [0.5907821 ]\n",
      " [0.50359551]\n",
      " [0.5780345 ]\n",
      " [0.96426572]\n",
      " [0.03316905]\n",
      " [0.50206412]\n",
      " [0.68023293]\n",
      " [0.26185572]\n",
      " [0.17057735]\n",
      " [0.92106977]\n",
      " [0.97252826]\n",
      " [0.89383058]\n",
      " [0.75922657]\n",
      " [0.20824515]\n",
      " [0.8799214 ]\n",
      " [0.80776199]\n",
      " [0.71001279]\n",
      " [0.68134858]\n",
      " [0.61652089]\n",
      " [0.36437896]\n",
      " [0.00584069]\n",
      " [0.04972636]\n",
      " [0.50803198]\n",
      " [0.19885805]\n",
      " [0.6873808 ]\n",
      " [0.42268946]\n",
      " [0.04938152]\n",
      " [0.08909075]\n",
      " [0.98067633]\n",
      " [0.07769429]\n",
      " [0.07338514]\n",
      " [0.9817222 ]\n",
      " [0.04602758]\n",
      " [0.30426431]\n",
      " [0.64466887]\n",
      " [0.97337623]\n",
      " [0.38023847]\n",
      " [0.04177763]\n",
      " [0.05749312]\n",
      " [0.09105908]\n",
      " [0.85962533]\n",
      " [0.91566597]\n",
      " [0.44374141]\n",
      " [0.97188062]\n",
      " [0.08375101]\n",
      " [0.93101092]\n",
      " [0.30467438]\n",
      " [0.31979745]\n",
      " [0.76445633]\n",
      " [0.96578879]\n",
      " [0.89293665]\n",
      " [0.17414958]\n",
      " [0.84302935]\n",
      " [0.50368892]\n",
      " [0.82283157]\n",
      " [0.73034195]\n",
      " [0.27329118]\n",
      " [0.34786326]\n",
      " [0.65397164]\n",
      " [0.28579766]\n",
      " [0.26353703]\n",
      " [0.00588982]\n",
      " [0.20701322]\n",
      " [0.34877902]\n",
      " [0.00294609]\n",
      " [0.55775158]\n",
      " [0.84778447]\n",
      " [0.04230257]\n",
      " [0.78090196]\n",
      " [0.55164093]\n",
      " [0.00400866]\n",
      " [0.33923666]\n",
      " [0.47104934]\n",
      " [0.14971744]\n",
      " [0.26131045]\n",
      " [0.97519366]\n",
      " [0.6845426 ]\n",
      " [0.18821807]\n",
      " [0.0146781 ]\n",
      " [0.58076646]\n",
      " [0.35518301]\n",
      " [0.91397187]\n",
      " [0.09322443]\n",
      " [0.35241089]\n",
      " [0.37625681]\n",
      " [0.53654663]\n",
      " [0.53699752]\n",
      " [0.72046459]\n",
      " [0.60670373]\n",
      " [0.13699993]\n",
      " [0.47089354]\n",
      " [0.61085897]\n",
      " [0.28302139]\n",
      " [0.94062591]\n",
      " [0.60368715]\n",
      " [0.51353761]\n",
      " [0.68357658]\n",
      " [0.67420514]\n",
      " [0.02937277]\n",
      " [0.52067303]\n",
      " [0.10878916]\n",
      " [0.57178077]\n",
      " [0.84447244]\n",
      " [0.93110091]\n",
      " [0.81892744]\n",
      " [0.84489063]\n",
      " [0.07020447]\n",
      " [0.19591752]\n",
      " [0.58191184]\n",
      " [0.98196061]\n",
      " [0.87334676]\n",
      " [0.39641635]\n",
      " [0.30682089]\n",
      " [0.83460852]\n",
      " [0.17746633]\n",
      " [0.40393132]\n",
      " [0.5676734 ]\n",
      " [0.59003444]\n",
      " [0.11755685]\n",
      " [0.49506585]\n",
      " [0.45714898]\n",
      " [0.7592507 ]\n",
      " [0.50855407]\n",
      " [0.31008483]\n",
      " [0.23636693]\n",
      " [0.88075651]\n",
      " [0.56432267]\n",
      " [0.22489443]\n",
      " [0.98460518]\n",
      " [0.87696382]\n",
      " [0.7121468 ]\n",
      " [0.79780054]\n",
      " [0.89947972]\n",
      " [0.16241567]\n",
      " [0.03875893]\n",
      " [0.48212874]\n",
      " [0.92151825]\n",
      " [0.54028399]\n",
      " [0.38396988]\n",
      " [0.87960625]\n",
      " [0.61544254]\n",
      " [0.96255405]\n",
      " [0.6467987 ]\n",
      " [0.97808739]\n",
      " [0.68324444]\n",
      " [0.98448621]\n",
      " [0.74304944]\n",
      " [0.85517523]\n",
      " [0.63032447]\n",
      " [0.73519143]\n",
      " [0.5258103 ]\n",
      " [0.63533425]\n",
      " [0.02060039]\n",
      " [0.77462867]\n",
      " [0.24286352]\n",
      " [0.81663197]\n",
      " [0.11116778]\n",
      " [0.44588405]\n",
      " [0.12822004]\n",
      " [0.33240589]\n",
      " [0.37250179]\n",
      " [0.27578003]\n",
      " [0.07175361]\n",
      " [0.44229384]\n",
      " [0.23867767]\n",
      " [0.4249672 ]\n",
      " [0.11801079]\n",
      " [0.39153026]\n",
      " [0.07691441]\n",
      " [0.00510475]\n",
      " [0.37390553]\n",
      " [0.95369448]\n",
      " [0.97348099]\n",
      " [0.27655487]\n",
      " [0.01189849]\n",
      " [0.51799898]\n",
      " [0.55310198]\n",
      " [0.0111301 ]\n",
      " [0.61953205]\n",
      " [0.69415475]\n",
      " [0.49505577]\n",
      " [0.39243151]\n",
      " [0.57664069]\n",
      " [0.62955482]\n",
      " [0.70285964]\n",
      " [0.43771006]\n",
      " [0.50686323]\n",
      " [0.39733887]\n",
      " [0.37942939]\n",
      " [0.14997497]\n",
      " [0.38517203]\n",
      " [0.10414237]\n",
      " [0.65266509]\n",
      " [0.0103989 ]\n",
      " [0.97806877]\n",
      " [0.57702019]\n",
      " [0.29819551]\n",
      " [0.34734073]\n",
      " [0.66413723]\n",
      " [0.43084482]\n",
      " [0.52427   ]\n",
      " [0.94240054]\n",
      " [0.54924325]\n",
      " [0.73848312]\n",
      " [0.38598132]\n",
      " [0.37014112]\n",
      " [0.10603218]\n",
      " [0.49479301]\n",
      " [0.97617833]\n",
      " [0.28467321]\n",
      " [0.02224392]\n",
      " [0.53591577]\n",
      " [0.57980969]\n",
      " [0.44245756]\n",
      " [0.01374585]\n",
      " [0.00361189]\n",
      " [0.80924249]\n",
      " [0.94270654]\n",
      " [0.01299445]\n",
      " [0.94974635]\n",
      " [0.96389322]\n",
      " [0.85624841]\n",
      " [0.16081922]\n",
      " [0.34372641]\n",
      " [0.46805792]\n",
      " [0.91332608]\n",
      " [0.88957846]\n",
      " [0.41060897]\n",
      " [0.50646339]\n",
      " [0.93767128]\n",
      " [0.14878389]\n",
      " [0.87171503]\n",
      " [0.00529537]\n",
      " [0.55724477]\n",
      " [0.51757458]\n",
      " [0.69376645]\n",
      " [0.42354519]\n",
      " [0.3775012 ]\n",
      " [0.60107991]\n",
      " [0.72058547]\n",
      " [0.25066226]\n",
      " [0.79635446]\n",
      " [0.02638145]\n",
      " [0.49659657]\n",
      " [0.92450459]\n",
      " [0.87840731]\n",
      " [0.56292131]\n",
      " [0.73752089]\n",
      " [0.77310641]\n",
      " [0.96074601]\n",
      " [0.56840501]\n",
      " [0.11434145]\n",
      " [0.98352118]\n",
      " [0.95339718]\n",
      " [0.24542683]\n",
      " [0.94914794]\n",
      " [0.5056622 ]\n",
      " [0.95816425]\n",
      " [0.41993451]\n",
      " [0.52269226]\n",
      " [0.16892653]\n",
      " [0.88473302]\n",
      " [0.40806229]\n",
      " [0.74500974]\n",
      " [0.83022595]\n",
      " [0.31967528]\n",
      " [0.68167181]\n",
      " [0.58153427]\n",
      " [0.14723919]\n",
      " [0.95448276]\n",
      " [0.70579483]\n",
      " [0.47553102]\n",
      " [0.61167214]\n",
      " [0.5492114 ]\n",
      " [0.02042911]\n",
      " [0.68060409]\n",
      " [0.44314007]\n",
      " [0.923651  ]\n",
      " [0.04259641]\n",
      " [0.82537168]\n",
      " [0.61707837]\n",
      " [0.530321  ]\n",
      " [0.46038697]\n",
      " [0.86179875]\n",
      " [0.99037164]\n",
      " [0.38527943]\n",
      " [0.04120082]\n",
      " [0.97575362]\n",
      " [0.6002362 ]\n",
      " [0.48505681]\n",
      " [0.0044982 ]\n",
      " [0.62318911]\n",
      " [0.62427674]\n",
      " [0.08340447]\n",
      " [0.83912494]\n",
      " [0.05967891]\n",
      " [0.41490751]\n",
      " [0.21802207]\n",
      " [0.02865213]\n",
      " [0.47795966]\n",
      " [0.69465989]\n",
      " [0.0712755 ]\n",
      " [0.65145785]\n",
      " [0.76142196]\n",
      " [0.31776   ]\n",
      " [0.81469953]\n",
      " [0.59634464]\n",
      " [0.42454234]\n",
      " [0.81820047]\n",
      " [0.68194265]\n",
      " [0.01954135]\n",
      " [0.57939412]\n",
      " [0.54603306]\n",
      " [0.36758011]\n",
      " [0.16471842]\n",
      " [0.75012996]\n",
      " [0.43625909]\n",
      " [0.67195915]\n",
      " [0.03703336]\n",
      " [0.83785065]\n",
      " [0.63440067]\n",
      " [0.19482787]\n",
      " [0.97392213]\n",
      " [0.37955904]\n",
      " [0.18075308]\n",
      " [0.87481277]\n",
      " [0.05172854]\n",
      " [0.75972188]\n",
      " [0.76834592]\n",
      " [0.4005812 ]\n",
      " [0.73829822]\n",
      " [0.94445554]\n",
      " [0.93442585]\n",
      " [0.0093373 ]\n",
      " [0.94828301]\n",
      " [0.01496916]\n",
      " [0.23720936]\n",
      " [0.90622841]\n",
      " [0.01451259]\n",
      " [0.85265143]\n",
      " [0.69355687]\n",
      " [0.94302972]\n",
      " [0.42442667]\n",
      " [0.70794541]\n",
      " [0.15423398]\n",
      " [0.44211067]\n",
      " [0.39134335]\n",
      " [0.52751895]\n",
      " [0.48012218]\n",
      " [0.384569  ]\n",
      " [0.24491152]\n",
      " [0.53821888]\n",
      " [0.12734716]\n",
      " [0.75713129]\n",
      " [0.95802101]\n",
      " [0.77108379]\n",
      " [0.31991173]\n",
      " [0.7680742 ]\n",
      " [0.17673297]\n",
      " [0.20850429]\n",
      " [0.45329784]\n",
      " [0.98912924]\n",
      " [0.81177127]\n",
      " [0.55488882]\n",
      " [0.58635185]\n",
      " [0.05573368]\n",
      " [0.50996162]\n",
      " [0.43609146]\n",
      " [0.02107498]\n",
      " [0.5295493 ]\n",
      " [0.40349102]\n",
      " [0.49909636]\n",
      " [0.23493109]\n",
      " [0.56179748]\n",
      " [0.71650651]\n",
      " [0.44237379]\n",
      " [0.24493049]\n",
      " [0.85966485]\n",
      " [0.58662153]\n",
      " [0.46894329]\n",
      " [0.48878689]\n",
      " [0.59729533]\n",
      " [0.60331164]\n",
      " [0.97277342]\n",
      " [0.95333172]\n",
      " [0.10986936]\n",
      " [0.6053641 ]\n",
      " [0.76974822]\n",
      " [0.62003224]\n",
      " [0.91684242]\n",
      " [0.94778842]\n",
      " [0.53335383]\n",
      " [0.76885425]\n",
      " [0.20064542]\n",
      " [0.86441459]\n",
      " [0.02836609]\n",
      " [0.69901524]\n",
      " [0.01970047]\n",
      " [0.52754501]\n",
      " [0.22866441]\n",
      " [0.83532778]\n",
      " [0.28448961]\n",
      " [0.79070358]\n",
      " [0.8953343 ]\n",
      " [0.70007805]\n",
      " [0.91108559]\n",
      " [0.86927192]\n",
      " [0.53939043]\n",
      " [0.18642795]\n",
      " [0.22365975]]\n"
     ]
    }
   ],
   "source": [
    "fraction_of_positives, mean_predicted_value = calibrate_curve(dgp2_ard, predict_prob, x_test, y_test)"
   ]
  },
  {
   "cell_type": "code",
   "execution_count": 27,
   "metadata": {},
   "outputs": [
    {
     "data": {
      "text/plain": [
       "array([0.02813027, 0.09872544, 0.16651292, 0.2332448 , 0.30019248,\n",
       "       0.36752726, 0.43468527, 0.5011471 , 0.56508981, 0.6324327 ,\n",
       "       0.69941018, 0.76656469, 0.83388092, 0.90073409, 0.96840414])"
      ]
     },
     "execution_count": 27,
     "metadata": {},
     "output_type": "execute_result"
    }
   ],
   "source": [
    "mean_predicted_value"
   ]
  },
  {
   "cell_type": "code",
   "execution_count": 28,
   "metadata": {},
   "outputs": [
    {
     "data": {
      "text/plain": [
       "array([0.02420892, 0.09629126, 0.15894569, 0.20293998, 0.26957538,\n",
       "       0.31960179, 0.39651609, 0.48854782, 0.59923573, 0.67430536,\n",
       "       0.72819672, 0.79225352, 0.85667515, 0.92265549, 0.97235023])"
      ]
     },
     "execution_count": 28,
     "metadata": {},
     "output_type": "execute_result"
    }
   ],
   "source": [
    "fraction_of_positives"
   ]
  },
  {
   "cell_type": "code",
   "execution_count": 29,
   "metadata": {},
   "outputs": [
    {
     "data": {
      "image/png": "[encoded data removed]",
      "text/plain": [
       "<Figure size 360x360 with 1 Axes>"
      ]
     },
     "metadata": {},
     "output_type": "display_data"
    }
   ],
   "source": [
    "plt.figure(figsize=(5,5))\n",
    "plt.plot(mean_predicted_value, fraction_of_positives,'s-',\n",
    "             label=\"DGP2\")\n",
    "plt.plot(mean_predicted_value_m, fraction_of_positives_m,'s-',\n",
    "             label=\"SGP\")\n",
    "plt.legend()\n",
    "plt.xlim(0,1)\n",
    "plt.ylim(0,1)\n",
    "plt.plot(plt.xlim(), plt.ylim(), ls=\"--\", c=\".3\")\n",
    "plt.xlabel(\"Mean Predicted Probability of Positive\")\n",
    "plt.ylabel(\"Fraction of True Positive\")\n",
    "plt.show()"
   ]
  },
  {
   "cell_type": "code",
   "execution_count": 21,
   "metadata": {},
   "outputs": [],
   "source": [
    "def batch_assess(model, assess_model, X, Y):\n",
    "    n_batches = max(int(len(X)/1000), 1)\n",
    "    lik, acc = [], []\n",
    "    for X_batch, Y_batch in zip(np.split(X, n_batches), np.split(Y, n_batches)):\n",
    "        l, a = assess_model(model, X_batch, Y_batch)\n",
    "        lik.append(l)\n",
    "        acc.append(a)\n",
    "    lik = np.concatenate(lik, 0)\n",
    "    acc = np.array(np.concatenate(acc, 0), dtype=float)\n",
    "    return np.average(lik), np.average(acc)"
   ]
  },
  {
   "cell_type": "markdown",
   "metadata": {},
   "source": [
    "## SGP"
   ]
  },
  {
   "cell_type": "code",
   "execution_count": 44,
   "metadata": {},
   "outputs": [
    {
     "name": "stdout",
     "output_type": "stream",
     "text": [
      "sgp test lik: -0.6585, test acc 0.7249\n"
     ]
    }
   ],
   "source": [
    "l, a = batch_assess(m, assess_model_sgp, x_test, y_test)\n",
    "print('sgp test lik: {:.4f}, test acc {:.4f}'.format(l, a))"
   ]
  },
  {
   "cell_type": "code",
   "execution_count": 169,
   "metadata": {},
   "outputs": [
    {
     "name": "stdout",
     "output_type": "stream",
     "text": [
      "sgp test lik: -0.6541, test acc 0.7287\n"
     ]
    }
   ],
   "source": [
    "l, a = batch_assess(m_500, assess_model_sgp, x_test, y_test)\n",
    "print('sgp test lik: {:.4f}, test acc {:.4f}'.format(l, a))"
   ]
  },
  {
   "cell_type": "markdown",
   "metadata": {},
   "source": [
    "## DGP using Adam"
   ]
  },
  {
   "cell_type": "code",
   "execution_count": 115,
   "metadata": {
    "scrolled": true
   },
   "outputs": [
    {
     "name": "stdout",
     "output_type": "stream",
     "text": [
      "dgp2 test lik: -0.4817, test acc 0.7674\n"
     ]
    }
   ],
   "source": [
    "l, a = batch_assess(dgp2, assess_model_dgp, x_test, y_test)\n",
    "print('dgp2 test lik: {:.4f}, test acc {:.4f}'.format(l, a))"
   ]
  },
  {
   "cell_type": "code",
   "execution_count": 146,
   "metadata": {},
   "outputs": [
    {
     "name": "stdout",
     "output_type": "stream",
     "text": [
      "dgp3_adam test lik: -0.4643, test acc 0.7747\n"
     ]
    }
   ],
   "source": [
    "l, a = batch_assess(dgp3_adam, assess_model_dgp, x_test, y_test)\n",
    "print('dgp3_adam test lik: {:.4f}, test acc {:.4f}'.format(l, a))"
   ]
  },
  {
   "cell_type": "code",
   "execution_count": 22,
   "metadata": {},
   "outputs": [
    {
     "name": "stdout",
     "output_type": "stream",
     "text": [
      "dgp3_adam test lik: -0.6931, test acc 0.5184\n"
     ]
    }
   ],
   "source": [
    "l, a = batch_assess(dgp3, assess_model_dgp, x_test, y_test)\n",
    "print('dgp3_adam test lik: {:.4f}, test acc {:.4f}'.format(l, a))"
   ]
  },
  {
   "cell_type": "code",
   "execution_count": 150,
   "metadata": {},
   "outputs": [
    {
     "name": "stdout",
     "output_type": "stream",
     "text": [
      "dgp4 test lik: -0.4650, test acc 0.7766\n"
     ]
    }
   ],
   "source": [
    "l, a = batch_assess(dgp4_adam, assess_model_dgp, x_test, y_test)\n",
    "print('dgp4 test lik: {:.4f}, test acc {:.4f}'.format(l, a))"
   ]
  },
  {
   "cell_type": "markdown",
   "metadata": {},
   "source": [
    "## DGP using NatGrad"
   ]
  },
  {
   "cell_type": "code",
   "execution_count": 100,
   "metadata": {},
   "outputs": [
    {
     "name": "stdout",
     "output_type": "stream",
     "text": [
      "dgp3 test lik: -0.4795, test acc 0.7698\n"
     ]
    }
   ],
   "source": [
    "l, a = batch_assess(dgp3, assess_model_dgp, x_test, y_test)\n",
    "print('dgp3 test lik: {:.4f}, test acc {:.4f}'.format(l, a))"
   ]
  },
  {
   "cell_type": "code",
   "execution_count": 108,
   "metadata": {},
   "outputs": [
    {
     "name": "stdout",
     "output_type": "stream",
     "text": [
      "dgp3_50 test lik: -0.4815, test acc 0.7682\n"
     ]
    }
   ],
   "source": [
    "l, a = batch_assess(dgp3_50, assess_model_dgp, x_test, y_test)\n",
    "print('dgp3_50 test lik: {:.4f}, test acc {:.4f}'.format(l, a))"
   ]
  },
  {
   "cell_type": "code",
   "execution_count": 95,
   "metadata": {},
   "outputs": [
    {
     "name": "stdout",
     "output_type": "stream",
     "text": [
      "dgp4 test lik: -0.4809, test acc 0.7692\n"
     ]
    }
   ],
   "source": [
    "l, a = batch_assess(dgp4, assess_model_dgp, x_test, y_test)\n",
    "print('dgp4 test lik: {:.4f}, test acc {:.4f}'.format(l, a))"
   ]
  },
  {
   "cell_type": "markdown",
   "metadata": {},
   "source": [
    "## DGP ARD"
   ]
  },
  {
   "cell_type": "code",
   "execution_count": 187,
   "metadata": {},
   "outputs": [
    {
     "name": "stdout",
     "output_type": "stream",
     "text": [
      "dgp2_ard test lik: -0.4646, test acc 0.7751\n"
     ]
    }
   ],
   "source": [
    "l, a = batch_assess(dgp2_ard, assess_model_dgp, x_test, y_test)\n",
    "print('dgp2_ard test lik: {:.4f}, test acc {:.4f}'.format(l, a))"
   ]
  },
  {
   "cell_type": "code",
   "execution_count": 43,
   "metadata": {},
   "outputs": [
    {
     "name": "stdout",
     "output_type": "stream",
     "text": [
      "dgp3_ard test lik: -0.4620, test acc 0.7748\n"
     ]
    }
   ],
   "source": [
    "l, a = batch_assess(dgp3_ard, assess_model_dgp, x_test, y_test)\n",
    "print('dgp3_ard test lik: {:.4f}, test acc {:.4f}'.format(l, a))"
   ]
  },
  {
   "cell_type": "code",
   "execution_count": 35,
   "metadata": {},
   "outputs": [
    {
     "name": "stdout",
     "output_type": "stream",
     "text": [
      "dgp3_ard_natgrad test lik: -0.4666, test acc 0.7729\n"
     ]
    }
   ],
   "source": [
    "l, a = batch_assess(dgp3_ard, assess_model_dgp, x_test, y_test)\n",
    "print('dgp3_ard_natgrad test lik: {:.4f}, test acc {:.4f}'.format(l, a))"
   ]
  },
  {
   "cell_type": "code",
   "execution_count": null,
   "metadata": {},
   "outputs": [],
   "source": []
  }
 ],
 "metadata": {
  "kernelspec": {
   "display_name": "Python 3",
   "language": "python",
   "name": "python3"
  }
 },
 "nbformat": 4,
 "nbformat_minor": 2
}
