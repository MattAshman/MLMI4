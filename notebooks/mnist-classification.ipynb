{
 "cells": [
  {
   "cell_type": "code",
   "execution_count": 1,
   "metadata": {},
   "outputs": [],
   "source": [
    "%matplotlib inline\n",
    "import itertools\n",
    "import numpy as np\n",
    "import numpy.random as rnd\n",
    "import time\n",
    "import gpflow\n",
    "import tensorflow as tf\n",
    "import matplotlib\n",
    "import matplotlib.pyplot as plt\n",
    "from gpflow.ci_utils import ci_niter\n",
    "plt.style.use('ggplot')"
   ]
  },
  {
   "cell_type": "code",
   "execution_count": 2,
   "metadata": {},
   "outputs": [],
   "source": [
    "import sys\n",
    "sys.path.append('../code')\n",
    "from dgp import DGP\n",
    "\n",
    "gpflow.config.set_default_summary_fmt('notebook')\n",
    "np.random.seed(0)\n",
    "tf.random.set_seed(0)"
   ]
  },
  {
   "cell_type": "markdown",
   "metadata": {},
   "source": [
    "## Load data"
   ]
  },
  {
   "cell_type": "code",
   "execution_count": 3,
   "metadata": {},
   "outputs": [],
   "source": [
    "mnist = tf.keras.datasets.mnist\n",
    "\n",
    "(x_train, y_train), (x_test, y_test) = mnist.load_data()\n",
    "x_train, x_test = x_train / 255.0, x_test / 255.0\n",
    "x_train = np.reshape(x_train,(x_train.shape[0],-1))\n",
    "x_test = np.reshape(x_test,(x_test.shape[0],-1))"
   ]
  },
  {
   "cell_type": "code",
   "execution_count": 4,
   "metadata": {},
   "outputs": [],
   "source": [
    "y_train = np.reshape(y_train,(-1,1))\n",
    "y_test = np.reshape(y_test,(-1,1))"
   ]
  },
  {
   "cell_type": "code",
   "execution_count": 5,
   "metadata": {},
   "outputs": [],
   "source": [
    "minibatch_size = 1000\n",
    "train_ds = tf.data.Dataset.from_tensor_slices((x_train, y_train)).repeat().shuffle(10000)\n",
    "#test_ds = tf.data.Dataset.from_tensor_slices((x_test, y_test))"
   ]
  },
  {
   "cell_type": "code",
   "execution_count": 6,
   "metadata": {},
   "outputs": [],
   "source": [
    "N = x_train.shape[0]\n",
    "D = x_train.shape[1]"
   ]
  },
  {
   "cell_type": "markdown",
   "metadata": {},
   "source": [
    "## Define SVGP and DGP model"
   ]
  },
  {
   "cell_type": "code",
   "execution_count": 7,
   "metadata": {},
   "outputs": [],
   "source": [
    "from scipy.stats import mode\n",
    "from scipy.cluster.vq import kmeans2"
   ]
  },
  {
   "cell_type": "code",
   "execution_count": 8,
   "metadata": {},
   "outputs": [],
   "source": [
    "# number of inducing points\n",
    "M = 100\n",
    "Z = kmeans2(x_train,M,minit='points')[0]"
   ]
  },
  {
   "cell_type": "code",
   "execution_count": 9,
   "metadata": {},
   "outputs": [],
   "source": [
    "invlink = gpflow.likelihoods.RobustMax(10)  # Robustmax inverse link function\n",
    "likelihood = gpflow.likelihoods.MultiClass(10, invlink=invlink)  # Multiclass likelihood\n",
    "kernel = gpflow.kernels.SquaredExponential()\n",
    "\n",
    "m = gpflow.models.SVGP(kernel=kernel, likelihood=likelihood,\n",
    "    inducing_variable=Z, num_latent=10, whiten=True, q_diag=True)"
   ]
  },
  {
   "cell_type": "code",
   "execution_count": 10,
   "metadata": {},
   "outputs": [],
   "source": [
    "def make_DGP(L):\n",
    "    kernels = []\n",
    "    for l in range(L):\n",
    "        k = gpflow.kernels.SquaredExponential()\n",
    "        kernels.append(k)\n",
    "    dims = [784,]\n",
    "    for l in range(L-1):\n",
    "        dims.append(30)\n",
    "    dims.append(10)\n",
    "        \n",
    "    m_dgp = DGP(x_train, y_train, Z, dims, kernels, likelihood,\n",
    "                white=True, num_samples=1, num_data=N, minibatch_size=minibatch_size)\n",
    "    \n",
    "#     Initialise the layers to near deterministic\n",
    "    for layer in m_dgp.layers[:-1]:\n",
    "        layer.q_sqrt = gpflow.base.Parameter(layer.q_sqrt.value() * 1e-5, \n",
    "                                 transform=gpflow.utilities.triangular())\n",
    "    print(dims)\n",
    "    return m_dgp"
   ]
  },
  {
   "cell_type": "code",
   "execution_count": 14,
   "metadata": {},
   "outputs": [
    {
     "name": "stdout",
     "output_type": "stream",
     "text": [
      "[784, 30, 30, 10]\n"
     ]
    }
   ],
   "source": [
    "dgp = make_DGP(3)"
   ]
  },
  {
   "cell_type": "code",
   "execution_count": 23,
   "metadata": {},
   "outputs": [
    {
     "name": "stdout",
     "output_type": "stream",
     "text": [
      "[784, 30, 30, 30, 10]\n"
     ]
    }
   ],
   "source": [
    "dgp4 = make_DGP(4)"
   ]
  },
  {
   "cell_type": "code",
   "execution_count": 15,
   "metadata": {},
   "outputs": [
    {
     "data": {
      "text/html": [
       "<table>\n",
       "<thead>\n",
       "<tr><th>name                           </th><th>class    </th><th>transform  </th><th>trainable  </th><th>shape     </th><th>dtype  </th><th>value               </th></tr>\n",
       "</thead>\n",
       "<tbody>\n",
       "<tr><td>SVGP.kernel.variance           </td><td>Parameter</td><td>Softplus   </td><td>True       </td><td>()        </td><td>float64</td><td>1.0                 </td></tr>\n",
       "<tr><td>SVGP.kernel.lengthscale        </td><td>Parameter</td><td>Softplus   </td><td>True       </td><td>()        </td><td>float64</td><td>1.0                 </td></tr>\n",
       "<tr><td>SVGP.likelihood.invlink.epsilon</td><td>Parameter</td><td>Sigmoid    </td><td>False      </td><td>()        </td><td>float64</td><td>0.001000000047497451</td></tr>\n",
       "<tr><td>SVGP.inducing_variable.Z       </td><td>Parameter</td><td>           </td><td>True       </td><td>(100, 784)</td><td>float64</td><td>[[0., 0., 0....     </td></tr>\n",
       "<tr><td>SVGP.q_mu                      </td><td>Parameter</td><td>           </td><td>True       </td><td>(100, 10) </td><td>float64</td><td>[[0., 0., 0....     </td></tr>\n",
       "<tr><td>SVGP.q_sqrt                    </td><td>Parameter</td><td>Softplus   </td><td>True       </td><td>(100, 10) </td><td>float64</td><td>[[1., 1., 1....     </td></tr>\n",
       "</tbody>\n",
       "</table>"
      ],
      "text/plain": [
       "<IPython.core.display.HTML object>"
      ]
     },
     "metadata": {},
     "output_type": "display_data"
    }
   ],
   "source": [
    "gpflow.utilities.print_summary(m, fmt='notebook')"
   ]
  },
  {
   "cell_type": "code",
   "execution_count": 16,
   "metadata": {},
   "outputs": [
    {
     "data": {
      "text/html": [
       "<table>\n",
       "<thead>\n",
       "<tr><th>name                                     </th><th>class    </th><th>transform     </th><th>trainable  </th><th>shape         </th><th>dtype  </th><th>value                                               </th></tr>\n",
       "</thead>\n",
       "<tbody>\n",
       "<tr><td>DGP.likelihood.likelihood.invlink.epsilon</td><td>Parameter</td><td>Sigmoid       </td><td>False      </td><td>()            </td><td>float64</td><td>0.001000000047497451                                </td></tr>\n",
       "<tr><td>DGP.layers[0].q_mu                       </td><td>Parameter</td><td>              </td><td>True       </td><td>(100, 30)     </td><td>float64</td><td>[[0., 0., 0....                                     </td></tr>\n",
       "<tr><td>DGP.layers[0].q_sqrt                     </td><td>Parameter</td><td>FillTriangular</td><td>True       </td><td>(30, 100, 100)</td><td>float64</td><td>[[[1.e-05, 0.e+00, 0.e+00...                        </td></tr>\n",
       "<tr><td>DGP.layers[0].inducing_points.Z          </td><td>Parameter</td><td>              </td><td>True       </td><td>(100, 784)    </td><td>float64</td><td>[[0., 0., 0....                                     </td></tr>\n",
       "<tr><td>DGP.layers[0].kernel.variance            </td><td>Parameter</td><td>Softplus      </td><td>True       </td><td>()            </td><td>float64</td><td>1.0                                                 </td></tr>\n",
       "<tr><td>DGP.layers[0].kernel.lengthscale         </td><td>Parameter</td><td>Softplus      </td><td>True       </td><td>()            </td><td>float64</td><td>1.0                                                 </td></tr>\n",
       "<tr><td>DGP.layers[0].mean_function.A            </td><td>Parameter</td><td>              </td><td>False      </td><td>(784, 30)     </td><td>float64</td><td>[[3.03878051e-19, -7.55026968e-20, 5.75681528e-19...</td></tr>\n",
       "<tr><td>DGP.layers[0].mean_function.b            </td><td>Parameter</td><td>              </td><td>False      </td><td>(1,)          </td><td>float64</td><td>[0.]                                                </td></tr>\n",
       "<tr><td>DGP.layers[1].q_mu                       </td><td>Parameter</td><td>              </td><td>True       </td><td>(100, 30)     </td><td>float64</td><td>[[0., 0., 0....                                     </td></tr>\n",
       "<tr><td>DGP.layers[1].q_sqrt                     </td><td>Parameter</td><td>FillTriangular</td><td>True       </td><td>(30, 100, 100)</td><td>float64</td><td>[[[1.e-05, 0.e+00, 0.e+00...                        </td></tr>\n",
       "<tr><td>DGP.layers[1].inducing_points.Z          </td><td>Parameter</td><td>              </td><td>True       </td><td>(100, 30)     </td><td>float64</td><td>[[5.35332883, -0.9693082, 1.50373173...             </td></tr>\n",
       "<tr><td>DGP.layers[1].kernel.variance            </td><td>Parameter</td><td>Softplus      </td><td>True       </td><td>()            </td><td>float64</td><td>1.0                                                 </td></tr>\n",
       "<tr><td>DGP.layers[1].kernel.lengthscale         </td><td>Parameter</td><td>Softplus      </td><td>True       </td><td>()            </td><td>float64</td><td>1.0                                                 </td></tr>\n",
       "<tr><td>DGP.layers[2].q_mu                       </td><td>Parameter</td><td>              </td><td>True       </td><td>(100, 10)     </td><td>float64</td><td>[[0., 0., 0....                                     </td></tr>\n",
       "<tr><td>DGP.layers[2].q_sqrt                     </td><td>Parameter</td><td>FillTriangular</td><td>True       </td><td>(10, 100, 100)</td><td>float64</td><td>[[[1., 0., 0....                                    </td></tr>\n",
       "<tr><td>DGP.layers[2].inducing_points.Z          </td><td>Parameter</td><td>              </td><td>True       </td><td>(100, 30)     </td><td>float64</td><td>[[5.35332883, -0.9693082, 1.50373173...             </td></tr>\n",
       "<tr><td>DGP.layers[2].kernel.variance            </td><td>Parameter</td><td>Softplus      </td><td>True       </td><td>()            </td><td>float64</td><td>1.0                                                 </td></tr>\n",
       "<tr><td>DGP.layers[2].kernel.lengthscale         </td><td>Parameter</td><td>Softplus      </td><td>True       </td><td>()            </td><td>float64</td><td>1.0                                                 </td></tr>\n",
       "</tbody>\n",
       "</table>"
      ],
      "text/plain": [
       "<IPython.core.display.HTML object>"
      ]
     },
     "metadata": {},
     "output_type": "display_data"
    }
   ],
   "source": [
    "gpflow.utilities.print_summary(dgp, fmt='notebook')"
   ]
  },
  {
   "cell_type": "markdown",
   "metadata": {},
   "source": [
    "## Training : minimizing ELBO"
   ]
  },
  {
   "cell_type": "code",
   "execution_count": 17,
   "metadata": {},
   "outputs": [],
   "source": [
    "from tqdm import tqdm_notebook as tqdm"
   ]
  },
  {
   "cell_type": "code",
   "execution_count": 28,
   "metadata": {},
   "outputs": [],
   "source": [
    "@tf.function(autograph=False)\n",
    "def optimization_step(optimizer, model:gpflow.models.SVGP, batch):\n",
    "    with tf.GradientTape(watch_accessed_variables=False) as tape:\n",
    "        tape.watch(model.trainable_variables)\n",
    "        objective = - model.elbo(*batch)\n",
    "        grads = tape.gradient(objective, model.trainable_variables)\n",
    "    optimizer.apply_gradients(zip(grads, model.trainable_variables))\n",
    "    return objective\n",
    "\n",
    "@tf.function(autograph=False)\n",
    "def optimization_step_dgp(optimizer, model:dgp, batch):\n",
    "    with tf.GradientTape(watch_accessed_variables=False) as tape:\n",
    "        tape.watch(model.trainable_variables)\n",
    "        objective = - model.elbo(*batch, full_cov=False)\n",
    "        grads = tape.gradient(objective, model.trainable_variables)\n",
    "    optimizer.apply_gradients(zip(grads, model.trainable_variables))\n",
    "    return objective\n",
    "\n",
    "def run_adam(model, iterations):\n",
    "    logf = []\n",
    "    adam = tf.optimizers.Adam(0.01)\n",
    "    train_it = iter(train_ds.batch(minibatch_size))\n",
    "    for step in range(iterations):\n",
    "        elbo = - optimization_step(adam, model, next(train_it))\n",
    "        if step % 10 == 0:\n",
    "            logf.append(elbo.numpy())\n",
    "        if step % 1000 == 0:\n",
    "            print(elbo.numpy())\n",
    "    return logf\n",
    "\n",
    "def run_adam_dgp(model, iterations):\n",
    "    logf = []\n",
    "    adam = tf.optimizers.Adam(0.01)\n",
    "    train_it = iter(train_ds.batch(minibatch_size))\n",
    "    for step in tqdm(range(iterations)):\n",
    "        elbo = - optimization_step_dgp(adam, model, next(train_it))\n",
    "        if step % 10 == 0:\n",
    "            logf.append(elbo.numpy())\n",
    "        if step % 1000 == 0:\n",
    "            print(elbo.numpy())\n",
    "    return logf"
   ]
  },
  {
   "cell_type": "code",
   "execution_count": 17,
   "metadata": {},
   "outputs": [
    {
     "name": "stdout",
     "output_type": "stream",
     "text": [
      "WARNING:tensorflow:From /homes/rx220/env/lib/python3.7/site-packages/tensorflow_core/python/ops/math_grad.py:281: setdiff1d (from tensorflow.python.ops.array_ops) is deprecated and will be removed after 2018-11-30.\n",
      "Instructions for updating:\n",
      "This op will be removed after the deprecation date. Please switch to tf.sets.difference().\n",
      "-8195.135717501042\n",
      "-2225.3925711937236\n",
      "-2039.618660661018\n",
      "-1966.4789163258902\n",
      "-2104.82113431546\n"
     ]
    },
    {
     "data": {
      "text/plain": [
       "Text(0.5, 1.0, 'ELBO of single layer SVGP')"
      ]
     },
     "execution_count": 17,
     "metadata": {},
     "output_type": "execute_result"
    },
    {
     "data": {
      "image/png": "[encoded data removed]",
      "text/plain": [
       "<Figure size 432x288 with 1 Axes>"
      ]
     },
     "metadata": {},
     "output_type": "display_data"
    }
   ],
   "source": [
    "maxiter = ci_niter(5000)\n",
    "logf = run_adam(m, maxiter)\n",
    "plt.plot(np.arange(maxiter)[::10], logf)\n",
    "plt.xlabel('iteration')\n",
    "plt.ylabel('ELBO');\n",
    "plt.title('ELBO of single layer SVGP')"
   ]
  },
  {
   "cell_type": "code",
   "execution_count": 19,
   "metadata": {},
   "outputs": [
    {
     "name": "stderr",
     "output_type": "stream",
     "text": [
      "/homes/rx220/env/lib/python3.7/site-packages/ipykernel_launcher.py:35: TqdmDeprecationWarning: This function will be removed in tqdm==5.0.0\n",
      "Please use `tqdm.notebook.tqdm` instead of `tqdm.tqdm_notebook`\n"
     ]
    },
    {
     "data": {
      "application/vnd.jupyter.widget-view+json": {
       "model_id": "356fa80878c0499aadd10cb1a62eced6",
       "version_major": 2,
       "version_minor": 0
      },
      "text/plain": [
       "HBox(children=(FloatProgress(value=0.0, max=5000.0), HTML(value='')))"
      ]
     },
     "metadata": {},
     "output_type": "display_data"
    },
    {
     "name": "stdout",
     "output_type": "stream",
     "text": [
      "WARNING:tensorflow:From /homes/rx220/env/lib/python3.7/site-packages/tensorflow_core/python/ops/math_grad.py:281: setdiff1d (from tensorflow.python.ops.array_ops) is deprecated and will be removed after 2018-11-30.\n",
      "Instructions for updating:\n",
      "This op will be removed after the deprecation date. Please switch to tf.sets.difference().\n",
      "-557785.6958401834\n",
      "-53513.73276001887\n",
      "-36229.7192907252\n",
      "-31958.922188043707\n",
      "-28000.593622674736\n",
      "\n"
     ]
    },
    {
     "data": {
      "text/plain": [
       "Text(0.5, 1.0, 'ELBO of DGP')"
      ]
     },
     "execution_count": 19,
     "metadata": {},
     "output_type": "execute_result"
    },
    {
     "data": {
      "image/png": "[encoded data removed]",
      "text/plain": [
       "<Figure size 432x288 with 1 Axes>"
      ]
     },
     "metadata": {},
     "output_type": "display_data"
    }
   ],
   "source": [
    "maxiter = ci_niter(5000)\n",
    "logf_dgp = run_adam_dgp(dgp, maxiter)\n",
    "plt.plot(np.arange(maxiter)[::10], logf_dgp)\n",
    "plt.xlabel('iteration')\n",
    "plt.ylabel('ELBO')\n",
    "plt.title('ELBO of DGP')"
   ]
  },
  {
   "cell_type": "code",
   "execution_count": 29,
   "metadata": {},
   "outputs": [
    {
     "name": "stderr",
     "output_type": "stream",
     "text": [
      "/homes/rx220/env/lib/python3.7/site-packages/ipykernel_launcher.py:35: TqdmDeprecationWarning: This function will be removed in tqdm==5.0.0\n",
      "Please use `tqdm.notebook.tqdm` instead of `tqdm.tqdm_notebook`\n"
     ]
    },
    {
     "data": {
      "application/vnd.jupyter.widget-view+json": {
       "model_id": "6999a3eaf4874b9185bfdaf6d8546f8c",
       "version_major": 2,
       "version_minor": 0
      },
      "text/plain": [
       "HBox(children=(FloatProgress(value=0.0, max=10000.0), HTML(value='')))"
      ]
     },
     "metadata": {},
     "output_type": "display_data"
    },
    {
     "name": "stdout",
     "output_type": "stream",
     "text": [
      "-496983.1257612001\n",
      "-491708.1528868445\n",
      "-491708.1675503412\n",
      "-491708.1758378583\n",
      "-491708.1612397242\n",
      "-491708.1674598133\n",
      "-491708.16440332565\n",
      "-491708.1636229375\n",
      "-491708.1639019484\n",
      "-491708.16427307006\n",
      "\n"
     ]
    },
    {
     "data": {
      "text/plain": [
       "Text(0.5, 1.0, 'ELBO of DGP')"
      ]
     },
     "execution_count": 29,
     "metadata": {},
     "output_type": "execute_result"
    },
    {
     "data": {
      "image/png": "[encoded data removed]",
      "text/plain": [
       "<Figure size 432x288 with 1 Axes>"
      ]
     },
     "metadata": {},
     "output_type": "display_data"
    }
   ],
   "source": [
    "maxiter = ci_niter(10000)\n",
    "logf_dgp = run_adam_dgp(dgp4, maxiter)\n",
    "plt.plot(np.arange(maxiter)[::10], logf_dgp)\n",
    "plt.xlabel('iteration')\n",
    "plt.ylabel('ELBO')\n",
    "plt.title('ELBO of DGP')"
   ]
  },
  {
   "cell_type": "markdown",
   "metadata": {},
   "source": [
    "## Test Accuracy\n",
    "SVGP: simply take the max mean prediction\n",
    "DGP: We need a single prediction for each datum, so to do this we take $S$ samples for the one-hot predictions ($(S, N, 10)$ matrices for mean and var), then we take the max over the class means (to give a $(S, N)$ matrix), and finally we take the modal class over the samples (to give a vector of length $N$):"
   ]
  },
  {
   "cell_type": "code",
   "execution_count": 20,
   "metadata": {},
   "outputs": [],
   "source": [
    "def assess_model_sgp(model, X_batch, Y_batch):\n",
    "    m, v = model.predict_y(X_batch)\n",
    "    l = model.predict_log_density([X_batch, Y_batch])\n",
    "    a = (np.argmax(m, 1).reshape(Y_batch.shape).astype(int)==Y_batch.astype(int))\n",
    "    return l, a\n",
    "\n",
    "S = 100\n",
    "def assess_model_dgp(model, X_batch, Y_batch):\n",
    "    m, v = model.predict_y(X_batch, S)\n",
    "    l = model.predict_density(X_batch, Y_batch, S)\n",
    "    a = (mode(np.argmax(m, 2), 0)[0].reshape(Y_batch.shape).astype(int)==Y_batch.astype(int))\n",
    "    return l, a"
   ]
  },
  {
   "cell_type": "code",
   "execution_count": 21,
   "metadata": {},
   "outputs": [],
   "source": [
    "def batch_assess(model, assess_model, X, Y):\n",
    "    n_batches = max(int(len(X)/1000), 1)\n",
    "    lik, acc = [], []\n",
    "    for X_batch, Y_batch in zip(np.split(X, n_batches), np.split(Y, n_batches)):\n",
    "        l, a = assess_model(model, X_batch, Y_batch)\n",
    "        lik.append(l)\n",
    "        acc.append(a)\n",
    "    lik = np.concatenate(lik, 0)\n",
    "    acc = np.array(np.concatenate(acc, 0), dtype=float)\n",
    "    return np.average(lik), np.average(acc)"
   ]
  },
  {
   "cell_type": "code",
   "execution_count": 23,
   "metadata": {
    "scrolled": true
   },
   "outputs": [
    {
     "name": "stdout",
     "output_type": "stream",
     "text": [
      "dgp2 test lik: -0.0793, test acc 0.9778\n"
     ]
    }
   ],
   "source": [
    "l, a = batch_assess(dgp, assess_model_dgp, x_test, y_test)\n",
    "print('dgp2 test lik: {:.4f}, test acc {:.4f}'.format(l, a))"
   ]
  },
  {
   "cell_type": "code",
   "execution_count": 22,
   "metadata": {},
   "outputs": [
    {
     "name": "stdout",
     "output_type": "stream",
     "text": [
      "dgp3 test lik: -0.0755, test acc 0.9783\n"
     ]
    }
   ],
   "source": [
    "l, a = batch_assess(dgp, assess_model_dgp, x_test, y_test)\n",
    "print('dgp3 test lik: {:.4f}, test acc {:.4f}'.format(l, a))"
   ]
  },
  {
   "cell_type": "code",
   "execution_count": 30,
   "metadata": {},
   "outputs": [
    {
     "name": "stdout",
     "output_type": "stream",
     "text": [
      "dgp4 test lik: -2.3032, test acc 0.0980\n"
     ]
    }
   ],
   "source": [
    "l, a = batch_assess(dgp4, assess_model_dgp, x_test, y_test)\n",
    "print('dgp4 test lik: {:.4f}, test acc {:.4f}'.format(l, a))"
   ]
  },
  {
   "cell_type": "code",
   "execution_count": 22,
   "metadata": {},
   "outputs": [
    {
     "name": "stdout",
     "output_type": "stream",
     "text": [
      "sgp test lik: -0.2807, test acc 0.9226\n"
     ]
    }
   ],
   "source": [
    "l, a = batch_assess(m, assess_model_sgp, x_test, y_test)\n",
    "print('sgp test lik: {:.4f}, test acc {:.4f}'.format(l, a))"
   ]
  },
  {
   "cell_type": "code",
   "execution_count": null,
   "metadata": {},
   "outputs": [],
   "source": []
  }
 ],
 "metadata": {
  "kernelspec": {
   "display_name": "Python 3",
   "language": "python",
   "name": "python3"
  },
  "language_info": {
   "codemirror_mode": {
    "name": "ipython",
    "version": 3
   },
   "file_extension": ".py",
   "mimetype": "text/x-python",
   "name": "python",
   "nbconvert_exporter": "python",
   "pygments_lexer": "ipython3",
   "version": "3.7.0"
  }
 },
 "nbformat": 4,
 "nbformat_minor": 4
}
